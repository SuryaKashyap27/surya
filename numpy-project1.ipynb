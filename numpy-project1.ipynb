{
 "cells": [
  {
   "cell_type": "code",
   "execution_count": 1,
   "id": "722ac0f6-5201-41e7-83ef-1a55b31f66c9",
   "metadata": {},
   "outputs": [],
   "source": [
    "import numpy as np"
   ]
  },
  {
   "cell_type": "raw",
   "id": "d89aa1e3-f316-411a-8132-cb14a883a7ca",
   "metadata": {},
   "source": [
    "Numpy is a python library that provides a multidimensional array object"
   ]
  },
  {
   "cell_type": "code",
   "execution_count": 2,
   "id": "9769bbd4-accf-4716-a0e3-f857b91b5093",
   "metadata": {},
   "outputs": [],
   "source": [
    "# creation of 1-D array"
   ]
  },
  {
   "cell_type": "code",
   "execution_count": 3,
   "id": "6ea3524d-dc8c-4da1-b10c-001b54182792",
   "metadata": {},
   "outputs": [
    {
     "data": {
      "text/plain": [
       "array([1, 2, 3, 4, 5])"
      ]
     },
     "execution_count": 3,
     "metadata": {},
     "output_type": "execute_result"
    }
   ],
   "source": [
    "np.array([1,2,3,4,5])\n",
    "         "
   ]
  },
  {
   "cell_type": "code",
   "execution_count": null,
   "id": "f73b2dec-a4ce-485a-a913-b9b964dec5a6",
   "metadata": {},
   "outputs": [],
   "source": []
  },
  {
   "cell_type": "code",
   "execution_count": 4,
   "id": "edcdd88f-7ebb-41b4-96ba-6f8b05c8bfbf",
   "metadata": {},
   "outputs": [
    {
     "data": {
      "text/plain": [
       "array([ 1, 22,  3,  4,  4,  5])"
      ]
     },
     "execution_count": 4,
     "metadata": {},
     "output_type": "execute_result"
    }
   ],
   "source": [
    "a=np.array([1,22,3,4,4,5])\n",
    "a"
   ]
  },
  {
   "cell_type": "code",
   "execution_count": 5,
   "id": "7b06a60f-6197-42eb-91dd-8107bccfd759",
   "metadata": {},
   "outputs": [
    {
     "name": "stdout",
     "output_type": "stream",
     "text": [
      "[ 1 22  3  4  4  5]\n"
     ]
    }
   ],
   "source": [
    "print(a)"
   ]
  },
  {
   "cell_type": "code",
   "execution_count": 6,
   "id": "430e81bf-4acf-4b18-aaf5-bfa3b955b162",
   "metadata": {},
   "outputs": [
    {
     "data": {
      "text/plain": [
       "numpy.ndarray"
      ]
     },
     "execution_count": 6,
     "metadata": {},
     "output_type": "execute_result"
    }
   ],
   "source": [
    "type(a)"
   ]
  },
  {
   "cell_type": "markdown",
   "id": "dd5739b1-4699-4523-b803-b22152ff23a4",
   "metadata": {},
   "source": [
    "# 2D-array declaration"
   ]
  },
  {
   "cell_type": "code",
   "execution_count": 7,
   "id": "25987e4b-70ba-4872-ac9f-c61ef9292aa6",
   "metadata": {},
   "outputs": [
    {
     "data": {
      "text/plain": [
       "array([[ 1,  2,  3,  4,  5],\n",
       "       [ 6,  7,  8,  9, 10]])"
      ]
     },
     "execution_count": 7,
     "metadata": {},
     "output_type": "execute_result"
    }
   ],
   "source": [
    "_2D=np.array([[1,2,3,4,5],[6,7,8,9,10]])\n",
    "_2D"
   ]
  },
  {
   "cell_type": "code",
   "execution_count": 8,
   "id": "788b1d93-03d2-4f58-ae04-7afb34face8b",
   "metadata": {},
   "outputs": [
    {
     "data": {
      "text/plain": [
       "numpy.ndarray"
      ]
     },
     "execution_count": 8,
     "metadata": {},
     "output_type": "execute_result"
    }
   ],
   "source": [
    "type(_2D)"
   ]
  },
  {
   "cell_type": "markdown",
   "id": "b0c30c95-eade-4c7c-9434-4d16bc1a52db",
   "metadata": {},
   "source": [
    "# 3D array"
   ]
  },
  {
   "cell_type": "code",
   "execution_count": 9,
   "id": "de2518b5-c669-4d56-92e3-3548dcfea347",
   "metadata": {},
   "outputs": [
    {
     "data": {
      "text/plain": [
       "array([[1, 2, 3, 4, 5],\n",
       "       [6, 7, 8, 8, 9]])"
      ]
     },
     "execution_count": 9,
     "metadata": {},
     "output_type": "execute_result"
    }
   ],
   "source": [
    "np.array([[1,2,3,4,5],[6,7,8,8,9]])"
   ]
  },
  {
   "cell_type": "code",
   "execution_count": 10,
   "id": "6dd75c38-05b2-47ba-81bb-e295e8d8c2dd",
   "metadata": {},
   "outputs": [
    {
     "data": {
      "text/plain": [
       "array([[ True,  True,  True,  True],\n",
       "       [ True,  True,  True,  True]])"
      ]
     },
     "execution_count": 10,
     "metadata": {},
     "output_type": "execute_result"
    }
   ],
   "source": [
    "_3d=np.array([[1,3,2,5],[6,7,8,9]],dtype=bool)\n",
    "_3d"
   ]
  },
  {
   "cell_type": "code",
   "execution_count": 11,
   "id": "3dafeb92-70d3-4c25-8535-a2a17d04cb62",
   "metadata": {},
   "outputs": [
    {
     "name": "stdout",
     "output_type": "stream",
     "text": [
      "[[ True  True  True  True]\n",
      " [ True  True  True  True]]\n"
     ]
    }
   ],
   "source": [
    "print(_3d)"
   ]
  },
  {
   "cell_type": "markdown",
   "id": "f786b13c-c49e-4244-a91f-90aac69450d4",
   "metadata": {},
   "source": [
    "# numpy array vs python sequence"
   ]
  },
  {
   "cell_type": "code",
   "execution_count": 12,
   "id": "2f24bc4d-ca9f-4723-b06a-9ff5e7e1f326",
   "metadata": {},
   "outputs": [],
   "source": [
    "#a new arry as a fixed size(unlike lists which can dynamically grow)\n",
    "#changing the size of array will creat a new array and delete the present one\n",
    "#the elements in the present array should be of the same datatypes so that it will contain same size"
   ]
  },
  {
   "cell_type": "markdown",
   "id": "fe2ee1c7-1142-4a4e-8a13-4a9d16c40904",
   "metadata": {},
   "source": [
    "# arange "
   ]
  },
  {
   "cell_type": "code",
   "execution_count": 13,
   "id": "6fd1dc56-6d14-40ad-8dec-6a07329846b8",
   "metadata": {},
   "outputs": [
    {
     "data": {
      "text/plain": [
       "array([1, 2, 3])"
      ]
     },
     "execution_count": 13,
     "metadata": {},
     "output_type": "execute_result"
    }
   ],
   "source": [
    "np.arange(1,4)"
   ]
  },
  {
   "cell_type": "code",
   "execution_count": 14,
   "id": "2bf364f9-8851-4d80-a923-c9dde74ce51f",
   "metadata": {},
   "outputs": [
    {
     "data": {
      "text/plain": [
       "array([1, 2, 3, 4, 5, 6, 7, 8])"
      ]
     },
     "execution_count": 14,
     "metadata": {},
     "output_type": "execute_result"
    }
   ],
   "source": [
    "np.arange(1,9)"
   ]
  },
  {
   "cell_type": "code",
   "execution_count": 15,
   "id": "1e3160ae-53ce-4913-92a0-4e6bc3a381bf",
   "metadata": {},
   "outputs": [
    {
     "data": {
      "text/plain": [
       "array([-10,  -9,  -8,  -7,  -6,  -5,  -4,  -3,  -2,  -1,   0,   1,   2,\n",
       "         3,   4,   5,   6,   7,   8,   9])"
      ]
     },
     "execution_count": 15,
     "metadata": {},
     "output_type": "execute_result"
    }
   ],
   "source": [
    "np.arange(-10,10)"
   ]
  },
  {
   "cell_type": "code",
   "execution_count": 16,
   "id": "36315794-03cd-4e3e-8eb0-1f90a0f3073d",
   "metadata": {},
   "outputs": [
    {
     "data": {
      "text/plain": [
       "array([-10,  -8,  -6,  -4,  -2,   0,   2,   4,   6,   8])"
      ]
     },
     "execution_count": 16,
     "metadata": {},
     "output_type": "execute_result"
    }
   ],
   "source": [
    "np.arange(-10,10,2)\n"
   ]
  },
  {
   "cell_type": "code",
   "execution_count": 17,
   "id": "97452153-29f6-4ffb-8f81-f4cb03d5e086",
   "metadata": {},
   "outputs": [
    {
     "data": {
      "text/plain": [
       "10"
      ]
     },
     "execution_count": 17,
     "metadata": {},
     "output_type": "execute_result"
    }
   ],
   "source": [
    "len(np.arange(-10,10,2))"
   ]
  },
  {
   "cell_type": "markdown",
   "id": "7f39aea6-0690-4acd-8c3a-fd26264fa988",
   "metadata": {},
   "source": [
    "# 2-reshape"
   ]
  },
  {
   "cell_type": "code",
   "execution_count": 18,
   "id": "7ad187c5-3a43-4933-aee3-ebb642115cac",
   "metadata": {},
   "outputs": [
    {
     "data": {
      "text/plain": [
       "array([[-10,  -8],\n",
       "       [ -6,  -4],\n",
       "       [ -2,   0],\n",
       "       [  2,   4],\n",
       "       [  6,   8]])"
      ]
     },
     "execution_count": 18,
     "metadata": {},
     "output_type": "execute_result"
    }
   ],
   "source": [
    "np.arange(-10,10,2).reshape(5,2)"
   ]
  },
  {
   "cell_type": "code",
   "execution_count": 19,
   "id": "077f79e0-ffb2-41bb-9d69-f13b0c307828",
   "metadata": {},
   "outputs": [
    {
     "data": {
      "text/plain": [
       "array([[2, 3, 4, 5, 6, 7, 8]])"
      ]
     },
     "execution_count": 19,
     "metadata": {},
     "output_type": "execute_result"
    }
   ],
   "source": [
    "np.arange(2,9).reshape(1,7)"
   ]
  },
  {
   "cell_type": "code",
   "execution_count": 20,
   "id": "d890d8fa-a900-440b-8649-e0f8fc094482",
   "metadata": {},
   "outputs": [
    {
     "data": {
      "text/plain": [
       "array([2, 5, 8])"
      ]
     },
     "execution_count": 20,
     "metadata": {},
     "output_type": "execute_result"
    }
   ],
   "source": [
    "np.arange(2,9,3)\n",
    "          "
   ]
  },
  {
   "cell_type": "code",
   "execution_count": 21,
   "id": "823de70d-3299-46f6-8b3d-9d44b5ae22b9",
   "metadata": {},
   "outputs": [
    {
     "data": {
      "text/plain": [
       "array([[2, 5, 8]])"
      ]
     },
     "execution_count": 21,
     "metadata": {},
     "output_type": "execute_result"
    }
   ],
   "source": [
    "np.arange(2,9,3).reshape(1,3)"
   ]
  },
  {
   "cell_type": "markdown",
   "id": "d55fc826-d95f-4f8c-b3cf-ed2fffbeb4e6",
   "metadata": {},
   "source": [
    "# 3-ones"
   ]
  },
  {
   "cell_type": "code",
   "execution_count": 22,
   "id": "f5a92f32-3289-4df3-9ba7-9c09ffa6fc12",
   "metadata": {},
   "outputs": [
    {
     "data": {
      "text/plain": [
       "array([1., 1., 1., 1., 1., 1., 1., 1., 1.])"
      ]
     },
     "execution_count": 22,
     "metadata": {},
     "output_type": "execute_result"
    }
   ],
   "source": [
    "np.ones(9)"
   ]
  },
  {
   "cell_type": "code",
   "execution_count": 23,
   "id": "0a294e8d-a982-4215-8e0f-81b00ecc237c",
   "metadata": {},
   "outputs": [
    {
     "data": {
      "text/plain": [
       "array([[1., 1., 1., 1., 1., 1., 1., 1., 1.],\n",
       "       [1., 1., 1., 1., 1., 1., 1., 1., 1.],\n",
       "       [1., 1., 1., 1., 1., 1., 1., 1., 1.],\n",
       "       [1., 1., 1., 1., 1., 1., 1., 1., 1.],\n",
       "       [1., 1., 1., 1., 1., 1., 1., 1., 1.],\n",
       "       [1., 1., 1., 1., 1., 1., 1., 1., 1.],\n",
       "       [1., 1., 1., 1., 1., 1., 1., 1., 1.],\n",
       "       [1., 1., 1., 1., 1., 1., 1., 1., 1.],\n",
       "       [1., 1., 1., 1., 1., 1., 1., 1., 1.]])"
      ]
     },
     "execution_count": 23,
     "metadata": {},
     "output_type": "execute_result"
    }
   ],
   "source": [
    "np.ones((9,9))#in this we have given multiple rows and multiple columns"
   ]
  },
  {
   "cell_type": "code",
   "execution_count": 24,
   "id": "24dbeda5-433b-4cb3-bc60-3760f3b92016",
   "metadata": {},
   "outputs": [
    {
     "data": {
      "text/plain": [
       "array([[[1., 1., 1.],\n",
       "        [1., 1., 1.],\n",
       "        [1., 1., 1.],\n",
       "        [1., 1., 1.],\n",
       "        [1., 1., 1.],\n",
       "        [1., 1., 1.],\n",
       "        [1., 1., 1.],\n",
       "        [1., 1., 1.],\n",
       "        [1., 1., 1.]]])"
      ]
     },
     "execution_count": 24,
     "metadata": {},
     "output_type": "execute_result"
    }
   ],
   "source": [
    "np.ones((1,9,3))"
   ]
  },
  {
   "cell_type": "markdown",
   "id": "74380c8f-e0e5-4a70-8931-d5c8b4206501",
   "metadata": {},
   "source": [
    "# 4-Zeros"
   ]
  },
  {
   "cell_type": "code",
   "execution_count": 25,
   "id": "1542206a-8595-4d6f-a3b0-0da29a3d1209",
   "metadata": {},
   "outputs": [
    {
     "data": {
      "text/plain": [
       "array([0., 0., 0., 0., 0., 0., 0., 0., 0.])"
      ]
     },
     "execution_count": 25,
     "metadata": {},
     "output_type": "execute_result"
    }
   ],
   "source": [
    "np.zeros(9)"
   ]
  },
  {
   "cell_type": "code",
   "execution_count": 26,
   "id": "3171918a-76e3-42d0-a949-8be6656e0fbc",
   "metadata": {},
   "outputs": [],
   "source": [
    "a=np.zeros(9)"
   ]
  },
  {
   "cell_type": "code",
   "execution_count": 27,
   "id": "ebff67fd-6ee4-4444-98c9-1d02b770059d",
   "metadata": {},
   "outputs": [
    {
     "data": {
      "text/plain": [
       "array([0., 0., 0., 0., 0., 0., 0., 0., 0.])"
      ]
     },
     "execution_count": 27,
     "metadata": {},
     "output_type": "execute_result"
    }
   ],
   "source": [
    "a"
   ]
  },
  {
   "cell_type": "code",
   "execution_count": 28,
   "id": "313f53d0-b936-4c1f-8873-6dc9dcbd5c6c",
   "metadata": {},
   "outputs": [
    {
     "data": {
      "text/plain": [
       "array([[[0., 0., 0., 0., 0., 0.],\n",
       "        [0., 0., 0., 0., 0., 0.],\n",
       "        [0., 0., 0., 0., 0., 0.],\n",
       "        [0., 0., 0., 0., 0., 0.],\n",
       "        [0., 0., 0., 0., 0., 0.],\n",
       "        [0., 0., 0., 0., 0., 0.]],\n",
       "\n",
       "       [[0., 0., 0., 0., 0., 0.],\n",
       "        [0., 0., 0., 0., 0., 0.],\n",
       "        [0., 0., 0., 0., 0., 0.],\n",
       "        [0., 0., 0., 0., 0., 0.],\n",
       "        [0., 0., 0., 0., 0., 0.],\n",
       "        [0., 0., 0., 0., 0., 0.]],\n",
       "\n",
       "       [[0., 0., 0., 0., 0., 0.],\n",
       "        [0., 0., 0., 0., 0., 0.],\n",
       "        [0., 0., 0., 0., 0., 0.],\n",
       "        [0., 0., 0., 0., 0., 0.],\n",
       "        [0., 0., 0., 0., 0., 0.],\n",
       "        [0., 0., 0., 0., 0., 0.]],\n",
       "\n",
       "       [[0., 0., 0., 0., 0., 0.],\n",
       "        [0., 0., 0., 0., 0., 0.],\n",
       "        [0., 0., 0., 0., 0., 0.],\n",
       "        [0., 0., 0., 0., 0., 0.],\n",
       "        [0., 0., 0., 0., 0., 0.],\n",
       "        [0., 0., 0., 0., 0., 0.]],\n",
       "\n",
       "       [[0., 0., 0., 0., 0., 0.],\n",
       "        [0., 0., 0., 0., 0., 0.],\n",
       "        [0., 0., 0., 0., 0., 0.],\n",
       "        [0., 0., 0., 0., 0., 0.],\n",
       "        [0., 0., 0., 0., 0., 0.],\n",
       "        [0., 0., 0., 0., 0., 0.]],\n",
       "\n",
       "       [[0., 0., 0., 0., 0., 0.],\n",
       "        [0., 0., 0., 0., 0., 0.],\n",
       "        [0., 0., 0., 0., 0., 0.],\n",
       "        [0., 0., 0., 0., 0., 0.],\n",
       "        [0., 0., 0., 0., 0., 0.],\n",
       "        [0., 0., 0., 0., 0., 0.]],\n",
       "\n",
       "       [[0., 0., 0., 0., 0., 0.],\n",
       "        [0., 0., 0., 0., 0., 0.],\n",
       "        [0., 0., 0., 0., 0., 0.],\n",
       "        [0., 0., 0., 0., 0., 0.],\n",
       "        [0., 0., 0., 0., 0., 0.],\n",
       "        [0., 0., 0., 0., 0., 0.]],\n",
       "\n",
       "       [[0., 0., 0., 0., 0., 0.],\n",
       "        [0., 0., 0., 0., 0., 0.],\n",
       "        [0., 0., 0., 0., 0., 0.],\n",
       "        [0., 0., 0., 0., 0., 0.],\n",
       "        [0., 0., 0., 0., 0., 0.],\n",
       "        [0., 0., 0., 0., 0., 0.]],\n",
       "\n",
       "       [[0., 0., 0., 0., 0., 0.],\n",
       "        [0., 0., 0., 0., 0., 0.],\n",
       "        [0., 0., 0., 0., 0., 0.],\n",
       "        [0., 0., 0., 0., 0., 0.],\n",
       "        [0., 0., 0., 0., 0., 0.],\n",
       "        [0., 0., 0., 0., 0., 0.]]])"
      ]
     },
     "execution_count": 28,
     "metadata": {},
     "output_type": "execute_result"
    }
   ],
   "source": [
    "np.zeros((9,6,6))"
   ]
  },
  {
   "cell_type": "markdown",
   "id": "3bb1fdeb-f67f-44ce-877a-1216a780ba6e",
   "metadata": {},
   "source": [
    "# 5-random function"
   ]
  },
  {
   "cell_type": "code",
   "execution_count": 29,
   "id": "bd4df92c-73ee-41c2-af11-98d3aed4d21a",
   "metadata": {},
   "outputs": [
    {
     "data": {
      "text/plain": [
       "array([0.83724166, 0.13346994, 0.67354468, 0.61923132])"
      ]
     },
     "execution_count": 29,
     "metadata": {},
     "output_type": "execute_result"
    }
   ],
   "source": [
    "np.random.random(4)"
   ]
  },
  {
   "cell_type": "code",
   "execution_count": 30,
   "id": "6d8465dd-7275-42d2-be4b-b7e46449d5a7",
   "metadata": {},
   "outputs": [
    {
     "data": {
      "text/plain": [
       "array([[0.82559791, 0.77776361, 0.63839764, 0.60475001],\n",
       "       [0.46419494, 0.96085781, 0.7971277 , 0.62679517],\n",
       "       [0.96346544, 0.23396464, 0.15620793, 0.59727024],\n",
       "       [0.74600587, 0.51610768, 0.94634832, 0.23473044]])"
      ]
     },
     "execution_count": 30,
     "metadata": {},
     "output_type": "execute_result"
    }
   ],
   "source": [
    "np.random.random((4,4))"
   ]
  },
  {
   "cell_type": "markdown",
   "id": "834c6f4e-fb67-483f-805f-4a3315861665",
   "metadata": {},
   "source": [
    "# 6-linspace"
   ]
  },
  {
   "cell_type": "code",
   "execution_count": 31,
   "id": "c4e95646-0029-4531-87ae-ad7843bdf3ee",
   "metadata": {},
   "outputs": [],
   "source": [
    "#it is also called as linearly space,linearly separable"
   ]
  },
  {
   "cell_type": "code",
   "execution_count": 32,
   "id": "9149dafb-733d-47a3-86e0-164f5541ce43",
   "metadata": {},
   "outputs": [
    {
     "data": {
      "text/plain": [
       "array([-10.        ,  -7.77777778,  -5.55555556,  -3.33333333,\n",
       "        -1.11111111,   1.11111111,   3.33333333,   5.55555556,\n",
       "         7.77777778,  10.        ])"
      ]
     },
     "execution_count": 32,
     "metadata": {},
     "output_type": "execute_result"
    }
   ],
   "source": [
    "np.linspace(-10,10,10)"
   ]
  },
  {
   "cell_type": "code",
   "execution_count": 33,
   "id": "eeee2da1-e20b-4b81-a41e-a30e0283acc1",
   "metadata": {},
   "outputs": [
    {
     "data": {
      "text/plain": [
       "array([ 2.        ,  2.42105263,  2.84210526,  3.26315789,  3.68421053,\n",
       "        4.10526316,  4.52631579,  4.94736842,  5.36842105,  5.78947368,\n",
       "        6.21052632,  6.63157895,  7.05263158,  7.47368421,  7.89473684,\n",
       "        8.31578947,  8.73684211,  9.15789474,  9.57894737, 10.        ])"
      ]
     },
     "execution_count": 33,
     "metadata": {},
     "output_type": "execute_result"
    }
   ],
   "source": [
    "np.linspace(2,10,20)"
   ]
  },
  {
   "cell_type": "code",
   "execution_count": 34,
   "id": "add02d32-92e2-438b-b392-aeedc2b6607b",
   "metadata": {},
   "outputs": [
    {
     "data": {
      "text/plain": [
       "array([ 0.        ,  1.11235955,  2.2247191 ,  3.33707865,  4.4494382 ,\n",
       "        5.56179775,  6.6741573 ,  7.78651685,  8.8988764 , 10.01123596,\n",
       "       11.12359551, 12.23595506, 13.34831461, 14.46067416, 15.57303371,\n",
       "       16.68539326, 17.79775281, 18.91011236, 20.02247191, 21.13483146,\n",
       "       22.24719101, 23.35955056, 24.47191011, 25.58426966, 26.69662921,\n",
       "       27.80898876, 28.92134831, 30.03370787, 31.14606742, 32.25842697,\n",
       "       33.37078652, 34.48314607, 35.59550562, 36.70786517, 37.82022472,\n",
       "       38.93258427, 40.04494382, 41.15730337, 42.26966292, 43.38202247,\n",
       "       44.49438202, 45.60674157, 46.71910112, 47.83146067, 48.94382022,\n",
       "       50.05617978, 51.16853933, 52.28089888, 53.39325843, 54.50561798,\n",
       "       55.61797753, 56.73033708, 57.84269663, 58.95505618, 60.06741573,\n",
       "       61.17977528, 62.29213483, 63.40449438, 64.51685393, 65.62921348,\n",
       "       66.74157303, 67.85393258, 68.96629213, 70.07865169, 71.19101124,\n",
       "       72.30337079, 73.41573034, 74.52808989, 75.64044944, 76.75280899,\n",
       "       77.86516854, 78.97752809, 80.08988764, 81.20224719, 82.31460674,\n",
       "       83.42696629, 84.53932584, 85.65168539, 86.76404494, 87.87640449,\n",
       "       88.98876404, 90.1011236 , 91.21348315, 92.3258427 , 93.43820225,\n",
       "       94.5505618 , 95.66292135, 96.7752809 , 97.88764045, 99.        ])"
      ]
     },
     "execution_count": 34,
     "metadata": {},
     "output_type": "execute_result"
    }
   ],
   "source": [
    "np.linspace(0,99,90)"
   ]
  },
  {
   "cell_type": "code",
   "execution_count": 35,
   "id": "79472cc9-f357-4919-a124-e6da078d0de0",
   "metadata": {},
   "outputs": [
    {
     "data": {
      "text/plain": [
       "array([ True,  True,  True,  True,  True,  True])"
      ]
     },
     "execution_count": 35,
     "metadata": {},
     "output_type": "execute_result"
    }
   ],
   "source": [
    "np.linspace(-2,12,6,dtype=bool)"
   ]
  },
  {
   "cell_type": "markdown",
   "id": "1f0c32f2-e715-4457-9e59-533ea86487df",
   "metadata": {},
   "source": [
    "# 7-identity"
   ]
  },
  {
   "cell_type": "code",
   "execution_count": 36,
   "id": "f50af787-2a79-4b51-9a12-c03afa0646f9",
   "metadata": {},
   "outputs": [
    {
     "data": {
      "text/plain": [
       "array([[1., 0., 0.],\n",
       "       [0., 1., 0.],\n",
       "       [0., 0., 1.]])"
      ]
     },
     "execution_count": 36,
     "metadata": {},
     "output_type": "execute_result"
    }
   ],
   "source": [
    "#creating an identity matrix\n",
    "np.identity(3)"
   ]
  },
  {
   "cell_type": "code",
   "execution_count": 37,
   "id": "cb673302-ada5-4f07-ad6b-5924b33a8c92",
   "metadata": {},
   "outputs": [
    {
     "data": {
      "text/plain": [
       "array([[1., 0., 0., 0., 0., 0.],\n",
       "       [0., 1., 0., 0., 0., 0.],\n",
       "       [0., 0., 1., 0., 0., 0.],\n",
       "       [0., 0., 0., 1., 0., 0.],\n",
       "       [0., 0., 0., 0., 1., 0.],\n",
       "       [0., 0., 0., 0., 0., 1.]])"
      ]
     },
     "execution_count": 37,
     "metadata": {},
     "output_type": "execute_result"
    }
   ],
   "source": [
    "np.identity(6)"
   ]
  },
  {
   "cell_type": "code",
   "execution_count": 38,
   "id": "8468c93d-900c-40e9-b264-cd2b423248be",
   "metadata": {},
   "outputs": [
    {
     "data": {
      "text/plain": [
       "array([[1., 0., 0., 0., 0., 0., 0., 0., 0., 0., 0., 0., 0., 0., 0., 0.,\n",
       "        0., 0.],\n",
       "       [0., 1., 0., 0., 0., 0., 0., 0., 0., 0., 0., 0., 0., 0., 0., 0.,\n",
       "        0., 0.],\n",
       "       [0., 0., 1., 0., 0., 0., 0., 0., 0., 0., 0., 0., 0., 0., 0., 0.,\n",
       "        0., 0.],\n",
       "       [0., 0., 0., 1., 0., 0., 0., 0., 0., 0., 0., 0., 0., 0., 0., 0.,\n",
       "        0., 0.],\n",
       "       [0., 0., 0., 0., 1., 0., 0., 0., 0., 0., 0., 0., 0., 0., 0., 0.,\n",
       "        0., 0.],\n",
       "       [0., 0., 0., 0., 0., 1., 0., 0., 0., 0., 0., 0., 0., 0., 0., 0.,\n",
       "        0., 0.],\n",
       "       [0., 0., 0., 0., 0., 0., 1., 0., 0., 0., 0., 0., 0., 0., 0., 0.,\n",
       "        0., 0.],\n",
       "       [0., 0., 0., 0., 0., 0., 0., 1., 0., 0., 0., 0., 0., 0., 0., 0.,\n",
       "        0., 0.],\n",
       "       [0., 0., 0., 0., 0., 0., 0., 0., 1., 0., 0., 0., 0., 0., 0., 0.,\n",
       "        0., 0.],\n",
       "       [0., 0., 0., 0., 0., 0., 0., 0., 0., 1., 0., 0., 0., 0., 0., 0.,\n",
       "        0., 0.],\n",
       "       [0., 0., 0., 0., 0., 0., 0., 0., 0., 0., 1., 0., 0., 0., 0., 0.,\n",
       "        0., 0.],\n",
       "       [0., 0., 0., 0., 0., 0., 0., 0., 0., 0., 0., 1., 0., 0., 0., 0.,\n",
       "        0., 0.],\n",
       "       [0., 0., 0., 0., 0., 0., 0., 0., 0., 0., 0., 0., 1., 0., 0., 0.,\n",
       "        0., 0.],\n",
       "       [0., 0., 0., 0., 0., 0., 0., 0., 0., 0., 0., 0., 0., 1., 0., 0.,\n",
       "        0., 0.],\n",
       "       [0., 0., 0., 0., 0., 0., 0., 0., 0., 0., 0., 0., 0., 0., 1., 0.,\n",
       "        0., 0.],\n",
       "       [0., 0., 0., 0., 0., 0., 0., 0., 0., 0., 0., 0., 0., 0., 0., 1.,\n",
       "        0., 0.],\n",
       "       [0., 0., 0., 0., 0., 0., 0., 0., 0., 0., 0., 0., 0., 0., 0., 0.,\n",
       "        1., 0.],\n",
       "       [0., 0., 0., 0., 0., 0., 0., 0., 0., 0., 0., 0., 0., 0., 0., 0.,\n",
       "        0., 1.]])"
      ]
     },
     "execution_count": 38,
     "metadata": {},
     "output_type": "execute_result"
    }
   ],
   "source": [
    "np.identity(18)"
   ]
  },
  {
   "cell_type": "markdown",
   "id": "202107a5-7799-4adb-ae05-d2597d397670",
   "metadata": {},
   "source": [
    "# 8-array attributes\n",
    "\n"
   ]
  },
  {
   "cell_type": "code",
   "execution_count": 39,
   "id": "e025c8b4-890e-4135-becf-f1d3190e933d",
   "metadata": {},
   "outputs": [],
   "source": [
    "a1=np.arange(10,dtype=float)"
   ]
  },
  {
   "cell_type": "code",
   "execution_count": 40,
   "id": "2c47c622-878e-44fb-bc1b-22e12020bb97",
   "metadata": {},
   "outputs": [
    {
     "data": {
      "text/plain": [
       "array([0., 1., 2., 3., 4., 5., 6., 7., 8., 9.])"
      ]
     },
     "execution_count": 40,
     "metadata": {},
     "output_type": "execute_result"
    }
   ],
   "source": [
    "a1"
   ]
  },
  {
   "cell_type": "code",
   "execution_count": 41,
   "id": "60b3c75b-9614-4295-8b2f-d071efab702a",
   "metadata": {},
   "outputs": [
    {
     "data": {
      "text/plain": [
       "array([[0., 1., 2., 3., 4.],\n",
       "       [5., 6., 7., 8., 9.]])"
      ]
     },
     "execution_count": 41,
     "metadata": {},
     "output_type": "execute_result"
    }
   ],
   "source": [
    "a1.reshape(2,5)"
   ]
  },
  {
   "cell_type": "code",
   "execution_count": 42,
   "id": "9cd0d8b1-55a5-49a2-867f-857c2172c706",
   "metadata": {},
   "outputs": [
    {
     "data": {
      "text/plain": [
       "array([[[0],\n",
       "        [1],\n",
       "        [2]],\n",
       "\n",
       "       [[3],\n",
       "        [4],\n",
       "        [5]],\n",
       "\n",
       "       [[6],\n",
       "        [7],\n",
       "        [8]]])"
      ]
     },
     "execution_count": 42,
     "metadata": {},
     "output_type": "execute_result"
    }
   ],
   "source": [
    "a2=np.arange(9).reshape(3,3,1)\n",
    "a2"
   ]
  },
  {
   "cell_type": "code",
   "execution_count": 43,
   "id": "def7e95b-7444-4a2b-ab7d-3c6bcfbb82a4",
   "metadata": {},
   "outputs": [
    {
     "data": {
      "text/plain": [
       "array([[0],\n",
       "       [1],\n",
       "       [2],\n",
       "       [3],\n",
       "       [4],\n",
       "       [5],\n",
       "       [6],\n",
       "       [7],\n",
       "       [8]])"
      ]
     },
     "execution_count": 43,
     "metadata": {},
     "output_type": "execute_result"
    }
   ],
   "source": [
    "np.arange(9).reshape(9,1)"
   ]
  },
  {
   "cell_type": "markdown",
   "id": "f0340d6d-2065-46f1-9460-f1f7e2c9a33a",
   "metadata": {},
   "source": []
  },
  {
   "cell_type": "markdown",
   "id": "809e0470-9632-4214-ba9a-426424577045",
   "metadata": {},
   "source": [
    "# 9-ndim"
   ]
  },
  {
   "cell_type": "code",
   "execution_count": 44,
   "id": "cb80b1cd-962b-44dc-91e9-e6698b699670",
   "metadata": {},
   "outputs": [
    {
     "data": {
      "text/plain": [
       "1"
      ]
     },
     "execution_count": 44,
     "metadata": {},
     "output_type": "execute_result"
    }
   ],
   "source": [
    "a1.ndim\n",
    "#this ndim is used to give the dimensions of an variabl"
   ]
  },
  {
   "cell_type": "code",
   "execution_count": 45,
   "id": "77eb263c-a9c4-4dc5-b98b-adc957e7796e",
   "metadata": {},
   "outputs": [
    {
     "data": {
      "text/plain": [
       "3"
      ]
     },
     "execution_count": 45,
     "metadata": {},
     "output_type": "execute_result"
    }
   ],
   "source": [
    "a2.ndim"
   ]
  },
  {
   "cell_type": "markdown",
   "id": "676bdb31-d1c2-4830-aed5-32f0384eb369",
   "metadata": {},
   "source": [
    "# 10 -Shape"
   ]
  },
  {
   "cell_type": "markdown",
   "id": "40db80d8-dd18-469e-ad14-d9c0e15cde2c",
   "metadata": {},
   "source": [
    "this shape function will give no of rows and no of columns of an array"
   ]
  },
  {
   "cell_type": "code",
   "execution_count": 46,
   "id": "3b3ac632-18f7-4f4f-a3b4-0c6727db1460",
   "metadata": {},
   "outputs": [
    {
     "data": {
      "text/plain": [
       "(10,)"
      ]
     },
     "execution_count": 46,
     "metadata": {},
     "output_type": "execute_result"
    }
   ],
   "source": [
    "a1.shape"
   ]
  },
  {
   "cell_type": "code",
   "execution_count": 47,
   "id": "c8c6c6e6-82a5-4150-9f96-52e5ca4b15d1",
   "metadata": {},
   "outputs": [
    {
     "data": {
      "text/plain": [
       "(3, 3, 1)"
      ]
     },
     "execution_count": 47,
     "metadata": {},
     "output_type": "execute_result"
    }
   ],
   "source": [
    "a2.shape\n"
   ]
  },
  {
   "cell_type": "markdown",
   "id": "84d6b811-3585-4c80-96a8-f91a7f9b1045",
   "metadata": {},
   "source": [
    "# 11-Size"
   ]
  },
  {
   "cell_type": "code",
   "execution_count": 48,
   "id": "6098bddc-c8fd-4fcd-86aa-8039c1b1622c",
   "metadata": {},
   "outputs": [
    {
     "data": {
      "text/plain": [
       "array([0., 1., 2., 3., 4., 5., 6., 7., 8., 9.])"
      ]
     },
     "execution_count": 48,
     "metadata": {},
     "output_type": "execute_result"
    }
   ],
   "source": [
    "a1#this will give the size of items"
   ]
  },
  {
   "cell_type": "code",
   "execution_count": 49,
   "id": "c902143f-df2f-4d1c-b057-f981cc73a4b9",
   "metadata": {},
   "outputs": [
    {
     "data": {
      "text/plain": [
       "10"
      ]
     },
     "execution_count": 49,
     "metadata": {},
     "output_type": "execute_result"
    }
   ],
   "source": [
    "a1.size"
   ]
  },
  {
   "cell_type": "code",
   "execution_count": 50,
   "id": "5f03fb67-00dd-4732-b64b-515fa1ed1680",
   "metadata": {},
   "outputs": [
    {
     "data": {
      "text/plain": [
       "9"
      ]
     },
     "execution_count": 50,
     "metadata": {},
     "output_type": "execute_result"
    }
   ],
   "source": [
    "a2.size"
   ]
  },
  {
   "cell_type": "code",
   "execution_count": 51,
   "id": "1717aee0-56ee-4dc7-afe4-bbaa39e495ca",
   "metadata": {},
   "outputs": [
    {
     "data": {
      "text/plain": [
       "8"
      ]
     },
     "execution_count": 51,
     "metadata": {},
     "output_type": "execute_result"
    }
   ],
   "source": [
    "a1.itemsize#integer is 64 gives =8 bytes"
   ]
  },
  {
   "cell_type": "code",
   "execution_count": 52,
   "id": "0e988d06-dbe8-49c3-ae70-250ac4c952d8",
   "metadata": {},
   "outputs": [
    {
     "data": {
      "text/plain": [
       "4"
      ]
     },
     "execution_count": 52,
     "metadata": {},
     "output_type": "execute_result"
    }
   ],
   "source": [
    "a2.itemsize# integer is 32 gives 4 bytes"
   ]
  },
  {
   "cell_type": "markdown",
   "id": "62f38f1e-65df-4f63-83d8-e4724725aa8e",
   "metadata": {},
   "source": [
    "# 12_dtype"
   ]
  },
  {
   "cell_type": "code",
   "execution_count": 53,
   "id": "42aea777-6781-481c-b97e-88acc00a8f00",
   "metadata": {},
   "outputs": [
    {
     "name": "stdout",
     "output_type": "stream",
     "text": [
      "float64\n",
      "int32\n"
     ]
    }
   ],
   "source": [
    "print(a1.dtype)\n",
    "print(a2.dtype)"
   ]
  },
  {
   "cell_type": "markdown",
   "id": "098fd003-f01a-4432-85f0-48e2c1d34e18",
   "metadata": {},
   "source": [
    "# 13_using astype "
   ]
  },
  {
   "cell_type": "code",
   "execution_count": 54,
   "id": "c5d33c9d-9190-460b-8bec-004c8bdbaba5",
   "metadata": {},
   "outputs": [
    {
     "data": {
      "text/plain": [
       "array([ 33,   4, 555,  22])"
      ]
     },
     "execution_count": 54,
     "metadata": {},
     "output_type": "execute_result"
    }
   ],
   "source": [
    "x=np.array([33,4,555,22])\n",
    "x"
   ]
  },
  {
   "cell_type": "code",
   "execution_count": 55,
   "id": "6aa0a183-c086-4140-916e-91268c79b24c",
   "metadata": {},
   "outputs": [
    {
     "data": {
      "text/plain": [
       "numpy.ndarray"
      ]
     },
     "execution_count": 55,
     "metadata": {},
     "output_type": "execute_result"
    }
   ],
   "source": [
    "type(x)"
   ]
  },
  {
   "cell_type": "code",
   "execution_count": 56,
   "id": "89b94eee-f9f3-4979-8222-fa98663dfb7f",
   "metadata": {},
   "outputs": [
    {
     "data": {
      "text/plain": [
       "array([ 33,   4, 555,  22])"
      ]
     },
     "execution_count": 56,
     "metadata": {},
     "output_type": "execute_result"
    }
   ],
   "source": [
    "x.astype(int)"
   ]
  },
  {
   "cell_type": "code",
   "execution_count": 57,
   "id": "c8d5d740-c4e8-4fc4-b0f9-7071f5bbfc05",
   "metadata": {},
   "outputs": [
    {
     "data": {
      "text/plain": [
       "array([ 33.,   4., 555.,  22.])"
      ]
     },
     "execution_count": 57,
     "metadata": {},
     "output_type": "execute_result"
    }
   ],
   "source": [
    "x.astype(float)"
   ]
  },
  {
   "cell_type": "code",
   "execution_count": 58,
   "id": "6c9ae313-8467-4598-aa7d-502c5b28947b",
   "metadata": {},
   "outputs": [
    {
     "data": {
      "text/plain": [
       "array([ True,  True,  True,  True])"
      ]
     },
     "execution_count": 58,
     "metadata": {},
     "output_type": "execute_result"
    }
   ],
   "source": [
    "x.astype(bool)"
   ]
  },
  {
   "cell_type": "code",
   "execution_count": 59,
   "id": "8a43770b-d193-4ba0-9e3a-5d3bccabfd7f",
   "metadata": {},
   "outputs": [
    {
     "data": {
      "text/plain": [
       "array([ 33.+0.j,   4.+0.j, 555.+0.j,  22.+0.j])"
      ]
     },
     "execution_count": 59,
     "metadata": {},
     "output_type": "execute_result"
    }
   ],
   "source": [
    "x.astype(complex)"
   ]
  },
  {
   "cell_type": "code",
   "execution_count": 60,
   "id": "bc99d36a-8cb4-42a4-819b-ff7c17720c20",
   "metadata": {},
   "outputs": [
    {
     "data": {
      "text/plain": [
       "numpy.ndarray"
      ]
     },
     "execution_count": 60,
     "metadata": {},
     "output_type": "execute_result"
    }
   ],
   "source": [
    "type(x)"
   ]
  },
  {
   "cell_type": "code",
   "execution_count": 61,
   "id": "3cbdbb41-c865-4728-8291-047624ba9ade",
   "metadata": {},
   "outputs": [],
   "source": [
    "z1=np.arange(12).reshape(3,4)\n",
    "z2=np.arange(12,24).reshape(3,4)"
   ]
  },
  {
   "cell_type": "code",
   "execution_count": 62,
   "id": "ce3af86e-4742-4c2b-907d-951bffe19130",
   "metadata": {},
   "outputs": [
    {
     "name": "stdout",
     "output_type": "stream",
     "text": [
      "[[ 0  1  2  3]\n",
      " [ 4  5  6  7]\n",
      " [ 8  9 10 11]]\n",
      "[[12 13 14 15]\n",
      " [16 17 18 19]\n",
      " [20 21 22 23]]\n"
     ]
    }
   ],
   "source": [
    "print(z1)\n",
    "print(z2)"
   ]
  },
  {
   "cell_type": "markdown",
   "id": "3958d174-3485-48e5-8486-82313fe3f433",
   "metadata": {},
   "source": [
    "# 14-scalar operations"
   ]
  },
  {
   "cell_type": "code",
   "execution_count": 63,
   "id": "a2a2362a-7552-400a-8c02-463926896ae3",
   "metadata": {},
   "outputs": [],
   "source": [
    "# this means performing addition,subtraction,multiplication on elements of numpy"
   ]
  },
  {
   "cell_type": "code",
   "execution_count": 64,
   "id": "1563de0e-a809-4942-bfc7-5d0d6ee82cb4",
   "metadata": {},
   "outputs": [
    {
     "name": "stdout",
     "output_type": "stream",
     "text": [
      "[[ 2  3  4  5]\n",
      " [ 6  7  8  9]\n",
      " [10 11 12 13]]\n",
      "[[-2 -1  0  1]\n",
      " [ 2  3  4  5]\n",
      " [ 6  7  8  9]]\n",
      "[[ 0  2  4  6]\n",
      " [ 8 10 12 14]\n",
      " [16 18 20 22]]\n",
      "[[  0   1   4   9]\n",
      " [ 16  25  36  49]\n",
      " [ 64  81 100 121]]\n",
      "[[0 1 0 1]\n",
      " [0 1 0 1]\n",
      " [0 1 0 1]]\n"
     ]
    }
   ],
   "source": [
    "print(z1+2)\n",
    "#########--------------------------\n",
    "print(z1-2)\n",
    "##########\n",
    "print(z1*2)\n",
    "#####\n",
    "print(z1**2)\n",
    "###########\n",
    "print(z1%2)"
   ]
  },
  {
   "cell_type": "code",
   "execution_count": 65,
   "id": "27fbcfea-93b4-447e-9c2d-ba0289e81452",
   "metadata": {},
   "outputs": [
    {
     "data": {
      "text/plain": [
       "array([[ 0,  1,  2,  3],\n",
       "       [ 4,  5,  6,  7],\n",
       "       [ 8,  9, 10, 11]])"
      ]
     },
     "execution_count": 65,
     "metadata": {},
     "output_type": "execute_result"
    }
   ],
   "source": [
    "z1"
   ]
  },
  {
   "cell_type": "markdown",
   "id": "bfed6839-24d8-4da4-8e25-e5fa0de7d81a",
   "metadata": {},
   "source": [
    "# 17- relational operations"
   ]
  },
  {
   "cell_type": "code",
   "execution_count": 66,
   "id": "649c2d87-93a3-4e92-b9f2-29c1eff1ec7f",
   "metadata": {},
   "outputs": [
    {
     "data": {
      "text/plain": [
       "array([[ 0,  1,  2,  3],\n",
       "       [ 4,  5,  6,  7],\n",
       "       [ 8,  9, 10, 11]])"
      ]
     },
     "execution_count": 66,
     "metadata": {},
     "output_type": "execute_result"
    }
   ],
   "source": [
    "z1"
   ]
  },
  {
   "cell_type": "code",
   "execution_count": 67,
   "id": "d5ca7acf-6886-444f-8fa9-7bc517d2ee4d",
   "metadata": {},
   "outputs": [
    {
     "data": {
      "text/plain": [
       "array([[False, False, False,  True],\n",
       "       [ True,  True,  True,  True],\n",
       "       [ True,  True,  True,  True]])"
      ]
     },
     "execution_count": 67,
     "metadata": {},
     "output_type": "execute_result"
    }
   ],
   "source": [
    "z1>2"
   ]
  },
  {
   "cell_type": "code",
   "execution_count": 68,
   "id": "673083e8-7edc-42ea-87c6-ec3b15bb62dc",
   "metadata": {},
   "outputs": [
    {
     "data": {
      "text/plain": [
       "array([[False, False, False, False],\n",
       "       [False, False, False, False],\n",
       "       [False, False, False, False]])"
      ]
     },
     "execution_count": 68,
     "metadata": {},
     "output_type": "execute_result"
    }
   ],
   "source": [
    "z2<2"
   ]
  },
  {
   "cell_type": "code",
   "execution_count": 69,
   "id": "8d121253-e199-4237-a11a-ce043f247431",
   "metadata": {},
   "outputs": [
    {
     "data": {
      "text/plain": [
       "array([[ True,  True,  True,  True],\n",
       "       [ True,  True,  True,  True],\n",
       "       [ True,  True,  True,  True]])"
      ]
     },
     "execution_count": 69,
     "metadata": {},
     "output_type": "execute_result"
    }
   ],
   "source": [
    "z2>=2"
   ]
  },
  {
   "cell_type": "code",
   "execution_count": 70,
   "id": "f1f46f16-f4b9-4366-a1a5-472dd44709a3",
   "metadata": {},
   "outputs": [
    {
     "data": {
      "text/plain": [
       "array([[ 0,  1,  2,  3],\n",
       "       [ 4,  5,  6,  7],\n",
       "       [ 8,  9, 10, 11]])"
      ]
     },
     "execution_count": 70,
     "metadata": {},
     "output_type": "execute_result"
    }
   ],
   "source": [
    "z1"
   ]
  },
  {
   "cell_type": "code",
   "execution_count": 71,
   "id": "7b716740-7710-4279-a929-8ff48b14bace",
   "metadata": {},
   "outputs": [
    {
     "data": {
      "text/plain": [
       "array([[12, 13, 14, 15],\n",
       "       [16, 17, 18, 19],\n",
       "       [20, 21, 22, 23]])"
      ]
     },
     "execution_count": 71,
     "metadata": {},
     "output_type": "execute_result"
    }
   ],
   "source": [
    "z2"
   ]
  },
  {
   "cell_type": "code",
   "execution_count": 72,
   "id": "8a977282-bb47-4a2d-8486-cee56b0a4b18",
   "metadata": {},
   "outputs": [
    {
     "data": {
      "text/plain": [
       "array([[12, 13, 14, 15],\n",
       "       [16, 17, 18, 19],\n",
       "       [20, 21, 22, 23]])"
      ]
     },
     "execution_count": 72,
     "metadata": {},
     "output_type": "execute_result"
    }
   ],
   "source": [
    "z2"
   ]
  },
  {
   "cell_type": "code",
   "execution_count": 73,
   "id": "0f390b43-4856-4ec5-92a3-e3b67c60f36c",
   "metadata": {},
   "outputs": [
    {
     "data": {
      "text/plain": [
       "array([[12, 14, 16, 18],\n",
       "       [20, 22, 24, 26],\n",
       "       [28, 30, 32, 34]])"
      ]
     },
     "execution_count": 73,
     "metadata": {},
     "output_type": "execute_result"
    }
   ],
   "source": [
    "z1+z2#similarly we can do addidtion ,subtraction,division,multiplication"
   ]
  },
  {
   "cell_type": "code",
   "execution_count": 74,
   "id": "b00254df-582f-4d06-b177-6af82bc96868",
   "metadata": {},
   "outputs": [
    {
     "data": {
      "text/plain": [
       "array([[          0,           1,       16384,    14348907],\n",
       "       [          0, -1564725563,  1159987200,   442181591],\n",
       "       [          0,  1914644777, -1304428544,  -122979837]])"
      ]
     },
     "execution_count": 74,
     "metadata": {},
     "output_type": "execute_result"
    }
   ],
   "source": [
    "z1**z2"
   ]
  },
  {
   "cell_type": "code",
   "execution_count": 75,
   "id": "95241a00-7b3a-436e-9984-42e2fdd1a85a",
   "metadata": {},
   "outputs": [
    {
     "data": {
      "text/plain": [
       "array([[0.23752649, 0.0283179 , 0.32111605],\n",
       "       [0.6235268 , 0.32225111, 0.13506842],\n",
       "       [0.46510065, 0.10768065, 0.75178299]])"
      ]
     },
     "execution_count": 75,
     "metadata": {},
     "output_type": "execute_result"
    }
   ],
   "source": [
    "k1=np.random.random((3,3))\n",
    "k1"
   ]
  },
  {
   "cell_type": "markdown",
   "id": "34f87ac8-95c9-4f26-bf19-4dc38e9a8997",
   "metadata": {},
   "source": [
    "# 18-Round function\n"
   ]
  },
  {
   "cell_type": "code",
   "execution_count": 76,
   "id": "3bb6c412-958e-4bac-a7c9-c79761b7b55d",
   "metadata": {},
   "outputs": [
    {
     "data": {
      "text/plain": [
       "array([[24.,  3., 32.],\n",
       "       [62., 32., 14.],\n",
       "       [47., 11., 75.]])"
      ]
     },
     "execution_count": 76,
     "metadata": {},
     "output_type": "execute_result"
    }
   ],
   "source": [
    "k1=np.round(k1*100)\n",
    "k1"
   ]
  },
  {
   "cell_type": "markdown",
   "id": "6bff7a95-bd1e-4865-a791-97f03d690195",
   "metadata": {},
   "source": [
    "# max,min,sum,prod"
   ]
  },
  {
   "cell_type": "code",
   "execution_count": 77,
   "id": "976a3ead-83ab-4ebb-9d53-d344b8c0fe9b",
   "metadata": {},
   "outputs": [],
   "source": [
    "#max-this function will give the max value\n",
    "#min-this function will give the min value\n",
    "#sum-this function will give sum of all elements in an array"
   ]
  },
  {
   "cell_type": "code",
   "execution_count": 78,
   "id": "2295e7af-51bf-49df-8ada-781933f6f26d",
   "metadata": {},
   "outputs": [],
   "source": [
    "#prod-this function will give multiplication of the total matrix"
   ]
  },
  {
   "cell_type": "code",
   "execution_count": 79,
   "id": "6295d2fe-8f49-47e8-bd44-94e33a3d206c",
   "metadata": {},
   "outputs": [
    {
     "name": "stdout",
     "output_type": "stream",
     "text": [
      "[[24.  3. 32.]\n",
      " [62. 32. 14.]\n",
      " [47. 11. 75.]]\n",
      "[ 2304. 27776. 38775.]\n"
     ]
    }
   ],
   "source": [
    "print(k1)\n",
    "print(k1.prod(axis=1))"
   ]
  },
  {
   "cell_type": "code",
   "execution_count": 80,
   "id": "b9ad47e3-aefd-4daa-9eac-5cb2bbcb8f51",
   "metadata": {},
   "outputs": [
    {
     "name": "stdout",
     "output_type": "stream",
     "text": [
      "75.0\n",
      "3.0\n",
      "300.0\n",
      "2481441177600.0\n"
     ]
    }
   ],
   "source": [
    "print(np.max(k1))\n",
    "print(np.min(k1))\n",
    "print(np.sum(k1))\n",
    "print(np.prod(k1))"
   ]
  },
  {
   "cell_type": "code",
   "execution_count": 81,
   "id": "0c5b9659-d5ab-4c01-aaa9-65f78c1ab9d4",
   "metadata": {},
   "outputs": [
    {
     "data": {
      "text/plain": [
       "array([32., 62., 75.])"
      ]
     },
     "execution_count": 81,
     "metadata": {},
     "output_type": "execute_result"
    }
   ],
   "source": [
    "np.max(k1,axis=1)\n"
   ]
  },
  {
   "cell_type": "code",
   "execution_count": 82,
   "id": "a38da82f-5b94-43a5-ad44-4c6d3d9d8085",
   "metadata": {},
   "outputs": [
    {
     "data": {
      "text/plain": [
       "array([62., 32., 75.])"
      ]
     },
     "execution_count": 82,
     "metadata": {},
     "output_type": "execute_result"
    }
   ],
   "source": [
    "np.max(k1,axis=0)"
   ]
  },
  {
   "cell_type": "code",
   "execution_count": 83,
   "id": "fc705ef8-6df6-4254-b970-5a44121373e8",
   "metadata": {},
   "outputs": [
    {
     "data": {
      "text/plain": [
       "array([ 2304., 27776., 38775.])"
      ]
     },
     "execution_count": 83,
     "metadata": {},
     "output_type": "execute_result"
    }
   ],
   "source": [
    "np.prod(k1,axis=1)#this function will multiply all the elements of a certaion row"
   ]
  },
  {
   "cell_type": "markdown",
   "id": "70225f74-fbeb-4872-8dd2-f12277c72d27",
   "metadata": {},
   "source": [
    "# 19-Statistics related functions"
   ]
  },
  {
   "cell_type": "markdown",
   "id": "2c215433-7e73-4bc1-9331-870e6f3bbe4e",
   "metadata": {},
   "source": [
    "# mean"
   ]
  },
  {
   "cell_type": "code",
   "execution_count": 84,
   "id": "0df8d9e6-d065-4e47-997e-1b97a78c4771",
   "metadata": {},
   "outputs": [
    {
     "data": {
      "text/plain": [
       "array([[24.,  3., 32.],\n",
       "       [62., 32., 14.],\n",
       "       [47., 11., 75.]])"
      ]
     },
     "execution_count": 84,
     "metadata": {},
     "output_type": "execute_result"
    }
   ],
   "source": [
    "k1"
   ]
  },
  {
   "cell_type": "code",
   "execution_count": 85,
   "id": "8d11b45f-ff3a-4f99-a2f7-41f6472a9851",
   "metadata": {},
   "outputs": [
    {
     "data": {
      "text/plain": [
       "33.333333333333336"
      ]
     },
     "execution_count": 85,
     "metadata": {},
     "output_type": "execute_result"
    }
   ],
   "source": [
    "np.mean(k1)"
   ]
  },
  {
   "cell_type": "code",
   "execution_count": 86,
   "id": "3893cd4b-7e02-4573-b50f-06f39401d250",
   "metadata": {},
   "outputs": [
    {
     "data": {
      "text/plain": [
       "array([19.66666667, 36.        , 44.33333333])"
      ]
     },
     "execution_count": 86,
     "metadata": {},
     "output_type": "execute_result"
    }
   ],
   "source": [
    "np.mean(k1,axis=1)"
   ]
  },
  {
   "cell_type": "markdown",
   "id": "d0707302-4d4d-42dd-928d-a61b58505a34",
   "metadata": {},
   "source": [
    "# median"
   ]
  },
  {
   "cell_type": "code",
   "execution_count": 87,
   "id": "1f407cfa-d120-4c66-b062-bb6caee1c052",
   "metadata": {},
   "outputs": [
    {
     "data": {
      "text/plain": [
       "32.0"
      ]
     },
     "execution_count": 87,
     "metadata": {},
     "output_type": "execute_result"
    }
   ],
   "source": [
    "np.median(k1)"
   ]
  },
  {
   "cell_type": "code",
   "execution_count": 88,
   "id": "59cfa44b-5655-4e02-afc7-2caac9033f64",
   "metadata": {},
   "outputs": [
    {
     "data": {
      "text/plain": [
       "array([47., 11., 32.])"
      ]
     },
     "execution_count": 88,
     "metadata": {},
     "output_type": "execute_result"
    }
   ],
   "source": [
    "np.median(k1,axis=0)"
   ]
  },
  {
   "cell_type": "markdown",
   "id": "b53c43fb-b944-4d82-8167-1dc0c4be89ac",
   "metadata": {},
   "source": [
    "# Standard deviation"
   ]
  },
  {
   "cell_type": "code",
   "execution_count": 89,
   "id": "73237d6f-caec-45a6-9afc-b4667dbbda9c",
   "metadata": {},
   "outputs": [
    {
     "data": {
      "text/plain": [
       "22.676468468926597"
      ]
     },
     "execution_count": 89,
     "metadata": {},
     "output_type": "execute_result"
    }
   ],
   "source": [
    "np.std(k1)"
   ]
  },
  {
   "cell_type": "code",
   "execution_count": 90,
   "id": "07e40773-4308-4a4a-bcb7-6b9cbfdb2a6d",
   "metadata": {},
   "outputs": [
    {
     "data": {
      "text/plain": [
       "array([15.62761089, 12.22929089, 25.59079696])"
      ]
     },
     "execution_count": 90,
     "metadata": {},
     "output_type": "execute_result"
    }
   ],
   "source": [
    "np.std(k1,axis=0)"
   ]
  },
  {
   "cell_type": "markdown",
   "id": "a0b958bb-db47-4f70-ac6a-a85896171663",
   "metadata": {},
   "source": [
    "# variance"
   ]
  },
  {
   "cell_type": "code",
   "execution_count": 91,
   "id": "75028c5c-50ac-41e2-b8a3-b657432eeaad",
   "metadata": {},
   "outputs": [
    {
     "data": {
      "text/plain": [
       "514.2222222222222"
      ]
     },
     "execution_count": 91,
     "metadata": {},
     "output_type": "execute_result"
    }
   ],
   "source": [
    "np.var(k1)"
   ]
  },
  {
   "cell_type": "markdown",
   "id": "e23a8dcf-cdcb-4d79-a0e9-9913d11f18f6",
   "metadata": {},
   "source": [
    "# 20-Trignomentry functions"
   ]
  },
  {
   "cell_type": "markdown",
   "id": "098d6b2d-bae9-4a77-b55d-ea96fa7ba717",
   "metadata": {},
   "source": [
    "#SIN,COS,TAN FUNCTIONS"
   ]
  },
  {
   "cell_type": "code",
   "execution_count": 92,
   "id": "539a1b6a-3e55-4e0a-a701-d43c6bf54935",
   "metadata": {},
   "outputs": [
    {
     "data": {
      "text/plain": [
       "array([[24.,  3., 32.],\n",
       "       [62., 32., 14.],\n",
       "       [47., 11., 75.]])"
      ]
     },
     "execution_count": 92,
     "metadata": {},
     "output_type": "execute_result"
    }
   ],
   "source": [
    "k1"
   ]
  },
  {
   "cell_type": "code",
   "execution_count": 93,
   "id": "2f6ab838-8fc7-4d1c-bafe-b4edddae0a25",
   "metadata": {},
   "outputs": [
    {
     "data": {
      "text/plain": [
       "array([[-0.90557836,  0.14112001,  0.55142668],\n",
       "       [-0.7391807 ,  0.55142668,  0.99060736],\n",
       "       [ 0.12357312, -0.99999021, -0.38778164]])"
      ]
     },
     "execution_count": 93,
     "metadata": {},
     "output_type": "execute_result"
    }
   ],
   "source": [
    "np.sin(k1)"
   ]
  },
  {
   "cell_type": "code",
   "execution_count": 94,
   "id": "c6a43acd-d5b6-4b7b-a344-e28b6d80fd89",
   "metadata": {},
   "outputs": [
    {
     "data": {
      "text/plain": [
       "array([[ 0.42417901, -0.9899925 ,  0.83422336],\n",
       "       [ 0.67350716,  0.83422336,  0.13673722],\n",
       "       [-0.99233547,  0.0044257 ,  0.92175127]])"
      ]
     },
     "execution_count": 94,
     "metadata": {},
     "output_type": "execute_result"
    }
   ],
   "source": [
    "np.cos(k1)"
   ]
  },
  {
   "cell_type": "code",
   "execution_count": 95,
   "id": "844a45c0-f5fa-4b67-97c3-99ec736071e4",
   "metadata": {},
   "outputs": [
    {
     "data": {
      "text/plain": [
       "array([[-2.13489670e+00, -1.42546543e-01,  6.61006041e-01],\n",
       "       [-1.09750978e+00,  6.61006041e-01,  7.24460662e+00],\n",
       "       [-1.24527568e-01, -2.25950846e+02, -4.20700951e-01]])"
      ]
     },
     "execution_count": 95,
     "metadata": {},
     "output_type": "execute_result"
    }
   ],
   "source": [
    "np.tan(k1)"
   ]
  },
  {
   "cell_type": "markdown",
   "id": "75f1275e-9f7e-4249-9298-cede04cd9a0e",
   "metadata": {},
   "source": [
    "# 20-Dot product functions"
   ]
  },
  {
   "cell_type": "code",
   "execution_count": 96,
   "id": "acf2d106-6ab8-4974-b2f7-71db80d7b2de",
   "metadata": {},
   "outputs": [
    {
     "data": {
      "text/plain": [
       "array([[ 1,  2,  3],\n",
       "       [ 4,  5,  6],\n",
       "       [ 7,  8,  9],\n",
       "       [10, 11, 12],\n",
       "       [13, 14, 15],\n",
       "       [16, 17, 18]])"
      ]
     },
     "execution_count": 96,
     "metadata": {},
     "output_type": "execute_result"
    }
   ],
   "source": [
    "s1=np.arange(1,19).reshape(6,3)\n",
    "s1"
   ]
  },
  {
   "cell_type": "code",
   "execution_count": 97,
   "id": "54550169-05a7-4d0b-bc0b-542ec2a6cabb",
   "metadata": {},
   "outputs": [
    {
     "data": {
      "text/plain": [
       "array([[19, 20, 21],\n",
       "       [22, 23, 24],\n",
       "       [25, 26, 27]])"
      ]
     },
     "execution_count": 97,
     "metadata": {},
     "output_type": "execute_result"
    }
   ],
   "source": [
    "s2=np.arange(19,28).reshape(3,3)\n",
    "s2"
   ]
  },
  {
   "cell_type": "code",
   "execution_count": 98,
   "id": "d207b3b5-3337-4d19-a3d4-e946ec6d4b64",
   "metadata": {},
   "outputs": [
    {
     "data": {
      "text/plain": [
       "array([[ 138,  144,  150],\n",
       "       [ 336,  351,  366],\n",
       "       [ 534,  558,  582],\n",
       "       [ 732,  765,  798],\n",
       "       [ 930,  972, 1014],\n",
       "       [1128, 1179, 1230]])"
      ]
     },
     "execution_count": 98,
     "metadata": {},
     "output_type": "execute_result"
    }
   ],
   "source": [
    "np.dot(s1,s2)"
   ]
  },
  {
   "cell_type": "markdown",
   "id": "1e30e342-48a8-4e39-8ad7-6815d8e062de",
   "metadata": {},
   "source": [
    "# 21-Log and Exponent functions"
   ]
  },
  {
   "cell_type": "code",
   "execution_count": 99,
   "id": "f2633359-58c3-4eaf-bcf8-cb21b1af3129",
   "metadata": {},
   "outputs": [],
   "source": [
    "#round function"
   ]
  },
  {
   "cell_type": "code",
   "execution_count": 100,
   "id": "07f55a2c-2848-4057-849c-b7160e6d8259",
   "metadata": {},
   "outputs": [
    {
     "name": "stdout",
     "output_type": "stream",
     "text": [
      "[1. 4. 3. 5.]\n"
     ]
    }
   ],
   "source": [
    "arr=np.array([1.2,3.5,2.7,4.9])#nearest decimals\n",
    "print(np.round(arr))"
   ]
  },
  {
   "cell_type": "code",
   "execution_count": 101,
   "id": "7110befa-1ecf-4b93-9d9b-0febb0d17ca9",
   "metadata": {},
   "outputs": [],
   "source": [
    "# round function choosing required numbers"
   ]
  },
  {
   "cell_type": "code",
   "execution_count": 102,
   "id": "e843a5a7-72fc-4486-a81c-fe45b7cc7218",
   "metadata": {},
   "outputs": [],
   "source": [
    "arr1=np.array([1.22222,2.33333,4.44444])\n",
    "rounded_arr=np.round(arr1,decimals=2)\n",
    "            "
   ]
  },
  {
   "cell_type": "code",
   "execution_count": 103,
   "id": "d63890a1-7a33-42e8-978c-ff7ed94d57ba",
   "metadata": {},
   "outputs": [
    {
     "data": {
      "text/plain": [
       "array([1.22, 2.33, 4.44])"
      ]
     },
     "execution_count": 103,
     "metadata": {},
     "output_type": "execute_result"
    }
   ],
   "source": [
    "rounded_arr"
   ]
  },
  {
   "cell_type": "code",
   "execution_count": 104,
   "id": "06a89761-acea-4a35-83a1-947877bcde42",
   "metadata": {},
   "outputs": [],
   "source": [
    "#randomly"
   ]
  },
  {
   "cell_type": "code",
   "execution_count": 105,
   "id": "43a32fb9-3c8a-4f50-9329-e12976aa3ef4",
   "metadata": {},
   "outputs": [
    {
     "data": {
      "text/plain": [
       "array([[ 9., 55., 60., 92., 24.],\n",
       "       [29.,  3., 53., 90., 55.]])"
      ]
     },
     "execution_count": 105,
     "metadata": {},
     "output_type": "execute_result"
    }
   ],
   "source": [
    "np.round(np.random.random((2,5))*100)"
   ]
  },
  {
   "cell_type": "code",
   "execution_count": 106,
   "id": "d0e5c75a-c5fc-471a-8947-59085c548d1f",
   "metadata": {},
   "outputs": [
    {
     "data": {
      "text/plain": [
       "array([1., 2., 5.])"
      ]
     },
     "execution_count": 106,
     "metadata": {},
     "output_type": "execute_result"
    }
   ],
   "source": [
    "arr=np.array([1.9,2.4,5.5])\n",
    "np.floor(arr)"
   ]
  },
  {
   "cell_type": "code",
   "execution_count": 107,
   "id": "66d6b656-f29c-47f7-a4e7-2cf3c4efad2c",
   "metadata": {},
   "outputs": [
    {
     "data": {
      "text/plain": [
       "array([[14., 12., 35., 83.],\n",
       "       [84., 63.,  0., 12.],\n",
       "       [ 9., 49., 65., 62.],\n",
       "       [28., 65., 65., 87.],\n",
       "       [27., 83., 35., 89.]])"
      ]
     },
     "execution_count": 107,
     "metadata": {},
     "output_type": "execute_result"
    }
   ],
   "source": [
    "np.floor(np.random.random((5,4))*100)#floor function ,unlike round,it doesnot look the decimals it will give exact value"
   ]
  },
  {
   "cell_type": "code",
   "execution_count": 108,
   "id": "63f795c6-65e0-4b61-8d23-1461c7eeefed",
   "metadata": {},
   "outputs": [
    {
     "data": {
      "text/plain": [
       "array([1.9, 2.4, 5.5])"
      ]
     },
     "execution_count": 108,
     "metadata": {},
     "output_type": "execute_result"
    }
   ],
   "source": [
    "arr"
   ]
  },
  {
   "cell_type": "code",
   "execution_count": 109,
   "id": "bde309d0-f14f-4665-9561-e8869f8c34c4",
   "metadata": {},
   "outputs": [
    {
     "data": {
      "text/plain": [
       "array([2., 3., 6.])"
      ]
     },
     "execution_count": 109,
     "metadata": {},
     "output_type": "execute_result"
    }
   ],
   "source": [
    "np.ceil(arr)#unlike floor ,round,this function will give the next value if there is any single decimal also"
   ]
  },
  {
   "cell_type": "markdown",
   "id": "bae6cdeb-02dc-4671-9fdd-47fe066933df",
   "metadata": {},
   "source": [
    "# 22_Indexing and slicing"
   ]
  },
  {
   "cell_type": "code",
   "execution_count": 110,
   "id": "413d5645-3027-4abd-9676-5e122164cd12",
   "metadata": {},
   "outputs": [],
   "source": [
    "p1=np.arange(10)\n",
    "p2=np.arange(18).reshape(9,2)\n",
    "p3=np.arange(8).reshape(2,2,2)\n",
    "             "
   ]
  },
  {
   "cell_type": "code",
   "execution_count": 111,
   "id": "8944d9bb-cde1-4ea5-80d1-281aa039c8df",
   "metadata": {},
   "outputs": [
    {
     "data": {
      "text/plain": [
       "array([[[0, 1],\n",
       "        [2, 3]],\n",
       "\n",
       "       [[4, 5],\n",
       "        [6, 7]]])"
      ]
     },
     "execution_count": 111,
     "metadata": {},
     "output_type": "execute_result"
    }
   ],
   "source": [
    "p3"
   ]
  },
  {
   "cell_type": "markdown",
   "id": "79b559bb-8707-42bc-bb4e-d83adef324a0",
   "metadata": {},
   "source": [
    "#indexing on one-d array"
   ]
  },
  {
   "cell_type": "code",
   "execution_count": 112,
   "id": "995c7fd3-d1a4-4ba0-a599-6858bfd7f059",
   "metadata": {},
   "outputs": [
    {
     "data": {
      "text/plain": [
       "9"
      ]
     },
     "execution_count": 112,
     "metadata": {},
     "output_type": "execute_result"
    }
   ],
   "source": [
    "p1[-1]"
   ]
  },
  {
   "cell_type": "code",
   "execution_count": 113,
   "id": "a68b6da8-e1c1-408e-8881-06ff2a85c478",
   "metadata": {},
   "outputs": [
    {
     "data": {
      "text/plain": [
       "0"
      ]
     },
     "execution_count": 113,
     "metadata": {},
     "output_type": "execute_result"
    }
   ],
   "source": [
    "p1[0]"
   ]
  },
  {
   "cell_type": "code",
   "execution_count": 114,
   "id": "5b8b0e2e-7347-44fe-833d-750d730e3593",
   "metadata": {},
   "outputs": [],
   "source": [
    "#indexing 2D array"
   ]
  },
  {
   "cell_type": "code",
   "execution_count": 115,
   "id": "bbe0f202-4c67-49c6-a5d4-6c48e11b82ab",
   "metadata": {},
   "outputs": [
    {
     "data": {
      "text/plain": [
       "array([[ 0,  1],\n",
       "       [ 2,  3],\n",
       "       [ 4,  5],\n",
       "       [ 6,  7],\n",
       "       [ 8,  9],\n",
       "       [10, 11],\n",
       "       [12, 13],\n",
       "       [14, 15],\n",
       "       [16, 17]])"
      ]
     },
     "execution_count": 115,
     "metadata": {},
     "output_type": "execute_result"
    }
   ],
   "source": [
    "p2"
   ]
  },
  {
   "cell_type": "code",
   "execution_count": 116,
   "id": "8185f1db-9ec8-48da-88dd-c2727ae26dbf",
   "metadata": {},
   "outputs": [
    {
     "data": {
      "text/plain": [
       "array([6, 7])"
      ]
     },
     "execution_count": 116,
     "metadata": {},
     "output_type": "execute_result"
    }
   ],
   "source": [
    "p3[1,1]"
   ]
  },
  {
   "cell_type": "code",
   "execution_count": 117,
   "id": "1185696d-b1b9-4f3d-857f-e8313c2b7e1e",
   "metadata": {},
   "outputs": [],
   "source": [
    "#indexing 3d-array"
   ]
  },
  {
   "cell_type": "code",
   "execution_count": 118,
   "id": "f0a54590-fa3c-4431-a53c-f38477cd5729",
   "metadata": {},
   "outputs": [
    {
     "data": {
      "text/plain": [
       "array([[[0, 1],\n",
       "        [2, 3]],\n",
       "\n",
       "       [[4, 5],\n",
       "        [6, 7]]])"
      ]
     },
     "execution_count": 118,
     "metadata": {},
     "output_type": "execute_result"
    }
   ],
   "source": [
    "p3"
   ]
  },
  {
   "cell_type": "code",
   "execution_count": 119,
   "id": "a1398a2b-28b3-4603-bd0b-da75e38274d8",
   "metadata": {},
   "outputs": [
    {
     "data": {
      "text/plain": [
       "5"
      ]
     },
     "execution_count": 119,
     "metadata": {},
     "output_type": "execute_result"
    }
   ],
   "source": [
    "p3[1,0,1]# in this [[0,1],[2,3]] will be considered as 1st column whih is index:0 and 2d is considered as index:1"
   ]
  },
  {
   "cell_type": "code",
   "execution_count": 120,
   "id": "15e0b4e0-1ea7-4c82-b5ee-5a4a166a7204",
   "metadata": {},
   "outputs": [
    {
     "data": {
      "text/plain": [
       "2"
      ]
     },
     "execution_count": 120,
     "metadata": {},
     "output_type": "execute_result"
    }
   ],
   "source": [
    "p3[0,1,0]"
   ]
  },
  {
   "cell_type": "code",
   "execution_count": 121,
   "id": "7f5af5e4-12cd-4824-abf5-a5c45109df87",
   "metadata": {},
   "outputs": [
    {
     "data": {
      "text/plain": [
       "3"
      ]
     },
     "execution_count": 121,
     "metadata": {},
     "output_type": "execute_result"
    }
   ],
   "source": [
    "p3[0,1,1]"
   ]
  },
  {
   "cell_type": "code",
   "execution_count": 122,
   "id": "179dce85-fbce-43dc-89fb-4a3167f060d9",
   "metadata": {},
   "outputs": [
    {
     "data": {
      "text/plain": [
       "array([[0, 1],\n",
       "       [2, 3]])"
      ]
     },
     "execution_count": 122,
     "metadata": {},
     "output_type": "execute_result"
    }
   ],
   "source": [
    "p3[0,:]"
   ]
  },
  {
   "cell_type": "code",
   "execution_count": 123,
   "id": "a37adfd2-ca89-4d4b-9900-7c6d96a86c55",
   "metadata": {},
   "outputs": [
    {
     "data": {
      "text/plain": [
       "array([0, 1, 2, 3, 4, 5, 6, 7, 8, 9])"
      ]
     },
     "execution_count": 123,
     "metadata": {},
     "output_type": "execute_result"
    }
   ],
   "source": [
    "p1"
   ]
  },
  {
   "cell_type": "code",
   "execution_count": 124,
   "id": "8c8a106e-842d-4d16-ba8e-911a98cc8224",
   "metadata": {},
   "outputs": [
    {
     "data": {
      "text/plain": [
       "array([2, 4])"
      ]
     },
     "execution_count": 124,
     "metadata": {},
     "output_type": "execute_result"
    }
   ],
   "source": [
    "p1[2:5:2]"
   ]
  },
  {
   "cell_type": "code",
   "execution_count": 125,
   "id": "c260b826-369a-4906-84a8-6b6f2e399321",
   "metadata": {},
   "outputs": [
    {
     "data": {
      "text/plain": [
       "array([[ 0,  1],\n",
       "       [ 2,  3],\n",
       "       [ 4,  5],\n",
       "       [ 6,  7],\n",
       "       [ 8,  9],\n",
       "       [10, 11],\n",
       "       [12, 13],\n",
       "       [14, 15],\n",
       "       [16, 17]])"
      ]
     },
     "execution_count": 125,
     "metadata": {},
     "output_type": "execute_result"
    }
   ],
   "source": [
    "p2"
   ]
  },
  {
   "cell_type": "code",
   "execution_count": 126,
   "id": "6907aadd-0281-49b6-ab13-f66207b9af40",
   "metadata": {},
   "outputs": [
    {
     "data": {
      "text/plain": [
       "array([0])"
      ]
     },
     "execution_count": 126,
     "metadata": {},
     "output_type": "execute_result"
    }
   ],
   "source": [
    "p2[0,:1]"
   ]
  },
  {
   "cell_type": "code",
   "execution_count": 127,
   "id": "691b0a10-cca0-4a02-b746-553a45e35cbe",
   "metadata": {},
   "outputs": [
    {
     "data": {
      "text/plain": [
       "array([ 1,  3,  5,  7,  9, 11, 13, 15, 17])"
      ]
     },
     "execution_count": 127,
     "metadata": {},
     "output_type": "execute_result"
    }
   ],
   "source": [
    "p2[:,1]"
   ]
  },
  {
   "cell_type": "code",
   "execution_count": 128,
   "id": "b0d3a64d-646b-4546-9fb1-a5f9e3903c92",
   "metadata": {},
   "outputs": [
    {
     "data": {
      "text/plain": [
       "array([[ 0,  1],\n",
       "       [ 2,  3],\n",
       "       [ 4,  5],\n",
       "       [ 6,  7],\n",
       "       [ 8,  9],\n",
       "       [10, 11],\n",
       "       [12, 13],\n",
       "       [14, 15],\n",
       "       [16, 17]])"
      ]
     },
     "execution_count": 128,
     "metadata": {},
     "output_type": "execute_result"
    }
   ],
   "source": [
    "p2"
   ]
  },
  {
   "cell_type": "code",
   "execution_count": 129,
   "id": "2f718e22-7b3b-409c-bef9-05521e20e508",
   "metadata": {},
   "outputs": [
    {
     "data": {
      "text/plain": [
       "(9, 2)"
      ]
     },
     "execution_count": 129,
     "metadata": {},
     "output_type": "execute_result"
    }
   ],
   "source": [
    "p2.shape"
   ]
  },
  {
   "cell_type": "code",
   "execution_count": 130,
   "id": "59ee7ebc-3b44-400a-aae0-90dc4c77d8bc",
   "metadata": {},
   "outputs": [
    {
     "data": {
      "text/plain": [
       "array([[ 0,  1,  2],\n",
       "       [ 3,  4,  5],\n",
       "       [ 6,  7,  8],\n",
       "       [ 9, 10, 11],\n",
       "       [12, 13, 14],\n",
       "       [15, 16, 17]])"
      ]
     },
     "execution_count": 130,
     "metadata": {},
     "output_type": "execute_result"
    }
   ],
   "source": [
    "p2.reshape(6,3)"
   ]
  },
  {
   "cell_type": "code",
   "execution_count": 131,
   "id": "03bb3994-4e24-4620-9a75-30a0c81be1c9",
   "metadata": {},
   "outputs": [
    {
     "data": {
      "text/plain": [
       "array([0, 1])"
      ]
     },
     "execution_count": 131,
     "metadata": {},
     "output_type": "execute_result"
    }
   ],
   "source": [
    "p2[0,:]"
   ]
  },
  {
   "cell_type": "code",
   "execution_count": 132,
   "id": "ba595034-e356-4e5d-bac3-07ef6ebdee33",
   "metadata": {},
   "outputs": [
    {
     "data": {
      "text/plain": [
       "array([ 1,  3,  5,  7,  9, 11, 13, 15, 17])"
      ]
     },
     "execution_count": 132,
     "metadata": {},
     "output_type": "execute_result"
    }
   ],
   "source": [
    "p2[:,1]"
   ]
  },
  {
   "cell_type": "code",
   "execution_count": 133,
   "id": "6cafa2fd-3dbd-4510-8ce1-ae648a88f483",
   "metadata": {},
   "outputs": [
    {
     "data": {
      "text/plain": [
       "array([[3],\n",
       "       [5]])"
      ]
     },
     "execution_count": 133,
     "metadata": {},
     "output_type": "execute_result"
    }
   ],
   "source": [
    "p2[1:3,1:3]"
   ]
  },
  {
   "cell_type": "code",
   "execution_count": 134,
   "id": "582c0f67-8188-407a-86e8-2444fce03452",
   "metadata": {},
   "outputs": [
    {
     "data": {
      "text/plain": [
       "array([[ 0],\n",
       "       [ 2],\n",
       "       [ 4],\n",
       "       [ 6],\n",
       "       [ 8],\n",
       "       [10],\n",
       "       [12],\n",
       "       [14],\n",
       "       [16]])"
      ]
     },
     "execution_count": 134,
     "metadata": {},
     "output_type": "execute_result"
    }
   ],
   "source": [
    "p2[::,::2]"
   ]
  },
  {
   "cell_type": "code",
   "execution_count": 135,
   "id": "858769f6-f080-4d4e-850b-c6ba53ce1e11",
   "metadata": {},
   "outputs": [
    {
     "data": {
      "text/plain": [
       "array([[ 0,  1,  2,  3,  4,  5],\n",
       "       [ 6,  7,  8,  9, 10, 11],\n",
       "       [12, 13, 14, 15, 16, 17]])"
      ]
     },
     "execution_count": 135,
     "metadata": {},
     "output_type": "execute_result"
    }
   ],
   "source": [
    "p2.reshape(3,6)"
   ]
  },
  {
   "cell_type": "code",
   "execution_count": 136,
   "id": "983fc4e5-2de8-460c-9562-310b9a1a2f28",
   "metadata": {},
   "outputs": [
    {
     "data": {
      "text/plain": [
       "array([[ 1],\n",
       "       [ 3],\n",
       "       [ 5],\n",
       "       [ 7],\n",
       "       [ 9],\n",
       "       [11],\n",
       "       [13],\n",
       "       [15],\n",
       "       [17]])"
      ]
     },
     "execution_count": 136,
     "metadata": {},
     "output_type": "execute_result"
    }
   ],
   "source": [
    "p2[::,1::2]"
   ]
  },
  {
   "cell_type": "code",
   "execution_count": 137,
   "id": "e78d2bd8-0209-4091-92c1-4088f721cc87",
   "metadata": {},
   "outputs": [],
   "source": [
    "p3=np.arange(27).reshape(3,3,3)#slicing in 3D"
   ]
  },
  {
   "cell_type": "code",
   "execution_count": 138,
   "id": "5a96a0a0-abec-4bbc-a88c-3dbf8624e001",
   "metadata": {},
   "outputs": [
    {
     "data": {
      "text/plain": [
       "array([[[ 0,  1,  2],\n",
       "        [ 3,  4,  5],\n",
       "        [ 6,  7,  8]],\n",
       "\n",
       "       [[ 9, 10, 11],\n",
       "        [12, 13, 14],\n",
       "        [15, 16, 17]],\n",
       "\n",
       "       [[18, 19, 20],\n",
       "        [21, 22, 23],\n",
       "        [24, 25, 26]]])"
      ]
     },
     "execution_count": 138,
     "metadata": {},
     "output_type": "execute_result"
    }
   ],
   "source": [
    "p3"
   ]
  },
  {
   "cell_type": "code",
   "execution_count": 139,
   "id": "9573b964-dce9-4877-9b1c-898f55fcb46b",
   "metadata": {},
   "outputs": [
    {
     "data": {
      "text/plain": [
       "array([[[ 0,  1,  2],\n",
       "        [ 3,  4,  5],\n",
       "        [ 6,  7,  8]],\n",
       "\n",
       "       [[ 9, 10, 11],\n",
       "        [12, 13, 14],\n",
       "        [15, 16, 17]],\n",
       "\n",
       "       [[18, 19, 20],\n",
       "        [21, 22, 23],\n",
       "        [24, 25, 26]]])"
      ]
     },
     "execution_count": 139,
     "metadata": {},
     "output_type": "execute_result"
    }
   ],
   "source": [
    "p3=np.arange(27).reshape(3,3,3)\n",
    "p3"
   ]
  },
  {
   "cell_type": "code",
   "execution_count": 140,
   "id": "60e160e5-1f61-4360-a00c-4f6fe6b5be5f",
   "metadata": {},
   "outputs": [
    {
     "data": {
      "text/plain": [
       "array([[ 9, 10, 11],\n",
       "       [12, 13, 14],\n",
       "       [15, 16, 17]])"
      ]
     },
     "execution_count": 140,
     "metadata": {},
     "output_type": "execute_result"
    }
   ],
   "source": [
    "p3[1]"
   ]
  },
  {
   "cell_type": "code",
   "execution_count": 141,
   "id": "aec90e56-1d9a-4e1f-9a61-150692ba0e47",
   "metadata": {},
   "outputs": [
    {
     "data": {
      "text/plain": [
       "array([[[ 0,  1,  2],\n",
       "        [ 3,  4,  5],\n",
       "        [ 6,  7,  8]],\n",
       "\n",
       "       [[18, 19, 20],\n",
       "        [21, 22, 23],\n",
       "        [24, 25, 26]]])"
      ]
     },
     "execution_count": 141,
     "metadata": {},
     "output_type": "execute_result"
    }
   ],
   "source": [
    "p3[::2]"
   ]
  },
  {
   "cell_type": "code",
   "execution_count": 142,
   "id": "ad111023-9fba-41f9-bbf2-04e9df6cd267",
   "metadata": {},
   "outputs": [
    {
     "data": {
      "text/plain": [
       "array([3, 4, 5])"
      ]
     },
     "execution_count": 142,
     "metadata": {},
     "output_type": "execute_result"
    }
   ],
   "source": [
    "p3[0,1]"
   ]
  },
  {
   "cell_type": "code",
   "execution_count": 143,
   "id": "b88b3ba9-4ca9-4847-a713-e72463d1b03a",
   "metadata": {},
   "outputs": [
    {
     "data": {
      "text/plain": [
       "array([3, 4, 5])"
      ]
     },
     "execution_count": 143,
     "metadata": {},
     "output_type": "execute_result"
    }
   ],
   "source": [
    "p3[0,1,:]"
   ]
  },
  {
   "cell_type": "code",
   "execution_count": 144,
   "id": "f9667540-e133-4ed5-b800-35a3ccef8bf4",
   "metadata": {},
   "outputs": [
    {
     "data": {
      "text/plain": [
       "array([[[ 0,  1,  2],\n",
       "        [ 3,  4,  5],\n",
       "        [ 6,  7,  8]],\n",
       "\n",
       "       [[18, 19, 20],\n",
       "        [21, 22, 23],\n",
       "        [24, 25, 26]]])"
      ]
     },
     "execution_count": 144,
     "metadata": {},
     "output_type": "execute_result"
    }
   ],
   "source": [
    "p3[::2]"
   ]
  },
  {
   "cell_type": "code",
   "execution_count": 145,
   "id": "767549d4-e235-47b9-abe1-2117dca3021f",
   "metadata": {},
   "outputs": [
    {
     "data": {
      "text/plain": [
       "array([10, 13, 16])"
      ]
     },
     "execution_count": 145,
     "metadata": {},
     "output_type": "execute_result"
    }
   ],
   "source": [
    "p3[1,:,1]"
   ]
  },
  {
   "cell_type": "code",
   "execution_count": 146,
   "id": "45971185-3ac8-4ade-af24-ed7b42a355df",
   "metadata": {},
   "outputs": [
    {
     "data": {
      "text/plain": [
       "array([[22, 23],\n",
       "       [25, 26]])"
      ]
     },
     "execution_count": 146,
     "metadata": {},
     "output_type": "execute_result"
    }
   ],
   "source": [
    "p3[2,1:,1:]#this means 3rd matrix ,in this 3rd 1st to last row and first to last comlumn"
   ]
  },
  {
   "cell_type": "code",
   "execution_count": 147,
   "id": "071d06c4-52c3-41f4-a097-37bc6fcf80ed",
   "metadata": {},
   "outputs": [
    {
     "data": {
      "text/plain": [
       "array([[[ 0,  1,  2],\n",
       "        [ 3,  4,  5],\n",
       "        [ 6,  7,  8]],\n",
       "\n",
       "       [[18, 19, 20],\n",
       "        [21, 22, 23],\n",
       "        [24, 25, 26]]])"
      ]
     },
     "execution_count": 147,
     "metadata": {},
     "output_type": "execute_result"
    }
   ],
   "source": [
    "p3[0::2]"
   ]
  },
  {
   "cell_type": "code",
   "execution_count": 148,
   "id": "928a8a94-b22d-4aec-9024-43097c1f3c15",
   "metadata": {},
   "outputs": [
    {
     "data": {
      "text/plain": [
       "array([[[ 0,  1,  2],\n",
       "        [ 3,  4,  5],\n",
       "        [ 6,  7,  8]],\n",
       "\n",
       "       [[ 9, 10, 11],\n",
       "        [12, 13, 14],\n",
       "        [15, 16, 17]],\n",
       "\n",
       "       [[18, 19, 20],\n",
       "        [21, 22, 23],\n",
       "        [24, 25, 26]]])"
      ]
     },
     "execution_count": 148,
     "metadata": {},
     "output_type": "execute_result"
    }
   ],
   "source": [
    "p3"
   ]
  },
  {
   "cell_type": "code",
   "execution_count": 149,
   "id": "d1989a9f-4f70-43f7-a547-52e93228b303",
   "metadata": {},
   "outputs": [
    {
     "data": {
      "text/plain": [
       "array([[[ 0,  1,  2],\n",
       "        [ 3,  4,  5],\n",
       "        [ 6,  7,  8]],\n",
       "\n",
       "       [[ 9, 10, 11],\n",
       "        [12, 13, 14],\n",
       "        [15, 16, 17]]])"
      ]
     },
     "execution_count": 149,
     "metadata": {},
     "output_type": "execute_result"
    }
   ],
   "source": [
    "p3[0:2]"
   ]
  },
  {
   "cell_type": "code",
   "execution_count": 150,
   "id": "8bc1b8a8-43c0-4689-b028-edfcd3d64b09",
   "metadata": {},
   "outputs": [
    {
     "data": {
      "text/plain": [
       "array([[ 0,  1,  2],\n",
       "       [ 9, 10, 11]])"
      ]
     },
     "execution_count": 150,
     "metadata": {},
     "output_type": "execute_result"
    }
   ],
   "source": [
    "p3[0:2,0]"
   ]
  },
  {
   "cell_type": "code",
   "execution_count": 151,
   "id": "8358b7ad-bae6-4dd1-ae68-1bea57d9ecbb",
   "metadata": {},
   "outputs": [
    {
     "data": {
      "text/plain": [
       "array([[ 0,  2],\n",
       "       [ 9, 11]])"
      ]
     },
     "execution_count": 151,
     "metadata": {},
     "output_type": "execute_result"
    }
   ],
   "source": [
    "p3[0:2,0,::2]"
   ]
  },
  {
   "cell_type": "markdown",
   "id": "8242d35e-60c4-4579-a298-ef408e435df7",
   "metadata": {},
   "source": [
    "# 23-Iteratig"
   ]
  },
  {
   "cell_type": "code",
   "execution_count": 152,
   "id": "6c0b55c1-1054-4263-ab1c-c1f1f7f69f92",
   "metadata": {},
   "outputs": [
    {
     "name": "stdout",
     "output_type": "stream",
     "text": [
      "[[0 1 2]\n",
      " [3 4 5]\n",
      " [6 7 8]]\n",
      "[[ 9 10 11]\n",
      " [12 13 14]\n",
      " [15 16 17]]\n",
      "[[18 19 20]\n",
      " [21 22 23]\n",
      " [24 25 26]]\n"
     ]
    }
   ],
   "source": [
    "#using for loop\n",
    "for i in p3:print(i)#3d"
   ]
  },
  {
   "cell_type": "code",
   "execution_count": 153,
   "id": "11505e07-95cd-416e-9dd9-fbefeb06490a",
   "metadata": {},
   "outputs": [
    {
     "name": "stdout",
     "output_type": "stream",
     "text": [
      "0\n",
      "1\n",
      "2\n",
      "3\n",
      "4\n",
      "5\n",
      "6\n",
      "7\n",
      "8\n",
      "9\n"
     ]
    }
   ],
   "source": [
    "for i in p1:print(i)#1d"
   ]
  },
  {
   "cell_type": "code",
   "execution_count": 154,
   "id": "890f3299-c645-41e8-ad1a-5051e1f575a5",
   "metadata": {},
   "outputs": [
    {
     "name": "stdout",
     "output_type": "stream",
     "text": [
      "[0 1]\n",
      "[2 3]\n",
      "[4 5]\n",
      "[6 7]\n",
      "[8 9]\n",
      "[10 11]\n",
      "[12 13]\n",
      "[14 15]\n",
      "[16 17]\n"
     ]
    }
   ],
   "source": [
    "for i in p2:print(i)"
   ]
  },
  {
   "cell_type": "code",
   "execution_count": 155,
   "id": "e031d82a-0e87-439b-bd32-7d6a174f56fe",
   "metadata": {},
   "outputs": [
    {
     "data": {
      "text/plain": [
       "array([[ 0,  1],\n",
       "       [ 2,  3],\n",
       "       [ 4,  5],\n",
       "       [ 6,  7],\n",
       "       [ 8,  9],\n",
       "       [10, 11],\n",
       "       [12, 13],\n",
       "       [14, 15],\n",
       "       [16, 17]])"
      ]
     },
     "execution_count": 155,
     "metadata": {},
     "output_type": "execute_result"
    }
   ],
   "source": [
    "p2"
   ]
  },
  {
   "cell_type": "markdown",
   "id": "cf6736cd-9dce-45db-b56b-6d40c9e82003",
   "metadata": {},
   "source": [
    "# using nditer "
   ]
  },
  {
   "cell_type": "code",
   "execution_count": 156,
   "id": "0b657914-233c-421e-9660-998e6380a5fb",
   "metadata": {},
   "outputs": [
    {
     "name": "stdout",
     "output_type": "stream",
     "text": [
      "0\n",
      "1\n",
      "2\n",
      "3\n",
      "4\n",
      "5\n",
      "6\n",
      "7\n",
      "8\n",
      "9\n",
      "10\n",
      "11\n",
      "12\n",
      "13\n",
      "14\n",
      "15\n",
      "16\n",
      "17\n",
      "18\n",
      "19\n",
      "20\n",
      "21\n",
      "22\n",
      "23\n",
      "24\n",
      "25\n",
      "26\n"
     ]
    }
   ],
   "source": [
    "for i in np.nditer(p3):print(i)"
   ]
  },
  {
   "cell_type": "code",
   "execution_count": 157,
   "id": "851b2a35-d0bf-42c2-8ef6-d0bd1eda3bb9",
   "metadata": {},
   "outputs": [
    {
     "name": "stdout",
     "output_type": "stream",
     "text": [
      "0\n",
      "1\n",
      "2\n",
      "3\n",
      "4\n",
      "5\n",
      "6\n",
      "7\n",
      "8\n",
      "9\n",
      "10\n",
      "11\n",
      "12\n",
      "13\n",
      "14\n",
      "15\n",
      "16\n",
      "17\n"
     ]
    }
   ],
   "source": [
    "for i in np.nditer(p2):print(i)"
   ]
  },
  {
   "cell_type": "code",
   "execution_count": 158,
   "id": "a4ef605c-3ac9-47c9-8392-6d9536a486a8",
   "metadata": {},
   "outputs": [
    {
     "data": {
      "text/plain": [
       "array(17)"
      ]
     },
     "execution_count": 158,
     "metadata": {},
     "output_type": "execute_result"
    }
   ],
   "source": [
    "i"
   ]
  },
  {
   "cell_type": "markdown",
   "id": "473ef97b-6516-446b-a420-56b6c0e34b43",
   "metadata": {},
   "source": [
    "# 24-Reshaping"
   ]
  },
  {
   "cell_type": "code",
   "execution_count": 159,
   "id": "ff08abab-d659-46c8-8e3f-e135340c7d9e",
   "metadata": {},
   "outputs": [
    {
     "data": {
      "text/plain": [
       "array([[[ 0,  1,  2],\n",
       "        [ 3,  4,  5],\n",
       "        [ 6,  7,  8]],\n",
       "\n",
       "       [[ 9, 10, 11],\n",
       "        [12, 13, 14],\n",
       "        [15, 16, 17]],\n",
       "\n",
       "       [[18, 19, 20],\n",
       "        [21, 22, 23],\n",
       "        [24, 25, 26]]])"
      ]
     },
     "execution_count": 159,
     "metadata": {},
     "output_type": "execute_result"
    }
   ],
   "source": [
    "p3"
   ]
  },
  {
   "cell_type": "code",
   "execution_count": 160,
   "id": "003a76ee-64a4-4e02-b08d-e542097f927d",
   "metadata": {},
   "outputs": [
    {
     "data": {
      "text/plain": [
       "array([[[ 0,  9, 18],\n",
       "        [ 3, 12, 21],\n",
       "        [ 6, 15, 24]],\n",
       "\n",
       "       [[ 1, 10, 19],\n",
       "        [ 4, 13, 22],\n",
       "        [ 7, 16, 25]],\n",
       "\n",
       "       [[ 2, 11, 20],\n",
       "        [ 5, 14, 23],\n",
       "        [ 8, 17, 26]]])"
      ]
     },
     "execution_count": 160,
     "metadata": {},
     "output_type": "execute_result"
    }
   ],
   "source": [
    "np.transpose(p3)# using transpose is 1st method"
   ]
  },
  {
   "cell_type": "code",
   "execution_count": 161,
   "id": "9988024e-d2b5-425a-a18c-24f0d7584ecd",
   "metadata": {},
   "outputs": [
    {
     "data": {
      "text/plain": [
       "array([[[ 0,  1,  2],\n",
       "        [ 3,  4,  5],\n",
       "        [ 6,  7,  8]],\n",
       "\n",
       "       [[ 9, 10, 11],\n",
       "        [12, 13, 14],\n",
       "        [15, 16, 17]],\n",
       "\n",
       "       [[18, 19, 20],\n",
       "        [21, 22, 23],\n",
       "        [24, 25, 26]]])"
      ]
     },
     "execution_count": 161,
     "metadata": {},
     "output_type": "execute_result"
    }
   ],
   "source": [
    "p3"
   ]
  },
  {
   "cell_type": "code",
   "execution_count": 162,
   "id": "f16d186a-bebe-4ca6-99b6-8243bc61e43e",
   "metadata": {},
   "outputs": [
    {
     "data": {
      "text/plain": [
       "array([[[ 0,  9, 18],\n",
       "        [ 3, 12, 21],\n",
       "        [ 6, 15, 24]],\n",
       "\n",
       "       [[ 1, 10, 19],\n",
       "        [ 4, 13, 22],\n",
       "        [ 7, 16, 25]],\n",
       "\n",
       "       [[ 2, 11, 20],\n",
       "        [ 5, 14, 23],\n",
       "        [ 8, 17, 26]]])"
      ]
     },
     "execution_count": 162,
     "metadata": {},
     "output_type": "execute_result"
    }
   ],
   "source": [
    "p3.T#this is 2nd method"
   ]
  },
  {
   "cell_type": "code",
   "execution_count": 163,
   "id": "81523e47-d605-42c9-b7a1-38c2c467a1e5",
   "metadata": {},
   "outputs": [
    {
     "data": {
      "text/plain": [
       "array([[ 0,  2,  4,  6,  8, 10, 12, 14, 16],\n",
       "       [ 1,  3,  5,  7,  9, 11, 13, 15, 17]])"
      ]
     },
     "execution_count": 163,
     "metadata": {},
     "output_type": "execute_result"
    }
   ],
   "source": [
    "np.transpose(p2)"
   ]
  },
  {
   "cell_type": "code",
   "execution_count": 164,
   "id": "2493068b-b7db-4fce-9304-36174653fa1d",
   "metadata": {},
   "outputs": [
    {
     "data": {
      "text/plain": [
       "array([[ 0,  1],\n",
       "       [ 2,  3],\n",
       "       [ 4,  5],\n",
       "       [ 6,  7],\n",
       "       [ 8,  9],\n",
       "       [10, 11],\n",
       "       [12, 13],\n",
       "       [14, 15],\n",
       "       [16, 17]])"
      ]
     },
     "execution_count": 164,
     "metadata": {},
     "output_type": "execute_result"
    }
   ],
   "source": [
    "p2"
   ]
  },
  {
   "cell_type": "code",
   "execution_count": 165,
   "id": "2c8ee1c5-dc53-463d-9742-7452ab9e74e3",
   "metadata": {},
   "outputs": [
    {
     "data": {
      "text/plain": [
       "array([[ 0,  2,  4,  6,  8, 10, 12, 14, 16],\n",
       "       [ 1,  3,  5,  7,  9, 11, 13, 15, 17]])"
      ]
     },
     "execution_count": 165,
     "metadata": {},
     "output_type": "execute_result"
    }
   ],
   "source": [
    "p2.T"
   ]
  },
  {
   "cell_type": "markdown",
   "id": "4d5edd4f-c8c3-4b8f-8211-e6f73f46dc14",
   "metadata": {},
   "source": [
    "#ravel-converting any array in to 1d array"
   ]
  },
  {
   "cell_type": "code",
   "execution_count": 166,
   "id": "b832618c-5feb-4bc3-a5d0-9f4dd32b610f",
   "metadata": {},
   "outputs": [
    {
     "data": {
      "text/plain": [
       "array([ 0,  1,  2,  3,  4,  5,  6,  7,  8,  9, 10, 11, 12, 13, 14, 15, 16,\n",
       "       17, 18, 19, 20, 21, 22, 23, 24, 25, 26])"
      ]
     },
     "execution_count": 166,
     "metadata": {},
     "output_type": "execute_result"
    }
   ],
   "source": [
    "np.ravel(p3)"
   ]
  },
  {
   "cell_type": "code",
   "execution_count": 167,
   "id": "db7b9cda-169e-4fb3-9128-55488198c20c",
   "metadata": {},
   "outputs": [
    {
     "data": {
      "text/plain": [
       "array([ 0,  1,  2,  3,  4,  5,  6,  7,  8,  9, 10, 11, 12, 13, 14, 15, 16,\n",
       "       17, 18, 19, 20, 21, 22, 23, 24, 25, 26])"
      ]
     },
     "execution_count": 167,
     "metadata": {},
     "output_type": "execute_result"
    }
   ],
   "source": [
    "p3.ravel()"
   ]
  },
  {
   "cell_type": "markdown",
   "id": "68adf48d-11e1-4325-9a2e-07a4e750a318",
   "metadata": {},
   "source": [
    "# 25- stacking"
   ]
  },
  {
   "cell_type": "code",
   "execution_count": 168,
   "id": "c1db4aa7-b10c-429b-9606-d0cc5daa603c",
   "metadata": {},
   "outputs": [],
   "source": [
    "# this is used to for joining the arrays,if the dimensions are same"
   ]
  },
  {
   "cell_type": "code",
   "execution_count": 169,
   "id": "7febcdcf-f08e-43d6-81c9-b04c11c32b57",
   "metadata": {},
   "outputs": [],
   "source": [
    "w1=np.arange(12).reshape(3,4)\n",
    "w2=np.arange(12,24).reshape(3,4)"
   ]
  },
  {
   "cell_type": "code",
   "execution_count": 170,
   "id": "2826cc96-58fa-4cf6-add6-b0aae27d3ef3",
   "metadata": {},
   "outputs": [
    {
     "data": {
      "text/plain": [
       "array([ 0,  1,  2,  3,  4,  5,  6,  7,  8,  9, 10, 11])"
      ]
     },
     "execution_count": 170,
     "metadata": {},
     "output_type": "execute_result"
    }
   ],
   "source": [
    "np.hstack(w1)#this is for horizontal stacking"
   ]
  },
  {
   "cell_type": "code",
   "execution_count": 171,
   "id": "55159eac-15dd-4e60-812e-f2e8d91035ee",
   "metadata": {},
   "outputs": [
    {
     "data": {
      "text/plain": [
       "array([[12, 13, 14, 15],\n",
       "       [16, 17, 18, 19],\n",
       "       [20, 21, 22, 23]])"
      ]
     },
     "execution_count": 171,
     "metadata": {},
     "output_type": "execute_result"
    }
   ],
   "source": [
    "np.vstack(w2)#this is for vertical stacking"
   ]
  },
  {
   "cell_type": "markdown",
   "id": "1e1f86a8-4e49-47a1-a13a-0967ef4301cb",
   "metadata": {},
   "source": [
    "# 26-Splitting"
   ]
  },
  {
   "cell_type": "code",
   "execution_count": 172,
   "id": "1f320a74-db92-4e62-8566-2ba28912c8d5",
   "metadata": {},
   "outputs": [
    {
     "data": {
      "text/plain": [
       "array([[ 0,  1,  2,  3],\n",
       "       [ 4,  5,  6,  7],\n",
       "       [ 8,  9, 10, 11]])"
      ]
     },
     "execution_count": 172,
     "metadata": {},
     "output_type": "execute_result"
    }
   ],
   "source": [
    "w1"
   ]
  },
  {
   "cell_type": "code",
   "execution_count": 173,
   "id": "b9bcb3b4-8e74-45b8-adc7-e58b2e40b401",
   "metadata": {},
   "outputs": [
    {
     "data": {
      "text/plain": [
       "[array([[0, 1],\n",
       "        [4, 5],\n",
       "        [8, 9]]),\n",
       " array([[ 2,  3],\n",
       "        [ 6,  7],\n",
       "        [10, 11]])]"
      ]
     },
     "execution_count": 173,
     "metadata": {},
     "output_type": "execute_result"
    }
   ],
   "source": [
    "np.hsplit(w1,2)"
   ]
  },
  {
   "cell_type": "code",
   "execution_count": 174,
   "id": "c12fa39b-054b-46b6-bd0b-ace21d508b71",
   "metadata": {},
   "outputs": [
    {
     "data": {
      "text/plain": [
       "[array([[0],\n",
       "        [4],\n",
       "        [8]]),\n",
       " array([[1],\n",
       "        [5],\n",
       "        [9]]),\n",
       " array([[ 2],\n",
       "        [ 6],\n",
       "        [10]]),\n",
       " array([[ 3],\n",
       "        [ 7],\n",
       "        [11]])]"
      ]
     },
     "execution_count": 174,
     "metadata": {},
     "output_type": "execute_result"
    }
   ],
   "source": [
    "np.hsplit(w1,4)"
   ]
  },
  {
   "cell_type": "code",
   "execution_count": 175,
   "id": "f42486b3-e03c-4c3c-ac86-b88ce26b630f",
   "metadata": {},
   "outputs": [
    {
     "data": {
      "text/plain": [
       "array([[12, 13, 14, 15],\n",
       "       [16, 17, 18, 19],\n",
       "       [20, 21, 22, 23]])"
      ]
     },
     "execution_count": 175,
     "metadata": {},
     "output_type": "execute_result"
    }
   ],
   "source": [
    "w2"
   ]
  },
  {
   "cell_type": "code",
   "execution_count": 176,
   "id": "fc22771d-69cf-44be-b343-f60ef1f2757c",
   "metadata": {},
   "outputs": [
    {
     "data": {
      "text/plain": [
       "[array([[12, 13, 14, 15]]),\n",
       " array([[16, 17, 18, 19]]),\n",
       " array([[20, 21, 22, 23]])]"
      ]
     },
     "execution_count": 176,
     "metadata": {},
     "output_type": "execute_result"
    }
   ],
   "source": [
    "np.vsplit(w2,3)"
   ]
  },
  {
   "cell_type": "markdown",
   "id": "eaa48a82-bdeb-43c6-97f7-3f833ffd2744",
   "metadata": {},
   "source": [
    "# 27-checking the speed of the lists vs numpy"
   ]
  },
  {
   "cell_type": "code",
   "execution_count": 177,
   "id": "2d778e74-98c1-4060-850a-43b1156b4c2b",
   "metadata": {},
   "outputs": [],
   "source": [
    "#element wise additon"
   ]
  },
  {
   "cell_type": "code",
   "execution_count": 178,
   "id": "e1a3bc32-d441-49d4-8068-15c616266617",
   "metadata": {},
   "outputs": [
    {
     "name": "stdout",
     "output_type": "stream",
     "text": [
      "3.0859718322753906\n"
     ]
    }
   ],
   "source": [
    "a=[i for i in range(10000000)]\n",
    "b=[i for i in range(1000000,20000000)]\n",
    "c=[]\n",
    "import time\n",
    "start=time.time()\n",
    "#print(start)\n",
    "for i in range(len(a)):\n",
    "    c.append(a[i]+b[i])\n",
    "print(time.time()-start)"
   ]
  },
  {
   "cell_type": "code",
   "execution_count": 179,
   "id": "22c638ca-ce72-4b8f-86b5-f8e94177557d",
   "metadata": {},
   "outputs": [],
   "source": [
    "#numpy"
   ]
  },
  {
   "cell_type": "code",
   "execution_count": 180,
   "id": "095da231-b2a7-4efa-8b91-06759f2c1480",
   "metadata": {},
   "outputs": [
    {
     "name": "stdout",
     "output_type": "stream",
     "text": [
      "0.16389799118041992\n"
     ]
    }
   ],
   "source": [
    "a=np.arange(10000000)\n",
    "b=np.arange(10000000,20000000)\n",
    "start=time.time()\n",
    "#print(start)\n",
    "c=a+b\n",
    "print(time.time()-start)"
   ]
  },
  {
   "cell_type": "code",
   "execution_count": 181,
   "id": "7b4e3f39-b1a3-4300-9c1b-15082c275e23",
   "metadata": {},
   "outputs": [
    {
     "data": {
      "text/plain": [
       "31.3342236708724"
      ]
     },
     "execution_count": 181,
     "metadata": {},
     "output_type": "execute_result"
    }
   ],
   "source": [
    "3.2500438690185547/0.10372185707092285"
   ]
  },
  {
   "cell_type": "markdown",
   "id": "fb7e503c-0a11-4136-bf14-0cddaa640084",
   "metadata": {},
   "source": [
    "# 28-now memory comparision"
   ]
  },
  {
   "cell_type": "code",
   "execution_count": 182,
   "id": "cb9706ad-b3fb-47c9-a7ee-c3c0f075cb92",
   "metadata": {},
   "outputs": [
    {
     "data": {
      "text/plain": [
       "89095160"
      ]
     },
     "execution_count": 182,
     "metadata": {},
     "output_type": "execute_result"
    }
   ],
   "source": [
    "l=[i for i in range(10000000)]\n",
    "import sys\n",
    "sys.getsizeof(l)"
   ]
  },
  {
   "cell_type": "code",
   "execution_count": 183,
   "id": "aabf3a80-7b4c-46c2-ad35-da408f3b7386",
   "metadata": {},
   "outputs": [
    {
     "data": {
      "text/plain": [
       "40000112"
      ]
     },
     "execution_count": 183,
     "metadata": {},
     "output_type": "execute_result"
    }
   ],
   "source": [
    "n=np.arange(10000000)\n",
    "sys.getsizeof(n)"
   ]
  },
  {
   "cell_type": "code",
   "execution_count": 184,
   "id": "40f204e2-a858-4138-b3a3-8e12d535f201",
   "metadata": {},
   "outputs": [
    {
     "data": {
      "text/plain": [
       "20000112"
      ]
     },
     "execution_count": 184,
     "metadata": {},
     "output_type": "execute_result"
    }
   ],
   "source": [
    "n=np.arange(10000000,dtype=np.int16)\n",
    "sys.getsizeof(n)"
   ]
  },
  {
   "cell_type": "code",
   "execution_count": 185,
   "id": "5c8c8673-4bb0-4a88-891a-03ac4e2fcef2",
   "metadata": {},
   "outputs": [
    {
     "data": {
      "text/plain": [
       "'np.int16 allows you to store integers from \\n−\\n32\\n,\\n768\\n−32,768 to \\n32\\n,\\n767\\n32,767 using 2 bytes per element.\\n\\nUsing np.int16 reduces memory consumption compared to larger integer types like np.int32 (32-bit) or np.int64 (64-bit), but it limits the range of values that can be stored.'"
      ]
     },
     "execution_count": 185,
     "metadata": {},
     "output_type": "execute_result"
    }
   ],
   "source": [
    "'''np.int16 allows you to store integers from \n",
    "−\n",
    "32\n",
    ",\n",
    "768\n",
    "−32,768 to \n",
    "32\n",
    ",\n",
    "767\n",
    "32,767 using 2 bytes per element.\n",
    "\n",
    "Using np.int16 reduces memory consumption compared to larger integer types like np.int32 (32-bit) or np.int64 (64-bit), but it limits the range of values that can be stored.'''"
   ]
  },
  {
   "cell_type": "markdown",
   "id": "324e2b47-bba6-4560-bf22-a151f6228097",
   "metadata": {},
   "source": [
    "# 29-Advanced indexing and slicing"
   ]
  },
  {
   "cell_type": "code",
   "execution_count": 186,
   "id": "329ede24-63e9-4ebc-8b39-792b7e06f91d",
   "metadata": {},
   "outputs": [],
   "source": [
    "#normal indexing "
   ]
  },
  {
   "cell_type": "code",
   "execution_count": 187,
   "id": "a33ff76c-5500-45c6-acdf-0db585f5520c",
   "metadata": {},
   "outputs": [
    {
     "data": {
      "text/plain": [
       "array([[ 0,  1,  2],\n",
       "       [ 3,  4,  5],\n",
       "       [ 6,  7,  8],\n",
       "       [ 9, 10, 11]])"
      ]
     },
     "execution_count": 187,
     "metadata": {},
     "output_type": "execute_result"
    }
   ],
   "source": [
    "i=np.arange(12).reshape(4,3)\n",
    "i"
   ]
  },
  {
   "cell_type": "code",
   "execution_count": 188,
   "id": "d3935e22-f4ef-45f7-a485-6cc7f77a1b4f",
   "metadata": {},
   "outputs": [
    {
     "data": {
      "text/plain": [
       "5"
      ]
     },
     "execution_count": 188,
     "metadata": {},
     "output_type": "execute_result"
    }
   ],
   "source": [
    "i[1,2]"
   ]
  },
  {
   "cell_type": "code",
   "execution_count": 189,
   "id": "4a0e69ee-8611-4162-a6ae-766e435ffbb4",
   "metadata": {},
   "outputs": [
    {
     "data": {
      "text/plain": [
       "array([[3, 4, 5],\n",
       "       [6, 7, 8]])"
      ]
     },
     "execution_count": 189,
     "metadata": {},
     "output_type": "execute_result"
    }
   ],
   "source": [
    "i[1:3]"
   ]
  },
  {
   "cell_type": "code",
   "execution_count": 190,
   "id": "72d00d37-099c-4ebe-897d-ed97753b77f2",
   "metadata": {},
   "outputs": [
    {
     "data": {
      "text/plain": [
       "array([[4, 5],\n",
       "       [7, 8]])"
      ]
     },
     "execution_count": 190,
     "metadata": {},
     "output_type": "execute_result"
    }
   ],
   "source": [
    "i[1:3,1:3]"
   ]
  },
  {
   "cell_type": "markdown",
   "id": "d888987d-f89b-40c1-a308-ccac49908a68",
   "metadata": {},
   "source": [
    "#fancy indexing"
   ]
  },
  {
   "cell_type": "code",
   "execution_count": 191,
   "id": "f80fb10e-18b2-4c75-8d65-a69143e12993",
   "metadata": {},
   "outputs": [
    {
     "data": {
      "text/plain": [
       "array([[ 0,  1,  2],\n",
       "       [ 3,  4,  5],\n",
       "       [ 6,  7,  8],\n",
       "       [ 9, 10, 11]])"
      ]
     },
     "execution_count": 191,
     "metadata": {},
     "output_type": "execute_result"
    }
   ],
   "source": [
    "i"
   ]
  },
  {
   "cell_type": "code",
   "execution_count": 192,
   "id": "b803757e-7397-40f7-bfef-27c14bd0dfcd",
   "metadata": {},
   "outputs": [
    {
     "data": {
      "text/plain": [
       "array([[ 0,  1,  2],\n",
       "       [ 6,  7,  8],\n",
       "       [ 9, 10, 11]])"
      ]
     },
     "execution_count": 192,
     "metadata": {},
     "output_type": "execute_result"
    }
   ],
   "source": [
    "i[[0,2,3]]\n"
   ]
  },
  {
   "cell_type": "code",
   "execution_count": 193,
   "id": "5e5ef205-66b0-463f-8f60-b22f26bdb1bf",
   "metadata": {},
   "outputs": [],
   "source": [
    "new=np.arange(24).reshape(6,4)"
   ]
  },
  {
   "cell_type": "code",
   "execution_count": 194,
   "id": "76ff291f-7fc7-40c4-bb8b-faadd9b2653b",
   "metadata": {},
   "outputs": [
    {
     "data": {
      "text/plain": [
       "array([[ 0,  1,  2,  3],\n",
       "       [ 4,  5,  6,  7],\n",
       "       [ 8,  9, 10, 11],\n",
       "       [12, 13, 14, 15],\n",
       "       [16, 17, 18, 19],\n",
       "       [20, 21, 22, 23]])"
      ]
     },
     "execution_count": 194,
     "metadata": {},
     "output_type": "execute_result"
    }
   ],
   "source": [
    "new"
   ]
  },
  {
   "cell_type": "code",
   "execution_count": 195,
   "id": "e7f8f300-ddff-493b-b000-cc0275bd38c8",
   "metadata": {},
   "outputs": [
    {
     "data": {
      "text/plain": [
       "array([[ 0,  1,  2,  3],\n",
       "       [ 8,  9, 10, 11],\n",
       "       [16, 17, 18, 19],\n",
       "       [20, 21, 22, 23]])"
      ]
     },
     "execution_count": 195,
     "metadata": {},
     "output_type": "execute_result"
    }
   ],
   "source": [
    "new[[0,2,4,5]]"
   ]
  },
  {
   "cell_type": "code",
   "execution_count": 196,
   "id": "ab7b09d3-138b-4abb-8130-6edee77ff2b6",
   "metadata": {},
   "outputs": [
    {
     "data": {
      "text/plain": [
       "array([[ 0,  2,  3],\n",
       "       [ 4,  6,  7],\n",
       "       [ 8, 10, 11],\n",
       "       [12, 14, 15],\n",
       "       [16, 18, 19],\n",
       "       [20, 22, 23]])"
      ]
     },
     "execution_count": 196,
     "metadata": {},
     "output_type": "execute_result"
    }
   ],
   "source": [
    "new[:,[0,2,3]]"
   ]
  },
  {
   "cell_type": "code",
   "execution_count": 197,
   "id": "2611bcb1-f435-442c-b2eb-d9f6e0b59271",
   "metadata": {},
   "outputs": [
    {
     "data": {
      "text/plain": [
       "array([[ 0,  1,  2,  3],\n",
       "       [ 4,  5,  6,  7],\n",
       "       [ 8,  9, 10, 11],\n",
       "       [12, 13, 14, 15],\n",
       "       [16, 17, 18, 19],\n",
       "       [20, 21, 22, 23]])"
      ]
     },
     "execution_count": 197,
     "metadata": {},
     "output_type": "execute_result"
    }
   ],
   "source": [
    "new"
   ]
  },
  {
   "cell_type": "code",
   "execution_count": 198,
   "id": "e1a96dbf-e7d8-484a-985d-b28aa38a7cb5",
   "metadata": {},
   "outputs": [
    {
     "data": {
      "text/plain": [
       "array([ 0,  9, 15])"
      ]
     },
     "execution_count": 198,
     "metadata": {},
     "output_type": "execute_result"
    }
   ],
   "source": [
    "new[[0,2,3],[0,1,3]]"
   ]
  },
  {
   "cell_type": "code",
   "execution_count": 199,
   "id": "e92060d9-2fbd-48be-bfaf-0743c9b2bab6",
   "metadata": {},
   "outputs": [
    {
     "data": {
      "text/plain": [
       "array([[ 0,  1,  2,  3],\n",
       "       [ 4,  5,  6,  7],\n",
       "       [ 8,  9, 10, 11],\n",
       "       [12, 13, 14, 15],\n",
       "       [16, 17, 18, 19],\n",
       "       [20, 21, 22, 23]])"
      ]
     },
     "execution_count": 199,
     "metadata": {},
     "output_type": "execute_result"
    }
   ],
   "source": [
    "new"
   ]
  },
  {
   "cell_type": "code",
   "execution_count": 200,
   "id": "85df2298-93ba-4a39-b526-9e7538a92cef",
   "metadata": {},
   "outputs": [
    {
     "data": {
      "text/plain": [
       "array([ 0,  9, 18])"
      ]
     },
     "execution_count": 200,
     "metadata": {},
     "output_type": "execute_result"
    }
   ],
   "source": [
    "new[[0,2,4],[0,1,2]]"
   ]
  },
  {
   "cell_type": "markdown",
   "id": "86a29b36-24fb-4d67-940b-4a888565b071",
   "metadata": {},
   "source": [
    "#Boolean indexing"
   ]
  },
  {
   "cell_type": "code",
   "execution_count": null,
   "id": "750f7ace-14d4-41c4-935c-39cf5053053f",
   "metadata": {},
   "outputs": [],
   "source": []
  },
  {
   "cell_type": "code",
   "execution_count": 201,
   "id": "72dbbdd1-f4d0-43c4-8adc-a16efa3a293c",
   "metadata": {},
   "outputs": [
    {
     "data": {
      "text/plain": [
       "array([[22, 89, 45, 53],\n",
       "       [27,  4, 18, 19],\n",
       "       [41, 15, 95, 30],\n",
       "       [70, 94, 45, 33],\n",
       "       [50, 69, 60, 93],\n",
       "       [48, 93, 79, 10]])"
      ]
     },
     "execution_count": 201,
     "metadata": {},
     "output_type": "execute_result"
    }
   ],
   "source": [
    "g=np.random.randint(1,100,24).reshape(6,4)\n",
    "g"
   ]
  },
  {
   "cell_type": "code",
   "execution_count": 202,
   "id": "9e0890df-b2db-47ca-8523-e169facf6c37",
   "metadata": {},
   "outputs": [
    {
     "data": {
      "text/plain": [
       "array([17,  4,  0,  7, 11, 15,  7, 17])"
      ]
     },
     "execution_count": 202,
     "metadata": {},
     "output_type": "execute_result"
    }
   ],
   "source": [
    "np.random.randint(0,18,8)"
   ]
  },
  {
   "cell_type": "code",
   "execution_count": 203,
   "id": "312b7e86-6cc2-403a-b0d4-25c3c06265b0",
   "metadata": {},
   "outputs": [
    {
     "data": {
      "text/plain": [
       "array([[22, 89, 45, 53],\n",
       "       [27,  4, 18, 19],\n",
       "       [41, 15, 95, 30],\n",
       "       [70, 94, 45, 33],\n",
       "       [50, 69, 60, 93],\n",
       "       [48, 93, 79, 10]])"
      ]
     },
     "execution_count": 203,
     "metadata": {},
     "output_type": "execute_result"
    }
   ],
   "source": [
    "g"
   ]
  },
  {
   "cell_type": "code",
   "execution_count": 204,
   "id": "ae2b143f-a775-4416-acef-61089ee6407c",
   "metadata": {},
   "outputs": [
    {
     "data": {
      "text/plain": [
       "array([[False,  True, False,  True],\n",
       "       [False, False, False, False],\n",
       "       [False, False,  True, False],\n",
       "       [ True,  True, False, False],\n",
       "       [False,  True,  True,  True],\n",
       "       [False,  True,  True, False]])"
      ]
     },
     "execution_count": 204,
     "metadata": {},
     "output_type": "execute_result"
    }
   ],
   "source": [
    "g>50"
   ]
  },
  {
   "cell_type": "code",
   "execution_count": 205,
   "id": "5eabc1f6-2720-433b-9105-8ee0a1a7ce24",
   "metadata": {},
   "outputs": [
    {
     "data": {
      "text/plain": [
       "array([89, 53, 95, 70, 94, 69, 60, 93, 93, 79])"
      ]
     },
     "execution_count": 205,
     "metadata": {},
     "output_type": "execute_result"
    }
   ],
   "source": [
    "g[g>50]"
   ]
  },
  {
   "cell_type": "code",
   "execution_count": 206,
   "id": "6963021b-314e-451c-87ce-c5c3fef053dc",
   "metadata": {},
   "outputs": [],
   "source": [
    "# finding out even numbers\n",
    "_perce=g % 2==0"
   ]
  },
  {
   "cell_type": "code",
   "execution_count": 207,
   "id": "0eb3508f-ecfa-47bf-bc26-48a255dcdeeb",
   "metadata": {},
   "outputs": [
    {
     "data": {
      "text/plain": [
       "array([22,  4, 18, 30, 70, 94, 50, 60, 48, 10])"
      ]
     },
     "execution_count": 207,
     "metadata": {},
     "output_type": "execute_result"
    }
   ],
   "source": [
    "g[_perce]"
   ]
  },
  {
   "cell_type": "code",
   "execution_count": 208,
   "id": "928f7e0b-5110-40ae-a9fe-47d5c95f7074",
   "metadata": {},
   "outputs": [
    {
     "data": {
      "text/plain": [
       "array([[False, False, False, False],\n",
       "       [False, False, False, False],\n",
       "       [False, False, False, False],\n",
       "       [ True,  True, False, False],\n",
       "       [False, False,  True, False],\n",
       "       [False, False, False, False]])"
      ]
     },
     "execution_count": 208,
     "metadata": {},
     "output_type": "execute_result"
    }
   ],
   "source": [
    "#to find greater then 50 and even numbers\n",
    "(g%2==0) & ( g>50)\n"
   ]
  },
  {
   "cell_type": "code",
   "execution_count": 209,
   "id": "3bbafeb7-6b01-4e3a-a763-cd5a63bfac2b",
   "metadata": {},
   "outputs": [
    {
     "data": {
      "text/plain": [
       "array([70, 94, 60])"
      ]
     },
     "execution_count": 209,
     "metadata": {},
     "output_type": "execute_result"
    }
   ],
   "source": [
    "g[(g%2==0) &(g>50)]"
   ]
  },
  {
   "cell_type": "code",
   "execution_count": 210,
   "id": "b19ae514-c1cd-4364-adc9-3cd2d993a00f",
   "metadata": {},
   "outputs": [
    {
     "data": {
      "text/plain": [
       "array([70])"
      ]
     },
     "execution_count": 210,
     "metadata": {},
     "output_type": "execute_result"
    }
   ],
   "source": [
    "g[g%7==0]#finding numbers which are not divisible by 7"
   ]
  },
  {
   "cell_type": "code",
   "execution_count": 211,
   "id": "38bc04e6-b9be-4370-8381-323253fbe485",
   "metadata": {},
   "outputs": [
    {
     "data": {
      "text/plain": [
       "array([22, 89, 45, 53, 27,  4, 18, 19, 41, 15, 95, 30, 94, 45, 33, 50, 69,\n",
       "       60, 93, 48, 93, 79, 10])"
      ]
     },
     "execution_count": 211,
     "metadata": {},
     "output_type": "execute_result"
    }
   ],
   "source": [
    "g[~(g % 7 == 0)]"
   ]
  },
  {
   "cell_type": "markdown",
   "id": "f9eba67e-1a0a-425d-b812-04a8e9da4f96",
   "metadata": {},
   "source": [
    "# Broadcasting"
   ]
  },
  {
   "cell_type": "raw",
   "id": "d7f814dc-80a2-496c-aa81-1fef66960c10",
   "metadata": {},
   "source": [
    "broad casting means how numpy treats arrays with different shapes,during arithmetic operations"
   ]
  },
  {
   "cell_type": "code",
   "execution_count": 212,
   "id": "017f9cdf-cae3-479a-89f9-4f228f53c02e",
   "metadata": {},
   "outputs": [
    {
     "name": "stdout",
     "output_type": "stream",
     "text": [
      "[[0 1 2]\n",
      " [3 4 5]]\n",
      "[[ 6  7  8]\n",
      " [ 9 10 11]]\n"
     ]
    }
   ],
   "source": [
    "bcast1=np.arange(6).reshape(2,3)\n",
    "bcast2=np.arange(6,12).reshape(2,3)\n",
    "print(bcast1)\n",
    "\n",
    "print(bcast2)"
   ]
  },
  {
   "cell_type": "code",
   "execution_count": 213,
   "id": "8020c504-47d8-4400-9091-9f20ec0c76bf",
   "metadata": {},
   "outputs": [
    {
     "name": "stdout",
     "output_type": "stream",
     "text": [
      "[[ 6  8 10]\n",
      " [12 14 16]]\n"
     ]
    }
   ],
   "source": [
    "print(bcast1+bcast2)"
   ]
  },
  {
   "cell_type": "code",
   "execution_count": 214,
   "id": "0983c39d-7d61-412a-87ba-b4a4b8f01592",
   "metadata": {},
   "outputs": [],
   "source": [
    "bcast3=np.arange(9).reshape(3,3)"
   ]
  },
  {
   "cell_type": "code",
   "execution_count": 215,
   "id": "50209456-213e-4beb-bc33-44e9cc5f9996",
   "metadata": {},
   "outputs": [
    {
     "data": {
      "text/plain": [
       "array([[0, 1, 2],\n",
       "       [3, 4, 5],\n",
       "       [6, 7, 8]])"
      ]
     },
     "execution_count": 215,
     "metadata": {},
     "output_type": "execute_result"
    }
   ],
   "source": [
    "bcast3"
   ]
  },
  {
   "cell_type": "code",
   "execution_count": 216,
   "id": "05910046-bb47-4580-808d-5e1da73f48ab",
   "metadata": {},
   "outputs": [
    {
     "data": {
      "text/plain": [
       "array([[0, 1, 2],\n",
       "       [3, 4, 5]])"
      ]
     },
     "execution_count": 216,
     "metadata": {},
     "output_type": "execute_result"
    }
   ],
   "source": [
    "bcast1"
   ]
  },
  {
   "cell_type": "code",
   "execution_count": 217,
   "id": "b8daeb33-7675-4ae2-91be-455d14f5a8a2",
   "metadata": {},
   "outputs": [
    {
     "data": {
      "text/plain": [
       "array([[0],\n",
       "       [1]])"
      ]
     },
     "execution_count": 217,
     "metadata": {},
     "output_type": "execute_result"
    }
   ],
   "source": [
    "v=np.arange(2).reshape(2,1)\n",
    "v"
   ]
  },
  {
   "cell_type": "code",
   "execution_count": 218,
   "id": "970e424e-ceda-4728-a5b2-74cd24015b71",
   "metadata": {},
   "outputs": [
    {
     "data": {
      "text/plain": [
       "array([[0, 1, 2],\n",
       "       [4, 5, 6]])"
      ]
     },
     "execution_count": 218,
     "metadata": {},
     "output_type": "execute_result"
    }
   ],
   "source": [
    "v+bcast1"
   ]
  },
  {
   "cell_type": "code",
   "execution_count": 219,
   "id": "d1250c69-31d0-41d1-977d-949653b304f3",
   "metadata": {},
   "outputs": [],
   "source": [
    "#bcast3+6,2"
   ]
  },
  {
   "cell_type": "code",
   "execution_count": 220,
   "id": "8bd6e916-1924-4956-9c76-d9ef51176fee",
   "metadata": {},
   "outputs": [
    {
     "data": {
      "text/plain": [
       "array([[0, 1, 2],\n",
       "       [3, 4, 5]])"
      ]
     },
     "execution_count": 220,
     "metadata": {},
     "output_type": "execute_result"
    }
   ],
   "source": [
    "bcast3=np.arange(6).reshape(2,3)\n",
    "bcast3"
   ]
  },
  {
   "cell_type": "code",
   "execution_count": 221,
   "id": "21641326-1d6a-4f8a-9749-b7033cf8d295",
   "metadata": {},
   "outputs": [
    {
     "data": {
      "text/plain": [
       "array([[ 6,  8, 10],\n",
       "       [12, 14, 16]])"
      ]
     },
     "execution_count": 221,
     "metadata": {},
     "output_type": "execute_result"
    }
   ],
   "source": [
    "bcast2+bcast3#for example we have[0,2,2,2] and we want to perform broadcasting ,so for this we neeed similar array like[1,2,3,4]"
   ]
  },
  {
   "cell_type": "code",
   "execution_count": 222,
   "id": "7a0a2e93-7a9c-4f47-8484-5f8a4c7c6499",
   "metadata": {},
   "outputs": [
    {
     "data": {
      "text/plain": [
       "array([[[ 0,  1,  2],\n",
       "        [ 3,  4,  5]],\n",
       "\n",
       "       [[ 6,  7,  8],\n",
       "        [ 9, 10, 11]],\n",
       "\n",
       "       [[12, 13, 14],\n",
       "        [15, 16, 17]]])"
      ]
     },
     "execution_count": 222,
     "metadata": {},
     "output_type": "execute_result"
    }
   ],
   "source": [
    "l=np.arange(18).reshape(3,2,3)\n",
    "l"
   ]
  },
  {
   "cell_type": "code",
   "execution_count": 223,
   "id": "8192ef38-6abb-40be-a6b2-32be54fd5af0",
   "metadata": {},
   "outputs": [
    {
     "data": {
      "text/plain": [
       "array([[[ 0,  2,  4],\n",
       "        [ 6,  8, 10]],\n",
       "\n",
       "       [[ 6,  8, 10],\n",
       "        [12, 14, 16]],\n",
       "\n",
       "       [[12, 14, 16],\n",
       "        [18, 20, 22]]])"
      ]
     },
     "execution_count": 223,
     "metadata": {},
     "output_type": "execute_result"
    }
   ],
   "source": [
    "bcast3+l"
   ]
  },
  {
   "cell_type": "code",
   "execution_count": 224,
   "id": "3960a033-410d-4ab0-9576-f44e9034cd56",
   "metadata": {},
   "outputs": [],
   "source": [
    "#more examples\n",
    "a_=np.arange(12).reshape(4,3)\n",
    "b_=np.arange(3)"
   ]
  },
  {
   "cell_type": "code",
   "execution_count": 225,
   "id": "ec300949-36ad-4fba-8d1c-5d37ad085880",
   "metadata": {},
   "outputs": [
    {
     "name": "stdout",
     "output_type": "stream",
     "text": [
      "[[ 0  1  2]\n",
      " [ 3  4  5]\n",
      " [ 6  7  8]\n",
      " [ 9 10 11]]\n",
      "[0 1 2]\n"
     ]
    }
   ],
   "source": [
    "print(a_)\n",
    "'     '\n",
    "print(b_)"
   ]
  },
  {
   "cell_type": "code",
   "execution_count": 226,
   "id": "fd5d1349-6b5d-4d0b-add0-3431da3fc415",
   "metadata": {},
   "outputs": [
    {
     "name": "stdout",
     "output_type": "stream",
     "text": [
      "[[ 0  2  4]\n",
      " [ 3  5  7]\n",
      " [ 6  8 10]\n",
      " [ 9 11 13]]\n"
     ]
    }
   ],
   "source": [
    "print(a_+b_)"
   ]
  },
  {
   "cell_type": "code",
   "execution_count": 227,
   "id": "e840bdb2-bba4-426d-a3cd-5f5156dddff5",
   "metadata": {},
   "outputs": [
    {
     "name": "stdout",
     "output_type": "stream",
     "text": [
      "[[0 1 2]]\n",
      "[[0]\n",
      " [1]\n",
      " [2]\n",
      " [3]]\n",
      "[[0 1 2]\n",
      " [1 2 3]\n",
      " [2 3 4]\n",
      " [3 4 5]]\n"
     ]
    }
   ],
   "source": [
    "a=np.arange(3).reshape(1,3)\n",
    "b=np.arange(4).reshape(4,1)\n",
    "print(a)\n",
    "'[#####################]'\n",
    "print(b)\n",
    "'44444444444444'\n",
    "print(a+b)"
   ]
  },
  {
   "cell_type": "code",
   "execution_count": 228,
   "id": "56983d6d-5ed6-4383-ab0a-a4d7e89ab2ef",
   "metadata": {},
   "outputs": [
    {
     "name": "stdout",
     "output_type": "stream",
     "text": [
      "[[ 0  1  2]\n",
      " [ 3  4  5]\n",
      " [ 6  7  8]\n",
      " [ 9 10 11]]\n"
     ]
    }
   ],
   "source": [
    "\n",
    "a = np.arange(12).reshape(4,3) \n",
    "b = np.arange(12).reshape(4,3)\n",
    "print(a)"
   ]
  },
  {
   "cell_type": "code",
   "execution_count": 229,
   "id": "cb501ef7-ab11-491b-a2f5-f31e9d774948",
   "metadata": {},
   "outputs": [
    {
     "name": "stdout",
     "output_type": "stream",
     "text": [
      "[[ 0  1  2]\n",
      " [ 3  4  5]\n",
      " [ 6  7  8]\n",
      " [ 9 10 11]]\n"
     ]
    }
   ],
   "source": [
    "print(b)"
   ]
  },
  {
   "cell_type": "code",
   "execution_count": 230,
   "id": "0fa3eeed-c7cd-421a-b6d4-7a985dd9803b",
   "metadata": {},
   "outputs": [],
   "source": [
    "yo=np.arange(0,9).reshape(3,3)\n",
    "y1=np.arange(3).reshape(3,1)"
   ]
  },
  {
   "cell_type": "code",
   "execution_count": 231,
   "id": "90764ea4-c085-4c9f-82e3-8f2e1f177d76",
   "metadata": {},
   "outputs": [
    {
     "name": "stdout",
     "output_type": "stream",
     "text": [
      "[[0 1 2]\n",
      " [3 4 5]\n",
      " [6 7 8]]\n",
      "[[0]\n",
      " [1]\n",
      " [2]]\n"
     ]
    }
   ],
   "source": [
    "print(yo)\n",
    "print(y1)"
   ]
  },
  {
   "cell_type": "code",
   "execution_count": 232,
   "id": "d3bd469d-1844-4342-9ec3-130aaa4439b3",
   "metadata": {},
   "outputs": [
    {
     "name": "stderr",
     "output_type": "stream",
     "text": [
      "C:\\Users\\ADMIN\\AppData\\Local\\Temp\\ipykernel_11076\\3952391398.py:1: RuntimeWarning: divide by zero encountered in divide\n",
      "  yo/y1\n",
      "C:\\Users\\ADMIN\\AppData\\Local\\Temp\\ipykernel_11076\\3952391398.py:1: RuntimeWarning: invalid value encountered in divide\n",
      "  yo/y1\n"
     ]
    },
    {
     "data": {
      "text/plain": [
       "array([[nan, inf, inf],\n",
       "       [3. , 4. , 5. ],\n",
       "       [3. , 3.5, 4. ]])"
      ]
     },
     "execution_count": 232,
     "metadata": {},
     "output_type": "execute_result"
    }
   ],
   "source": [
    "yo/y1"
   ]
  },
  {
   "cell_type": "markdown",
   "id": "9b844459-3309-46c0-bb9b-777228e58b29",
   "metadata": {},
   "source": [
    "own examples"
   ]
  },
  {
   "cell_type": "code",
   "execution_count": 233,
   "id": "c002138c-9d73-4183-8bf3-ef674327f618",
   "metadata": {},
   "outputs": [],
   "source": [
    "own=np.arange(0,9).reshape(3,3)\n",
    "own2=np.arange(3).reshape(3,1)"
   ]
  },
  {
   "cell_type": "code",
   "execution_count": 234,
   "id": "0dfbbbb7-2bf1-4bd2-94f0-9d4e36392648",
   "metadata": {},
   "outputs": [
    {
     "data": {
      "text/plain": [
       "array([[0, 1, 2],\n",
       "       [3, 4, 5],\n",
       "       [6, 7, 8]])"
      ]
     },
     "execution_count": 234,
     "metadata": {},
     "output_type": "execute_result"
    }
   ],
   "source": [
    "own"
   ]
  },
  {
   "cell_type": "code",
   "execution_count": 235,
   "id": "62f109b2-2e98-4443-86ea-74514b0c7c9d",
   "metadata": {},
   "outputs": [
    {
     "data": {
      "text/plain": [
       "array([[0],\n",
       "       [1],\n",
       "       [2]])"
      ]
     },
     "execution_count": 235,
     "metadata": {},
     "output_type": "execute_result"
    }
   ],
   "source": [
    "own2"
   ]
  },
  {
   "cell_type": "code",
   "execution_count": 236,
   "id": "3850715f-693a-408e-a7b7-b65467653c81",
   "metadata": {},
   "outputs": [
    {
     "data": {
      "text/plain": [
       "array([[ 0,  1,  2],\n",
       "       [ 4,  5,  6],\n",
       "       [ 8,  9, 10]])"
      ]
     },
     "execution_count": 236,
     "metadata": {},
     "output_type": "execute_result"
    }
   ],
   "source": [
    "own+own2"
   ]
  },
  {
   "cell_type": "code",
   "execution_count": 237,
   "id": "3b5f8b63-d952-431d-8d75-efd9cdc36aee",
   "metadata": {},
   "outputs": [],
   "source": [
    "own3=np.arange(3).reshape(1,3)"
   ]
  },
  {
   "cell_type": "code",
   "execution_count": 238,
   "id": "6c6a97f4-cbef-4d7e-a109-1752e8632700",
   "metadata": {},
   "outputs": [
    {
     "data": {
      "text/plain": [
       "array([[0, 1, 2]])"
      ]
     },
     "execution_count": 238,
     "metadata": {},
     "output_type": "execute_result"
    }
   ],
   "source": [
    "own3"
   ]
  },
  {
   "cell_type": "code",
   "execution_count": 239,
   "id": "6301e7f1-7515-41f1-b31c-4064296fd837",
   "metadata": {},
   "outputs": [
    {
     "data": {
      "text/plain": [
       "array([[ 0,  2,  4],\n",
       "       [ 3,  5,  7],\n",
       "       [ 6,  8, 10]])"
      ]
     },
     "execution_count": 239,
     "metadata": {},
     "output_type": "execute_result"
    }
   ],
   "source": [
    "own+own3"
   ]
  },
  {
   "cell_type": "code",
   "execution_count": 240,
   "id": "5a02ece1-4161-4294-bb80-8393dfe5a2ab",
   "metadata": {},
   "outputs": [
    {
     "data": {
      "text/plain": [
       "array([[0, 1, 2],\n",
       "       [3, 4, 5],\n",
       "       [6, 7, 8]])"
      ]
     },
     "execution_count": 240,
     "metadata": {},
     "output_type": "execute_result"
    }
   ],
   "source": [
    "own"
   ]
  },
  {
   "cell_type": "code",
   "execution_count": 241,
   "id": "648e6c91-e699-409e-92d7-94e165694b52",
   "metadata": {},
   "outputs": [],
   "source": [
    "o=np.array(np.random.randint(1))"
   ]
  },
  {
   "cell_type": "code",
   "execution_count": 242,
   "id": "f7d58e4d-f227-45fb-839d-294e8046954e",
   "metadata": {},
   "outputs": [
    {
     "data": {
      "text/plain": [
       "array(0)"
      ]
     },
     "execution_count": 242,
     "metadata": {},
     "output_type": "execute_result"
    }
   ],
   "source": [
    "o"
   ]
  },
  {
   "cell_type": "code",
   "execution_count": 243,
   "id": "841e9aba-848a-4a26-a511-471313bb6ae6",
   "metadata": {},
   "outputs": [
    {
     "data": {
      "text/plain": [
       "array([[0, 0, 0],\n",
       "       [0, 0, 0],\n",
       "       [0, 0, 0]])"
      ]
     },
     "execution_count": 243,
     "metadata": {},
     "output_type": "execute_result"
    }
   ],
   "source": [
    "own*o"
   ]
  },
  {
   "cell_type": "code",
   "execution_count": 244,
   "id": "2b4737b3-4968-4a6a-855a-36b29b672fdd",
   "metadata": {},
   "outputs": [
    {
     "name": "stdout",
     "output_type": "stream",
     "text": [
      "[[0 1 2]]\n",
      "[[0]\n",
      " [1]\n",
      " [2]]\n"
     ]
    }
   ],
   "source": [
    "i=np.arange(3).reshape(1,3)\n",
    "i2=np.arange(3).reshape(3,1)\n",
    "print(i)\n",
    "print(i2)"
   ]
  },
  {
   "cell_type": "code",
   "execution_count": 245,
   "id": "a62e76bf-3bd4-4380-9d43-8ae0aaf0584c",
   "metadata": {},
   "outputs": [
    {
     "data": {
      "text/plain": [
       "array([[0, 1, 2],\n",
       "       [1, 2, 3],\n",
       "       [2, 3, 4]])"
      ]
     },
     "execution_count": 245,
     "metadata": {},
     "output_type": "execute_result"
    }
   ],
   "source": [
    "i+i2"
   ]
  },
  {
   "cell_type": "code",
   "execution_count": 246,
   "id": "c60a6536-ea0d-48cb-8fcd-a75aff7c54ff",
   "metadata": {},
   "outputs": [
    {
     "data": {
      "text/plain": [
       "array([[0, 1, 2],\n",
       "       [1, 2, 3],\n",
       "       [2, 3, 4]])"
      ]
     },
     "execution_count": 246,
     "metadata": {},
     "output_type": "execute_result"
    }
   ],
   "source": [
    "i2+i"
   ]
  },
  {
   "cell_type": "code",
   "execution_count": 247,
   "id": "92782fe1-1a38-4778-97f2-363c59562870",
   "metadata": {},
   "outputs": [
    {
     "data": {
      "text/plain": [
       "array([[0, 0, 0],\n",
       "       [0, 1, 2],\n",
       "       [0, 2, 4]])"
      ]
     },
     "execution_count": 247,
     "metadata": {},
     "output_type": "execute_result"
    }
   ],
   "source": [
    "i*i2"
   ]
  },
  {
   "cell_type": "markdown",
   "id": "3f7b992f-5fa5-451a-916e-d324d888f52f",
   "metadata": {},
   "source": [
    "# 30-Working with mathematical formulas"
   ]
  },
  {
   "cell_type": "code",
   "execution_count": 248,
   "id": "845bf654-4fe6-4a55-a37f-67bd1ccdd858",
   "metadata": {},
   "outputs": [
    {
     "name": "stdout",
     "output_type": "stream",
     "text": [
      "45\n",
      "[ 0.          0.84147098  0.90929743  0.14112001 -0.7568025  -0.95892427\n",
      " -0.2794155   0.6569866   0.98935825  0.41211849]\n"
     ]
    }
   ],
   "source": [
    "k=np.arange(10)\n",
    "print(sum(k))\n",
    "print(np.sin(k))"
   ]
  },
  {
   "cell_type": "markdown",
   "id": "8fbe1cfb-96b3-4f43-8723-cce3084298e4",
   "metadata": {},
   "source": [
    "# working with sigmoid function"
   ]
  },
  {
   "cell_type": "code",
   "execution_count": 249,
   "id": "1196b8e7-4484-4d05-831a-f59d91f99152",
   "metadata": {},
   "outputs": [
    {
     "data": {
      "text/plain": [
       "array([0.5       , 0.73105858, 0.88079708, 0.95257413, 0.98201379,\n",
       "       0.99330715, 0.99752738, 0.99908895, 0.99966465, 0.99987661])"
      ]
     },
     "execution_count": 249,
     "metadata": {},
     "output_type": "execute_result"
    }
   ],
   "source": [
    "def sigmoid(array):\n",
    "    return 1/(1+np.exp(-(array)))\n",
    "k=np.arange(10)\n",
    "sigmoid(k)"
   ]
  },
  {
   "cell_type": "code",
   "execution_count": 250,
   "id": "08798a54-87f6-4ae3-a3a3-9177f275b94d",
   "metadata": {},
   "outputs": [
    {
     "data": {
      "text/plain": [
       "array([0.5       , 0.73105858, 0.88079708, 0.95257413, 0.98201379,\n",
       "       0.99330715, 0.99752738, 0.99908895, 0.99966465, 0.99987661,\n",
       "       0.9999546 , 0.9999833 , 0.99999386, 0.99999774, 0.99999917,\n",
       "       0.99999969, 0.99999989, 0.99999996, 0.99999998, 0.99999999,\n",
       "       1.        , 1.        , 1.        , 1.        , 1.        ,\n",
       "       1.        , 1.        , 1.        , 1.        , 1.        ,\n",
       "       1.        , 1.        , 1.        , 1.        , 1.        ,\n",
       "       1.        , 1.        , 1.        , 1.        , 1.        ,\n",
       "       1.        , 1.        , 1.        , 1.        , 1.        ,\n",
       "       1.        , 1.        , 1.        , 1.        , 1.        ,\n",
       "       1.        , 1.        , 1.        , 1.        , 1.        ,\n",
       "       1.        , 1.        , 1.        , 1.        , 1.        ,\n",
       "       1.        , 1.        , 1.        , 1.        , 1.        ,\n",
       "       1.        , 1.        , 1.        , 1.        , 1.        ,\n",
       "       1.        , 1.        , 1.        , 1.        , 1.        ,\n",
       "       1.        , 1.        , 1.        , 1.        , 1.        ,\n",
       "       1.        , 1.        , 1.        , 1.        , 1.        ,\n",
       "       1.        , 1.        , 1.        , 1.        , 1.        ,\n",
       "       1.        , 1.        , 1.        , 1.        , 1.        ,\n",
       "       1.        , 1.        , 1.        , 1.        , 1.        ])"
      ]
     },
     "execution_count": 250,
     "metadata": {},
     "output_type": "execute_result"
    }
   ],
   "source": [
    "k=np.arange(100)\n",
    "sigmoid(k)"
   ]
  },
  {
   "cell_type": "markdown",
   "id": "fab84f88-acea-48fa-a28c-e4bdfce057d0",
   "metadata": {},
   "source": [
    "#mean squared errors"
   ]
  },
  {
   "cell_type": "code",
   "execution_count": 251,
   "id": "c182876f-48f9-4eea-9139-3e00853dd5f6",
   "metadata": {},
   "outputs": [],
   "source": [
    "actual=np.random.randint(1,50,25)\n",
    "predicted=np.random.randint(1,50,25)"
   ]
  },
  {
   "cell_type": "code",
   "execution_count": 252,
   "id": "f34a2ed4-58e9-4754-a249-1269f40a8f46",
   "metadata": {},
   "outputs": [
    {
     "data": {
      "text/plain": [
       "244.96"
      ]
     },
     "execution_count": 252,
     "metadata": {},
     "output_type": "execute_result"
    }
   ],
   "source": [
    "def mse(actual,predicted):\n",
    "    return np.mean((actual-predicted)**2)\n",
    "mse(actual,predicted)"
   ]
  },
  {
   "cell_type": "code",
   "execution_count": 253,
   "id": "46c65440-c605-4e03-a54b-1ad52402758d",
   "metadata": {},
   "outputs": [
    {
     "data": {
      "text/plain": [
       "0.1024"
      ]
     },
     "execution_count": 253,
     "metadata": {},
     "output_type": "execute_result"
    }
   ],
   "source": [
    "np.mean(actual-predicted)**2"
   ]
  },
  {
   "cell_type": "code",
   "execution_count": 254,
   "id": "baa51385-6031-436d-8f99-dcf31118aef5",
   "metadata": {},
   "outputs": [
    {
     "data": {
      "text/plain": [
       "array([23, 42])"
      ]
     },
     "execution_count": 254,
     "metadata": {},
     "output_type": "execute_result"
    }
   ],
   "source": [
    "np.random.randint(0,50,2)"
   ]
  },
  {
   "cell_type": "markdown",
   "id": "36b898c7-ea55-42c3-b37b-85d0539c292f",
   "metadata": {},
   "source": [
    "#Working with missing values"
   ]
  },
  {
   "cell_type": "code",
   "execution_count": 255,
   "id": "7edd7784-943f-4c49-bcee-15984270395f",
   "metadata": {},
   "outputs": [
    {
     "data": {
      "text/plain": [
       "array([ 1.,  2.,  3.,  4., nan, nan,  6.])"
      ]
     },
     "execution_count": 255,
     "metadata": {},
     "output_type": "execute_result"
    }
   ],
   "source": [
    "s=np.array([1,2,3,4,np.nan,np.nan,6])\n",
    "s"
   ]
  },
  {
   "cell_type": "code",
   "execution_count": 256,
   "id": "e85e566a-4b59-4c4c-80bf-962139614e64",
   "metadata": {},
   "outputs": [
    {
     "data": {
      "text/plain": [
       "array([False, False, False, False,  True,  True, False])"
      ]
     },
     "execution_count": 256,
     "metadata": {},
     "output_type": "execute_result"
    }
   ],
   "source": [
    "np.isnan(s)"
   ]
  },
  {
   "cell_type": "code",
   "execution_count": 257,
   "id": "a8d700bd-6365-43ab-9e18-009449ff0ed7",
   "metadata": {},
   "outputs": [
    {
     "data": {
      "text/plain": [
       "array([nan, nan])"
      ]
     },
     "execution_count": 257,
     "metadata": {},
     "output_type": "execute_result"
    }
   ],
   "source": [
    "s[np.isnan(s)]"
   ]
  },
  {
   "cell_type": "code",
   "execution_count": 258,
   "id": "71425c79-20c7-494d-8493-d4a0de0c4e06",
   "metadata": {},
   "outputs": [
    {
     "data": {
      "text/plain": [
       "array([1., 2., 3., 4., 6.])"
      ]
     },
     "execution_count": 258,
     "metadata": {},
     "output_type": "execute_result"
    }
   ],
   "source": [
    "s[~np.isnan(s)]\n"
   ]
  },
  {
   "cell_type": "markdown",
   "id": "72867182-792e-4968-bf70-a2fa4cb3c359",
   "metadata": {},
   "source": [
    "# 31-Plotting Graphs"
   ]
  },
  {
   "cell_type": "code",
   "execution_count": 259,
   "id": "e68c03a1-1857-4c0c-8c11-232f1cdb3719",
   "metadata": {},
   "outputs": [],
   "source": [
    "x=np.linspace(-10,10,100)\n"
   ]
  },
  {
   "cell_type": "code",
   "execution_count": 260,
   "id": "2e48f6fb-674e-498a-b23e-a1f2459f7b77",
   "metadata": {},
   "outputs": [
    {
     "data": {
      "text/plain": [
       "array([-10.        ,  -9.7979798 ,  -9.5959596 ,  -9.39393939,\n",
       "        -9.19191919,  -8.98989899,  -8.78787879,  -8.58585859,\n",
       "        -8.38383838,  -8.18181818,  -7.97979798,  -7.77777778,\n",
       "        -7.57575758,  -7.37373737,  -7.17171717,  -6.96969697,\n",
       "        -6.76767677,  -6.56565657,  -6.36363636,  -6.16161616,\n",
       "        -5.95959596,  -5.75757576,  -5.55555556,  -5.35353535,\n",
       "        -5.15151515,  -4.94949495,  -4.74747475,  -4.54545455,\n",
       "        -4.34343434,  -4.14141414,  -3.93939394,  -3.73737374,\n",
       "        -3.53535354,  -3.33333333,  -3.13131313,  -2.92929293,\n",
       "        -2.72727273,  -2.52525253,  -2.32323232,  -2.12121212,\n",
       "        -1.91919192,  -1.71717172,  -1.51515152,  -1.31313131,\n",
       "        -1.11111111,  -0.90909091,  -0.70707071,  -0.50505051,\n",
       "        -0.3030303 ,  -0.1010101 ,   0.1010101 ,   0.3030303 ,\n",
       "         0.50505051,   0.70707071,   0.90909091,   1.11111111,\n",
       "         1.31313131,   1.51515152,   1.71717172,   1.91919192,\n",
       "         2.12121212,   2.32323232,   2.52525253,   2.72727273,\n",
       "         2.92929293,   3.13131313,   3.33333333,   3.53535354,\n",
       "         3.73737374,   3.93939394,   4.14141414,   4.34343434,\n",
       "         4.54545455,   4.74747475,   4.94949495,   5.15151515,\n",
       "         5.35353535,   5.55555556,   5.75757576,   5.95959596,\n",
       "         6.16161616,   6.36363636,   6.56565657,   6.76767677,\n",
       "         6.96969697,   7.17171717,   7.37373737,   7.57575758,\n",
       "         7.77777778,   7.97979798,   8.18181818,   8.38383838,\n",
       "         8.58585859,   8.78787879,   8.98989899,   9.19191919,\n",
       "         9.39393939,   9.5959596 ,   9.7979798 ,  10.        ])"
      ]
     },
     "execution_count": 260,
     "metadata": {},
     "output_type": "execute_result"
    }
   ],
   "source": [
    "x"
   ]
  },
  {
   "cell_type": "code",
   "execution_count": 261,
   "id": "7b50000d-5b3e-4db9-a131-87435e1d6cca",
   "metadata": {},
   "outputs": [],
   "source": [
    "y=x"
   ]
  },
  {
   "cell_type": "code",
   "execution_count": 262,
   "id": "97bafc2d-64f5-4a12-b1df-60895ace3a9b",
   "metadata": {},
   "outputs": [
    {
     "data": {
      "text/plain": [
       "array([-10.        ,  -9.7979798 ,  -9.5959596 ,  -9.39393939,\n",
       "        -9.19191919,  -8.98989899,  -8.78787879,  -8.58585859,\n",
       "        -8.38383838,  -8.18181818,  -7.97979798,  -7.77777778,\n",
       "        -7.57575758,  -7.37373737,  -7.17171717,  -6.96969697,\n",
       "        -6.76767677,  -6.56565657,  -6.36363636,  -6.16161616,\n",
       "        -5.95959596,  -5.75757576,  -5.55555556,  -5.35353535,\n",
       "        -5.15151515,  -4.94949495,  -4.74747475,  -4.54545455,\n",
       "        -4.34343434,  -4.14141414,  -3.93939394,  -3.73737374,\n",
       "        -3.53535354,  -3.33333333,  -3.13131313,  -2.92929293,\n",
       "        -2.72727273,  -2.52525253,  -2.32323232,  -2.12121212,\n",
       "        -1.91919192,  -1.71717172,  -1.51515152,  -1.31313131,\n",
       "        -1.11111111,  -0.90909091,  -0.70707071,  -0.50505051,\n",
       "        -0.3030303 ,  -0.1010101 ,   0.1010101 ,   0.3030303 ,\n",
       "         0.50505051,   0.70707071,   0.90909091,   1.11111111,\n",
       "         1.31313131,   1.51515152,   1.71717172,   1.91919192,\n",
       "         2.12121212,   2.32323232,   2.52525253,   2.72727273,\n",
       "         2.92929293,   3.13131313,   3.33333333,   3.53535354,\n",
       "         3.73737374,   3.93939394,   4.14141414,   4.34343434,\n",
       "         4.54545455,   4.74747475,   4.94949495,   5.15151515,\n",
       "         5.35353535,   5.55555556,   5.75757576,   5.95959596,\n",
       "         6.16161616,   6.36363636,   6.56565657,   6.76767677,\n",
       "         6.96969697,   7.17171717,   7.37373737,   7.57575758,\n",
       "         7.77777778,   7.97979798,   8.18181818,   8.38383838,\n",
       "         8.58585859,   8.78787879,   8.98989899,   9.19191919,\n",
       "         9.39393939,   9.5959596 ,   9.7979798 ,  10.        ])"
      ]
     },
     "execution_count": 262,
     "metadata": {},
     "output_type": "execute_result"
    }
   ],
   "source": [
    "y"
   ]
  },
  {
   "cell_type": "code",
   "execution_count": 263,
   "id": "ea106764-52cc-4fbf-b70d-e03ac34d99a7",
   "metadata": {},
   "outputs": [
    {
     "data": {
      "text/plain": [
       "[<matplotlib.lines.Line2D at 0x1ed00883110>]"
      ]
     },
     "execution_count": 263,
     "metadata": {},
     "output_type": "execute_result"
    },
    {
     "data": {
      "image/png": "[encoded data removed]",
      "text/plain": [
       "<Figure size 640x480 with 1 Axes>"
      ]
     },
     "metadata": {},
     "output_type": "display_data"
    }
   ],
   "source": [
    "import matplotlib.pyplot as plt\n",
    "plt.plot(x,y)"
   ]
  },
  {
   "cell_type": "code",
   "execution_count": 264,
   "id": "f26b5ed0-ad45-466f-9f6e-c113be3e9e6e",
   "metadata": {},
   "outputs": [
    {
     "data": {
      "text/plain": [
       "[<matplotlib.lines.Line2D at 0x1ed010caf90>]"
      ]
     },
     "execution_count": 264,
     "metadata": {},
     "output_type": "execute_result"
    },
    {
     "data": {
      "image/png": "[encoded data removed]",
      "text/plain": [
       "<Figure size 640x480 with 1 Axes>"
      ]
     },
     "metadata": {},
     "output_type": "display_data"
    }
   ],
   "source": [
    "x=np.linspace(-10,10,100)\n",
    "y=x**2\n",
    "plt.plot(x,y)"
   ]
  },
  {
   "cell_type": "code",
   "execution_count": 265,
   "id": "acab2608-e3e9-4454-8f1f-a398ff2da79c",
   "metadata": {},
   "outputs": [
    {
     "data": {
      "text/plain": [
       "[<matplotlib.lines.Line2D at 0x1ed008ece60>]"
      ]
     },
     "execution_count": 265,
     "metadata": {},
     "output_type": "execute_result"
    },
    {
     "data": {
      "image/png": "[encoded data removed]",
      "text/plain": [
       "<Figure size 640x480 with 1 Axes>"
      ]
     },
     "metadata": {},
     "output_type": "display_data"
    }
   ],
   "source": [
    "y=np.sin(x)\n",
    "plt.plot(x,y)"
   ]
  },
  {
   "cell_type": "code",
   "execution_count": 266,
   "id": "05b332c2-8b34-45c2-b86e-bf9b4dc05fe5",
   "metadata": {},
   "outputs": [
    {
     "data": {
      "text/plain": [
       "array([-10.        ,  -9.7979798 ,  -9.5959596 ,  -9.39393939,\n",
       "        -9.19191919,  -8.98989899,  -8.78787879,  -8.58585859,\n",
       "        -8.38383838,  -8.18181818,  -7.97979798,  -7.77777778,\n",
       "        -7.57575758,  -7.37373737,  -7.17171717,  -6.96969697,\n",
       "        -6.76767677,  -6.56565657,  -6.36363636,  -6.16161616,\n",
       "        -5.95959596,  -5.75757576,  -5.55555556,  -5.35353535,\n",
       "        -5.15151515,  -4.94949495,  -4.74747475,  -4.54545455,\n",
       "        -4.34343434,  -4.14141414,  -3.93939394,  -3.73737374,\n",
       "        -3.53535354,  -3.33333333,  -3.13131313,  -2.92929293,\n",
       "        -2.72727273,  -2.52525253,  -2.32323232,  -2.12121212,\n",
       "        -1.91919192,  -1.71717172,  -1.51515152,  -1.31313131,\n",
       "        -1.11111111,  -0.90909091,  -0.70707071,  -0.50505051,\n",
       "        -0.3030303 ,  -0.1010101 ,   0.1010101 ,   0.3030303 ,\n",
       "         0.50505051,   0.70707071,   0.90909091,   1.11111111,\n",
       "         1.31313131,   1.51515152,   1.71717172,   1.91919192,\n",
       "         2.12121212,   2.32323232,   2.52525253,   2.72727273,\n",
       "         2.92929293,   3.13131313,   3.33333333,   3.53535354,\n",
       "         3.73737374,   3.93939394,   4.14141414,   4.34343434,\n",
       "         4.54545455,   4.74747475,   4.94949495,   5.15151515,\n",
       "         5.35353535,   5.55555556,   5.75757576,   5.95959596,\n",
       "         6.16161616,   6.36363636,   6.56565657,   6.76767677,\n",
       "         6.96969697,   7.17171717,   7.37373737,   7.57575758,\n",
       "         7.77777778,   7.97979798,   8.18181818,   8.38383838,\n",
       "         8.58585859,   8.78787879,   8.98989899,   9.19191919,\n",
       "         9.39393939,   9.5959596 ,   9.7979798 ,  10.        ])"
      ]
     },
     "execution_count": 266,
     "metadata": {},
     "output_type": "execute_result"
    }
   ],
   "source": [
    "x"
   ]
  },
  {
   "cell_type": "code",
   "execution_count": 267,
   "id": "77102079-4fed-44f6-84c1-56256c8b98dc",
   "metadata": {},
   "outputs": [
    {
     "name": "stderr",
     "output_type": "stream",
     "text": [
      "C:\\Users\\ADMIN\\AppData\\Local\\Temp\\ipykernel_11076\\2553803701.py:1: RuntimeWarning: invalid value encountered in log\n",
      "  y=x * np.log(x)\n"
     ]
    },
    {
     "data": {
      "text/plain": [
       "array([        nan,         nan,         nan,         nan,         nan,\n",
       "               nan,         nan,         nan,         nan,         nan,\n",
       "               nan,         nan,         nan,         nan,         nan,\n",
       "               nan,         nan,         nan,         nan,         nan,\n",
       "               nan,         nan,         nan,         nan,         nan,\n",
       "               nan,         nan,         nan,         nan,         nan,\n",
       "               nan,         nan,         nan,         nan,         nan,\n",
       "               nan,         nan,         nan,         nan,         nan,\n",
       "               nan,         nan,         nan,         nan,         nan,\n",
       "               nan,         nan,         nan,         nan,         nan,\n",
       "       -0.23156917, -0.36179469, -0.34499841, -0.24508811, -0.08664562,\n",
       "        0.11706724,  0.35771614,  0.62956885,  0.92843798,  1.25112931,\n",
       "        1.59512538,  1.95839066,  2.33924512,  2.73627848,  3.14829001,\n",
       "        3.57424504,  4.01324268,  4.46449148,  4.92729058,  5.40101502,\n",
       "        5.88510401,  6.37905156,  6.88239878,  7.39472765,  7.91565571,\n",
       "        8.44483178,  8.98193225,  9.52665793, 10.07873143, 10.6378948 ,\n",
       "       11.20390763, 11.77654526, 12.35559731, 12.94086634, 13.53216672,\n",
       "       14.12932359, 14.73217191, 15.34055573, 15.95432739, 16.57334692,\n",
       "       17.19748143, 17.82660461, 18.46059621, 19.09934166, 19.74273167,\n",
       "       20.39066184, 21.04303237, 21.69974775, 22.36071651, 23.02585093])"
      ]
     },
     "execution_count": 267,
     "metadata": {},
     "output_type": "execute_result"
    }
   ],
   "source": [
    "y=x * np.log(x)\n",
    "y"
   ]
  },
  {
   "cell_type": "code",
   "execution_count": 268,
   "id": "85fa4d9e-cb58-47c0-8aa2-47a468d6d71d",
   "metadata": {},
   "outputs": [
    {
     "data": {
      "text/plain": [
       "[<matplotlib.lines.Line2D at 0x1ed010c99d0>]"
      ]
     },
     "execution_count": 268,
     "metadata": {},
     "output_type": "execute_result"
    },
    {
     "data": {
      "image/png": "[encoded data removed]",
      "text/plain": [
       "<Figure size 640x480 with 1 Axes>"
      ]
     },
     "metadata": {},
     "output_type": "display_data"
    }
   ],
   "source": [
    "plt.plot(x,y)"
   ]
  },
  {
   "cell_type": "code",
   "execution_count": 269,
   "id": "3fa53d96-8def-4348-a700-008d42a23aa3",
   "metadata": {},
   "outputs": [],
   "source": [
    "#sigmoid"
   ]
  },
  {
   "cell_type": "code",
   "execution_count": 270,
   "id": "3215902d-91a6-4bae-80f3-4a685b2ead18",
   "metadata": {},
   "outputs": [
    {
     "data": {
      "text/plain": [
       "array([4.53978687e-05, 5.55606489e-05, 6.79983174e-05, 8.32200197e-05,\n",
       "       1.01848815e-04, 1.24647146e-04, 1.52547986e-04, 1.86692945e-04,\n",
       "       2.28478855e-04, 2.79614739e-04, 3.42191434e-04, 4.18766684e-04,\n",
       "       5.12469082e-04, 6.27124987e-04, 7.67413430e-04, 9.39055039e-04,\n",
       "       1.14904229e-03, 1.40591988e-03, 1.72012560e-03, 2.10440443e-03,\n",
       "       2.57431039e-03, 3.14881358e-03, 3.85103236e-03, 4.70911357e-03,\n",
       "       5.75728612e-03, 7.03711536e-03, 8.59898661e-03, 1.05038445e-02,\n",
       "       1.28252101e-02, 1.56514861e-02, 1.90885420e-02, 2.32625358e-02,\n",
       "       2.83228820e-02, 3.44451957e-02, 4.18339400e-02, 5.07243606e-02,\n",
       "       6.13831074e-02, 7.41067363e-02, 8.92170603e-02, 1.07052146e-01,\n",
       "       1.27951705e-01, 1.52235823e-01, 1.80176593e-01, 2.11963334e-01,\n",
       "       2.47663801e-01, 2.87185901e-01, 3.30246430e-01, 3.76354517e-01,\n",
       "       4.24816868e-01, 4.74768924e-01, 5.25231076e-01, 5.75183132e-01,\n",
       "       6.23645483e-01, 6.69753570e-01, 7.12814099e-01, 7.52336199e-01,\n",
       "       7.88036666e-01, 8.19823407e-01, 8.47764177e-01, 8.72048295e-01,\n",
       "       8.92947854e-01, 9.10782940e-01, 9.25893264e-01, 9.38616893e-01,\n",
       "       9.49275639e-01, 9.58166060e-01, 9.65554804e-01, 9.71677118e-01,\n",
       "       9.76737464e-01, 9.80911458e-01, 9.84348514e-01, 9.87174790e-01,\n",
       "       9.89496155e-01, 9.91401013e-01, 9.92962885e-01, 9.94242714e-01,\n",
       "       9.95290886e-01, 9.96148968e-01, 9.96851186e-01, 9.97425690e-01,\n",
       "       9.97895596e-01, 9.98279874e-01, 9.98594080e-01, 9.98850958e-01,\n",
       "       9.99060945e-01, 9.99232587e-01, 9.99372875e-01, 9.99487531e-01,\n",
       "       9.99581233e-01, 9.99657809e-01, 9.99720385e-01, 9.99771521e-01,\n",
       "       9.99813307e-01, 9.99847452e-01, 9.99875353e-01, 9.99898151e-01,\n",
       "       9.99916780e-01, 9.99932002e-01, 9.99944439e-01, 9.99954602e-01])"
      ]
     },
     "execution_count": 270,
     "metadata": {},
     "output_type": "execute_result"
    }
   ],
   "source": [
    "y=1/(1+np.exp(-x))\n",
    "y"
   ]
  },
  {
   "cell_type": "code",
   "execution_count": 271,
   "id": "bb3ed975-507b-486b-a900-971f178aca7e",
   "metadata": {},
   "outputs": [
    {
     "data": {
      "text/plain": [
       "[<matplotlib.lines.Line2D at 0x1ed021a1100>]"
      ]
     },
     "execution_count": 271,
     "metadata": {},
     "output_type": "execute_result"
    },
    {
     "data": {
      "image/png": "[encoded data removed]",
      "text/plain": [
       "<Figure size 640x480 with 1 Axes>"
      ]
     },
     "metadata": {},
     "output_type": "display_data"
    }
   ],
   "source": [
    "plt.plot(y,x)"
   ]
  },
  {
   "cell_type": "markdown",
   "id": "632c1ed0-197d-4a4b-be7c-0b096694c647",
   "metadata": {},
   "source": [
    "# meshgrid"
   ]
  },
  {
   "cell_type": "code",
   "execution_count": 272,
   "id": "5dfcf22a-051c-4e0e-93ae-e9ead7f8c887",
   "metadata": {},
   "outputs": [
    {
     "name": "stdout",
     "output_type": "stream",
     "text": [
      "[ 0.          0.1010101   0.2020202   0.3030303   0.4040404   0.50505051\n",
      "  0.60606061  0.70707071  0.80808081  0.90909091  1.01010101  1.11111111\n",
      "  1.21212121  1.31313131  1.41414141  1.51515152  1.61616162  1.71717172\n",
      "  1.81818182  1.91919192  2.02020202  2.12121212  2.22222222  2.32323232\n",
      "  2.42424242  2.52525253  2.62626263  2.72727273  2.82828283  2.92929293\n",
      "  3.03030303  3.13131313  3.23232323  3.33333333  3.43434343  3.53535354\n",
      "  3.63636364  3.73737374  3.83838384  3.93939394  4.04040404  4.14141414\n",
      "  4.24242424  4.34343434  4.44444444  4.54545455  4.64646465  4.74747475\n",
      "  4.84848485  4.94949495  5.05050505  5.15151515  5.25252525  5.35353535\n",
      "  5.45454545  5.55555556  5.65656566  5.75757576  5.85858586  5.95959596\n",
      "  6.06060606  6.16161616  6.26262626  6.36363636  6.46464646  6.56565657\n",
      "  6.66666667  6.76767677  6.86868687  6.96969697  7.07070707  7.17171717\n",
      "  7.27272727  7.37373737  7.47474747  7.57575758  7.67676768  7.77777778\n",
      "  7.87878788  7.97979798  8.08080808  8.18181818  8.28282828  8.38383838\n",
      "  8.48484848  8.58585859  8.68686869  8.78787879  8.88888889  8.98989899\n",
      "  9.09090909  9.19191919  9.29292929  9.39393939  9.49494949  9.5959596\n",
      "  9.6969697   9.7979798   9.8989899  10.        ]\n",
      "[ 0.          0.1010101   0.2020202   0.3030303   0.4040404   0.50505051\n",
      "  0.60606061  0.70707071  0.80808081  0.90909091  1.01010101  1.11111111\n",
      "  1.21212121  1.31313131  1.41414141  1.51515152  1.61616162  1.71717172\n",
      "  1.81818182  1.91919192  2.02020202  2.12121212  2.22222222  2.32323232\n",
      "  2.42424242  2.52525253  2.62626263  2.72727273  2.82828283  2.92929293\n",
      "  3.03030303  3.13131313  3.23232323  3.33333333  3.43434343  3.53535354\n",
      "  3.63636364  3.73737374  3.83838384  3.93939394  4.04040404  4.14141414\n",
      "  4.24242424  4.34343434  4.44444444  4.54545455  4.64646465  4.74747475\n",
      "  4.84848485  4.94949495  5.05050505  5.15151515  5.25252525  5.35353535\n",
      "  5.45454545  5.55555556  5.65656566  5.75757576  5.85858586  5.95959596\n",
      "  6.06060606  6.16161616  6.26262626  6.36363636  6.46464646  6.56565657\n",
      "  6.66666667  6.76767677  6.86868687  6.96969697  7.07070707  7.17171717\n",
      "  7.27272727  7.37373737  7.47474747  7.57575758  7.67676768  7.77777778\n",
      "  7.87878788  7.97979798  8.08080808  8.18181818  8.28282828  8.38383838\n",
      "  8.48484848  8.58585859  8.68686869  8.78787879  8.88888889  8.98989899\n",
      "  9.09090909  9.19191919  9.29292929  9.39393939  9.49494949  9.5959596\n",
      "  9.6969697   9.7979798   9.8989899  10.        ]\n"
     ]
    }
   ],
   "source": [
    "x=np.linspace(0,10,100)\n",
    "y=np.linspace(0,10,100)\n",
    "f=x**2+y**2\n",
    "print(x)\n",
    "print(y)"
   ]
  },
  {
   "cell_type": "code",
   "execution_count": 273,
   "id": "b134be25-d682-4639-bb19-0e9d77ecdedc",
   "metadata": {},
   "outputs": [
    {
     "data": {
      "image/png": "[encoded data removed]",
      "text/plain": [
       "<Figure size 400x200 with 1 Axes>"
      ]
     },
     "metadata": {},
     "output_type": "display_data"
    }
   ],
   "source": [
    "plt.figure(figsize=(4,2))\n",
    "plt.plot(f)\n",
    "plt.show()"
   ]
  },
  {
   "cell_type": "code",
   "execution_count": 274,
   "id": "47716f4e-fa53-4773-a078-3074ecaa89d1",
   "metadata": {},
   "outputs": [],
   "source": [
    "x=np.arange(3)\n",
    "y=np.arange(3)"
   ]
  },
  {
   "cell_type": "code",
   "execution_count": 275,
   "id": "92473aaa-d17e-427f-aedc-54b9121f0682",
   "metadata": {},
   "outputs": [
    {
     "name": "stdout",
     "output_type": "stream",
     "text": [
      "[[0 1 2]\n",
      " [0 1 2]\n",
      " [0 1 2]]\n"
     ]
    }
   ],
   "source": [
    "xv,yv=np.meshgrid(x,y)\n",
    "print(xv)"
   ]
  },
  {
   "cell_type": "code",
   "execution_count": 276,
   "id": "0ee058ad-6a29-49e4-8b66-8a125bab1153",
   "metadata": {},
   "outputs": [
    {
     "name": "stdout",
     "output_type": "stream",
     "text": [
      "[[0 0 0]\n",
      " [1 1 1]\n",
      " [2 2 2]]\n"
     ]
    }
   ],
   "source": [
    "print(yv)"
   ]
  },
  {
   "cell_type": "code",
   "execution_count": 277,
   "id": "64d5e5ef-3ecd-4d98-969e-9a54ff2f2f71",
   "metadata": {},
   "outputs": [],
   "source": [
    "p=np.linspace(-4,4,9)\n",
    "v=np.linspace(-5,5,11)"
   ]
  },
  {
   "cell_type": "code",
   "execution_count": 278,
   "id": "d977592c-6e37-4b5b-b547-9209fdabb3a4",
   "metadata": {},
   "outputs": [
    {
     "name": "stdout",
     "output_type": "stream",
     "text": [
      "[[-4. -3. -2. -1.  0.  1.  2.  3.  4.]\n",
      " [-4. -3. -2. -1.  0.  1.  2.  3.  4.]\n",
      " [-4. -3. -2. -1.  0.  1.  2.  3.  4.]\n",
      " [-4. -3. -2. -1.  0.  1.  2.  3.  4.]\n",
      " [-4. -3. -2. -1.  0.  1.  2.  3.  4.]\n",
      " [-4. -3. -2. -1.  0.  1.  2.  3.  4.]\n",
      " [-4. -3. -2. -1.  0.  1.  2.  3.  4.]\n",
      " [-4. -3. -2. -1.  0.  1.  2.  3.  4.]\n",
      " [-4. -3. -2. -1.  0.  1.  2.  3.  4.]\n",
      " [-4. -3. -2. -1.  0.  1.  2.  3.  4.]\n",
      " [-4. -3. -2. -1.  0.  1.  2.  3.  4.]]\n"
     ]
    }
   ],
   "source": [
    "p_1,v_1=np.meshgrid(p,v)\n",
    "print(p_1)"
   ]
  },
  {
   "cell_type": "code",
   "execution_count": 279,
   "id": "10571a0b-2111-4be5-bfa4-9ffec123c4be",
   "metadata": {},
   "outputs": [
    {
     "name": "stdout",
     "output_type": "stream",
     "text": [
      "[[-5. -5. -5. -5. -5. -5. -5. -5. -5.]\n",
      " [-4. -4. -4. -4. -4. -4. -4. -4. -4.]\n",
      " [-3. -3. -3. -3. -3. -3. -3. -3. -3.]\n",
      " [-2. -2. -2. -2. -2. -2. -2. -2. -2.]\n",
      " [-1. -1. -1. -1. -1. -1. -1. -1. -1.]\n",
      " [ 0.  0.  0.  0.  0.  0.  0.  0.  0.]\n",
      " [ 1.  1.  1.  1.  1.  1.  1.  1.  1.]\n",
      " [ 2.  2.  2.  2.  2.  2.  2.  2.  2.]\n",
      " [ 3.  3.  3.  3.  3.  3.  3.  3.  3.]\n",
      " [ 4.  4.  4.  4.  4.  4.  4.  4.  4.]\n",
      " [ 5.  5.  5.  5.  5.  5.  5.  5.  5.]]\n"
     ]
    }
   ],
   "source": [
    "print(v_1)"
   ]
  },
  {
   "cell_type": "code",
   "execution_count": 280,
   "id": "f8096d4e-dc1a-4e0d-851f-667f980f0d5f",
   "metadata": {},
   "outputs": [
    {
     "data": {
      "text/plain": [
       "[<matplotlib.lines.Line2D at 0x1ed02230c80>,\n",
       " <matplotlib.lines.Line2D at 0x1ed02230bc0>,\n",
       " <matplotlib.lines.Line2D at 0x1ed02230f50>,\n",
       " <matplotlib.lines.Line2D at 0x1ed022309b0>,\n",
       " <matplotlib.lines.Line2D at 0x1ed022309e0>,\n",
       " <matplotlib.lines.Line2D at 0x1ed02230d40>,\n",
       " <matplotlib.lines.Line2D at 0x1ed02230500>,\n",
       " <matplotlib.lines.Line2D at 0x1ed022314f0>,\n",
       " <matplotlib.lines.Line2D at 0x1ed02231910>]"
      ]
     },
     "execution_count": 280,
     "metadata": {},
     "output_type": "execute_result"
    },
    {
     "data": {
      "image/png": "[encoded data removed]",
      "text/plain": [
       "<Figure size 640x480 with 1 Axes>"
      ]
     },
     "metadata": {},
     "output_type": "display_data"
    }
   ],
   "source": [
    "plt.plot(p_1,v_1)"
   ]
  },
  {
   "cell_type": "code",
   "execution_count": 281,
   "id": "8bdfd7c8-b9f3-465a-aac5-5f4a32b5c57f",
   "metadata": {},
   "outputs": [
    {
     "data": {
      "text/plain": [
       "array([[0, 1, 4],\n",
       "       [0, 1, 4],\n",
       "       [0, 1, 4]])"
      ]
     },
     "execution_count": 281,
     "metadata": {},
     "output_type": "execute_result"
    }
   ],
   "source": [
    "g=xv**2\n",
    "g"
   ]
  },
  {
   "cell_type": "code",
   "execution_count": 282,
   "id": "9e53f5f9-0c63-4c4d-adc1-a12de980a0b6",
   "metadata": {},
   "outputs": [
    {
     "data": {
      "text/plain": [
       "array([[0, 0, 0],\n",
       "       [1, 1, 1],\n",
       "       [4, 4, 4]])"
      ]
     },
     "execution_count": 282,
     "metadata": {},
     "output_type": "execute_result"
    }
   ],
   "source": [
    "f=yv**2\n",
    "f"
   ]
  },
  {
   "cell_type": "code",
   "execution_count": 283,
   "id": "648c35cc-42cc-4cba-bbbd-d9a59a3bc84c",
   "metadata": {},
   "outputs": [
    {
     "data": {
      "text/plain": [
       "array([[0, 1, 4],\n",
       "       [1, 2, 5],\n",
       "       [4, 5, 8]])"
      ]
     },
     "execution_count": 283,
     "metadata": {},
     "output_type": "execute_result"
    }
   ],
   "source": [
    "g+f"
   ]
  },
  {
   "cell_type": "code",
   "execution_count": 284,
   "id": "a6fde175-10fc-4187-adf7-649b61a5e188",
   "metadata": {},
   "outputs": [
    {
     "data": {
      "text/plain": [
       "array([1, 2, 3, 4])"
      ]
     },
     "execution_count": 284,
     "metadata": {},
     "output_type": "execute_result"
    }
   ],
   "source": [
    "t=np.array([1,2,3,4])\n",
    "t"
   ]
  },
  {
   "cell_type": "code",
   "execution_count": 285,
   "id": "6792de6c-4af4-4bc3-82ea-5777378b181d",
   "metadata": {},
   "outputs": [
    {
     "data": {
      "text/plain": [
       "array([5, 6, 7, 8])"
      ]
     },
     "execution_count": 285,
     "metadata": {},
     "output_type": "execute_result"
    }
   ],
   "source": [
    "t1=np.array([5,6,7,8])\n",
    "t1"
   ]
  },
  {
   "cell_type": "code",
   "execution_count": 286,
   "id": "5686b1d8-3bf7-4446-b633-87b88d3d87bc",
   "metadata": {},
   "outputs": [
    {
     "data": {
      "text/plain": [
       "array([ 6,  8, 10, 12])"
      ]
     },
     "execution_count": 286,
     "metadata": {},
     "output_type": "execute_result"
    }
   ],
   "source": [
    "t+t1"
   ]
  },
  {
   "cell_type": "code",
   "execution_count": 287,
   "id": "7d79f457-2566-4994-b5ff-5c98ff9ee37c",
   "metadata": {},
   "outputs": [
    {
     "data": {
      "text/plain": [
       "array([[5],\n",
       "       [6],\n",
       "       [7],\n",
       "       [8]])"
      ]
     },
     "execution_count": 287,
     "metadata": {},
     "output_type": "execute_result"
    }
   ],
   "source": [
    "t1.reshape(4,1)"
   ]
  },
  {
   "cell_type": "code",
   "execution_count": 288,
   "id": "5b76f4d4-b61d-429f-9f7a-0bd9baf30c52",
   "metadata": {},
   "outputs": [
    {
     "data": {
      "text/plain": [
       "array([ 6,  8, 10, 12])"
      ]
     },
     "execution_count": 288,
     "metadata": {},
     "output_type": "execute_result"
    }
   ],
   "source": [
    "t+t1"
   ]
  },
  {
   "cell_type": "code",
   "execution_count": 289,
   "id": "6d56ad48-6b23-438c-b71f-6e9716086b6e",
   "metadata": {},
   "outputs": [
    {
     "data": {
      "text/plain": [
       "array([ 5, 12, 21, 32])"
      ]
     },
     "execution_count": 289,
     "metadata": {},
     "output_type": "execute_result"
    }
   ],
   "source": [
    "t1*t"
   ]
  },
  {
   "cell_type": "code",
   "execution_count": 290,
   "id": "d4476456-0c02-451d-aed4-ba2b6bc5a86f",
   "metadata": {},
   "outputs": [
    {
     "data": {
      "text/plain": [
       "array([ 5, 12, 21, 32])"
      ]
     },
     "execution_count": 290,
     "metadata": {},
     "output_type": "execute_result"
    }
   ],
   "source": [
    "t*t1"
   ]
  },
  {
   "cell_type": "code",
   "execution_count": 291,
   "id": "379c4418-cd39-49e6-b463-e4239a7286cd",
   "metadata": {},
   "outputs": [],
   "source": [
    "k=np.arange(4).reshape(2,2)\n",
    "k1=np.arange(5,9).reshape(2,2)"
   ]
  },
  {
   "cell_type": "code",
   "execution_count": 292,
   "id": "f97ca8dd-79d3-4e5d-ac11-abb68535d1a1",
   "metadata": {},
   "outputs": [
    {
     "name": "stdout",
     "output_type": "stream",
     "text": [
      "[[0 1]\n",
      " [2 3]]\n",
      "[[5 6]\n",
      " [7 8]]\n"
     ]
    }
   ],
   "source": [
    "print(k)\n",
    "print(k1)"
   ]
  },
  {
   "cell_type": "code",
   "execution_count": 293,
   "id": "fb7b32d8-3783-40e5-af4d-c475756e25a5",
   "metadata": {},
   "outputs": [
    {
     "data": {
      "text/plain": [
       "array([[ 5,  7],\n",
       "       [ 9, 11]])"
      ]
     },
     "execution_count": 293,
     "metadata": {},
     "output_type": "execute_result"
    }
   ],
   "source": [
    "k+k1"
   ]
  },
  {
   "cell_type": "code",
   "execution_count": 294,
   "id": "bc3f2d40-c653-4892-a148-e6a402bd12c7",
   "metadata": {},
   "outputs": [],
   "source": [
    "# now we need to find (x,y)=e-(x*2+y*2)"
   ]
  },
  {
   "cell_type": "code",
   "execution_count": 295,
   "id": "578e0c27-fd12-461e-9e29-15e1fb2ed0c4",
   "metadata": {},
   "outputs": [],
   "source": [
    "x=np.linspace(-2,2,100)\n",
    "y=np.linspace(-1,1,100)\n",
    "xv,yv=np.meshgrid(x,y)\n",
    "f=np.exp(-(xv**2+yv**2))\n"
   ]
  },
  {
   "cell_type": "code",
   "execution_count": 296,
   "id": "a4e153d5-9aef-4c52-ac26-c07c35117953",
   "metadata": {},
   "outputs": [
    {
     "data": {
      "image/png": "[encoded data removed]",
      "text/plain": [
       "<Figure size 600x300 with 1 Axes>"
      ]
     },
     "metadata": {},
     "output_type": "display_data"
    }
   ],
   "source": [
    "plt.figure(figsize=(6,3))\n",
    "plt.pcolor(xv,yv,f,shading='auto')\n",
    "plt.grid()\n",
    "plt.show()\n"
   ]
  },
  {
   "cell_type": "code",
   "execution_count": 297,
   "id": "91a4901b-5df2-462b-bf11-29627ef1f4ee",
   "metadata": {},
   "outputs": [
    {
     "data": {
      "image/png": "[encoded data removed]",
      "text/plain": [
       "<Figure size 600x300 with 2 Axes>"
      ]
     },
     "metadata": {},
     "output_type": "display_data"
    },
    {
     "data": {
      "image/png": "[encoded data removed]",
      "text/plain": [
       "<Figure size 640x480 with 2 Axes>"
      ]
     },
     "metadata": {},
     "output_type": "display_data"
    }
   ],
   "source": [
    "\n",
    " \n",
    " \n",
    " \n",
    " \n",
    " \n",
    " \n",
    " \n",
    " \n",
    " \n",
    " \n",
    " \n",
    " \n",
    " \n",
    " \n",
    " \n",
    " \n",
    " \n",
    "plt.figure(figsize=(6, 3)) \n",
    "plt.pcolormesh(xv, yv, f, shading='auto') \n",
    "plt.colorbar() \n",
    "plt.grid() \n",
    "plt.show() \n",
    "import numpy as np \n",
    "import matplotlib.pyplot as plt \n",
    " \n",
    "def f(x, y): \n",
    " return np.where((x**2 + y**2 < 1), 1.0, 0.0) \n",
    " \n",
    "x = np.linspace(-5, 5, 500) \n",
    "y = np.linspace(-5, 5, 500) \n",
    "xv, yv = np.meshgrid(x, y) \n",
    "rectangular_mask = f(xv, yv) \n",
    " \n",
    "plt.pcolormesh(xv, yv, rectangular_mask, shading='auto') \n",
    "plt.colorbar() \n",
    "plt.grid() \n",
    "plt.show() "
   ]
  },
  {
   "cell_type": "code",
   "execution_count": 298,
   "id": "b5eb0bf7-4479-43e6-afc0-4ce7808930cb",
   "metadata": {},
   "outputs": [
    {
     "data": {
      "image/png": "[encoded data removed]",
      "text/plain": [
       "<Figure size 640x480 with 2 Axes>"
      ]
     },
     "metadata": {},
     "output_type": "display_data"
    }
   ],
   "source": [
    "import numpy as np \n",
    "import matplotlib.pyplot as plt \n",
    " \n",
    "def f(x, y): \n",
    " return np.where((x**2 + y**2 < 1),1.0,0.0) #if (x**2+y**2<1 it will return 1 else it will return 0.0)\n",
    " \n",
    "x = np.linspace(-5, 5, 500) \n",
    "y = np.linspace(-5, 5, 500) \n",
    "xv, yv = np.meshgrid(x, y) \n",
    "rectangular_mask = f(xv, yv) \n",
    " \n",
    "plt.pcolormesh(xv, yv, rectangular_mask, shading='auto') \n",
    "plt.colorbar() \n",
    "plt.grid() \n",
    "plt.show() "
   ]
  },
  {
   "cell_type": "code",
   "execution_count": 299,
   "id": "679032af-ab89-4d5f-bb0e-168fd252a74d",
   "metadata": {},
   "outputs": [
    {
     "name": "stdout",
     "output_type": "stream",
     "text": [
      "[-5.   -3.75 -2.5  -1.25  0.    1.25  2.5   3.75  5.  ]\n"
     ]
    }
   ],
   "source": [
    "x=np.linspace(-5,5,9)\n",
    "y=np.linspace(-4,4,11)\n",
    "print(x)"
   ]
  },
  {
   "cell_type": "code",
   "execution_count": 300,
   "id": "c031a975-c657-4d38-b82c-e5c54d24d7cc",
   "metadata": {},
   "outputs": [
    {
     "name": "stdout",
     "output_type": "stream",
     "text": [
      "[-4.  -3.2 -2.4 -1.6 -0.8  0.   0.8  1.6  2.4  3.2  4. ]\n"
     ]
    }
   ],
   "source": [
    "print(y)"
   ]
  },
  {
   "cell_type": "code",
   "execution_count": 301,
   "id": "03c59ef7-0a72-4ac6-9fcd-2f68711535ee",
   "metadata": {},
   "outputs": [
    {
     "name": "stdout",
     "output_type": "stream",
     "text": [
      "[[-5.   -3.75 -2.5  -1.25  0.    1.25  2.5   3.75  5.  ]\n",
      " [-5.   -3.75 -2.5  -1.25  0.    1.25  2.5   3.75  5.  ]\n",
      " [-5.   -3.75 -2.5  -1.25  0.    1.25  2.5   3.75  5.  ]\n",
      " [-5.   -3.75 -2.5  -1.25  0.    1.25  2.5   3.75  5.  ]\n",
      " [-5.   -3.75 -2.5  -1.25  0.    1.25  2.5   3.75  5.  ]\n",
      " [-5.   -3.75 -2.5  -1.25  0.    1.25  2.5   3.75  5.  ]\n",
      " [-5.   -3.75 -2.5  -1.25  0.    1.25  2.5   3.75  5.  ]\n",
      " [-5.   -3.75 -2.5  -1.25  0.    1.25  2.5   3.75  5.  ]\n",
      " [-5.   -3.75 -2.5  -1.25  0.    1.25  2.5   3.75  5.  ]\n",
      " [-5.   -3.75 -2.5  -1.25  0.    1.25  2.5   3.75  5.  ]\n",
      " [-5.   -3.75 -2.5  -1.25  0.    1.25  2.5   3.75  5.  ]]\n"
     ]
    }
   ],
   "source": [
    "y_v,x_v=np.meshgrid(x,y)\n",
    "print(y_v)"
   ]
  },
  {
   "cell_type": "code",
   "execution_count": 302,
   "id": "7643765c-b684-43c6-b9d8-d8b2dedeb53e",
   "metadata": {},
   "outputs": [
    {
     "name": "stdout",
     "output_type": "stream",
     "text": [
      "[[-4.  -4.  -4.  -4.  -4.  -4.  -4.  -4.  -4. ]\n",
      " [-3.2 -3.2 -3.2 -3.2 -3.2 -3.2 -3.2 -3.2 -3.2]\n",
      " [-2.4 -2.4 -2.4 -2.4 -2.4 -2.4 -2.4 -2.4 -2.4]\n",
      " [-1.6 -1.6 -1.6 -1.6 -1.6 -1.6 -1.6 -1.6 -1.6]\n",
      " [-0.8 -0.8 -0.8 -0.8 -0.8 -0.8 -0.8 -0.8 -0.8]\n",
      " [ 0.   0.   0.   0.   0.   0.   0.   0.   0. ]\n",
      " [ 0.8  0.8  0.8  0.8  0.8  0.8  0.8  0.8  0.8]\n",
      " [ 1.6  1.6  1.6  1.6  1.6  1.6  1.6  1.6  1.6]\n",
      " [ 2.4  2.4  2.4  2.4  2.4  2.4  2.4  2.4  2.4]\n",
      " [ 3.2  3.2  3.2  3.2  3.2  3.2  3.2  3.2  3.2]\n",
      " [ 4.   4.   4.   4.   4.   4.   4.   4.   4. ]]\n"
     ]
    }
   ],
   "source": [
    "print(x_v)"
   ]
  },
  {
   "cell_type": "code",
   "execution_count": 303,
   "id": "458a44a6-e5ab-4560-925d-f1553c7c605b",
   "metadata": {},
   "outputs": [
    {
     "data": {
      "image/png": "[encoded data removed]",
      "text/plain": [
       "<Figure size 640x480 with 2 Axes>"
      ]
     },
     "metadata": {},
     "output_type": "display_data"
    }
   ],
   "source": [
    "random_data = np.random.random((11, 9)) \n",
    "plt.contourf( y_v,x_v, random_data, cmap = 'jet') \n",
    " \n",
    "plt.colorbar() \n",
    "plt.show() "
   ]
  },
  {
   "cell_type": "code",
   "execution_count": 304,
   "id": "2d9a9d99-b33c-44c5-b0f2-dd4417ed7a3d",
   "metadata": {},
   "outputs": [
    {
     "name": "stderr",
     "output_type": "stream",
     "text": [
      "C:\\Users\\ADMIN\\AppData\\Local\\Temp\\ipykernel_11076\\1849885823.py:1: RuntimeWarning: invalid value encountered in divide\n",
      "  sine = (np.sin(x_v**2 + y_v**2))/(x_v**2 + y_v**2)\n"
     ]
    },
    {
     "data": {
      "image/png": "[encoded data removed]",
      "text/plain": [
       "<Figure size 640x480 with 2 Axes>"
      ]
     },
     "metadata": {},
     "output_type": "display_data"
    }
   ],
   "source": [
    "sine = (np.sin(x_v**2 + y_v**2))/(x_v**2 + y_v**2) \n",
    "plt.contourf(x_v, y_v, sine, cmap = 'jet') \n",
    " \n",
    "plt.colorbar() \n",
    "plt.show() "
   ]
  },
  {
   "cell_type": "code",
   "execution_count": 305,
   "id": "1cf41df2-bea6-43be-b872-01f65e7e0b58",
   "metadata": {},
   "outputs": [
    {
     "name": "stdout",
     "output_type": "stream",
     "text": [
      "[[-5.   -3.75 -2.5  -1.25  0.    1.25  2.5   3.75  5.  ]] [[-4. ]\n",
      " [-3.2]\n",
      " [-2.4]\n",
      " [-1.6]\n",
      " [-0.8]\n",
      " [ 0. ]\n",
      " [ 0.8]\n",
      " [ 1.6]\n",
      " [ 2.4]\n",
      " [ 3.2]\n",
      " [ 4. ]]\n"
     ]
    }
   ],
   "source": [
    "x=np.linspace(-5,5,9)\n",
    "y=np.linspace(-4,4,11)\n",
    "x_1,y_1=np.meshgrid(x,y,sparse=1)\n",
    "print(x_1,y_1)"
   ]
  },
  {
   "cell_type": "code",
   "execution_count": 306,
   "id": "a3877761-1c65-4da9-bc05-1694feb161b9",
   "metadata": {},
   "outputs": [
    {
     "data": {
      "text/plain": [
       "array([62, 14, 35, 86, 10, 44, 85, 31,  8, 23, 80, 41, 11, 69, 69])"
      ]
     },
     "execution_count": 306,
     "metadata": {},
     "output_type": "execute_result"
    }
   ],
   "source": [
    "a=np.random.randint(1,100,15)\n",
    "a"
   ]
  },
  {
   "cell_type": "code",
   "execution_count": 307,
   "id": "7a544c67-e0be-4b7f-9e74-57535e2c10e5",
   "metadata": {},
   "outputs": [
    {
     "data": {
      "text/plain": [
       "array([[41, 23, 73, 89],\n",
       "       [44, 48, 43, 92],\n",
       "       [99, 89,  5, 84],\n",
       "       [10, 12,  4, 38],\n",
       "       [ 7, 88, 70, 79],\n",
       "       [33, 34, 98, 25]])"
      ]
     },
     "execution_count": 307,
     "metadata": {},
     "output_type": "execute_result"
    }
   ],
   "source": [
    "b=np.random.randint(1,100,24).reshape(6,4)\n",
    "b"
   ]
  },
  {
   "cell_type": "code",
   "execution_count": 308,
   "id": "72cba905-6ab4-4350-9e08-775140e95cd5",
   "metadata": {},
   "outputs": [
    {
     "data": {
      "text/plain": [
       "array([ 8, 10, 11, 14, 23, 31, 35, 41, 44, 62, 69, 69, 80, 85, 86])"
      ]
     },
     "execution_count": 308,
     "metadata": {},
     "output_type": "execute_result"
    }
   ],
   "source": [
    "np.sort(a)#default=Ascending"
   ]
  },
  {
   "cell_type": "code",
   "execution_count": 309,
   "id": "48c20dfe-feb6-4990-8ee3-b81af4c3b743",
   "metadata": {},
   "outputs": [
    {
     "data": {
      "text/plain": [
       "array([86, 85, 80, 69, 69, 62, 44, 41, 35, 31, 23, 14, 11, 10,  8])"
      ]
     },
     "execution_count": 309,
     "metadata": {},
     "output_type": "execute_result"
    }
   ],
   "source": [
    "np.sort(a)[::-1]#desending order"
   ]
  },
  {
   "cell_type": "code",
   "execution_count": 310,
   "id": "e36d0279-3415-4c14-a384-56032d667447",
   "metadata": {},
   "outputs": [
    {
     "data": {
      "text/plain": [
       "array([[23, 41, 73, 89],\n",
       "       [43, 44, 48, 92],\n",
       "       [ 5, 84, 89, 99],\n",
       "       [ 4, 10, 12, 38],\n",
       "       [ 7, 70, 79, 88],\n",
       "       [25, 33, 34, 98]])"
      ]
     },
     "execution_count": 310,
     "metadata": {},
     "output_type": "execute_result"
    }
   ],
   "source": [
    "np.sort(b)"
   ]
  },
  {
   "cell_type": "code",
   "execution_count": 311,
   "id": "58eaee27-44b1-4a64-b6fc-ffb2568ec906",
   "metadata": {},
   "outputs": [
    {
     "data": {
      "text/plain": [
       "array([[ 7, 12,  4, 25],\n",
       "       [10, 23,  5, 38],\n",
       "       [33, 34, 43, 79],\n",
       "       [41, 48, 70, 84],\n",
       "       [44, 88, 73, 89],\n",
       "       [99, 89, 98, 92]])"
      ]
     },
     "execution_count": 311,
     "metadata": {},
     "output_type": "execute_result"
    }
   ],
   "source": [
    "np.sort(b,axis=0)"
   ]
  },
  {
   "cell_type": "code",
   "execution_count": 312,
   "id": "0255a65b-4972-4339-9ce4-8732798a0ecb",
   "metadata": {},
   "outputs": [
    {
     "data": {
      "text/plain": [
       "array([62, 14, 35, 86, 10, 44, 85, 31,  8, 23, 80, 41, 11, 69, 69])"
      ]
     },
     "execution_count": 312,
     "metadata": {},
     "output_type": "execute_result"
    }
   ],
   "source": [
    "a"
   ]
  },
  {
   "cell_type": "code",
   "execution_count": 313,
   "id": "04a98e04-e9bb-46f8-836e-26c9ef60ef22",
   "metadata": {},
   "outputs": [
    {
     "data": {
      "text/plain": [
       "array([ 62,  14,  35,  86,  10,  44,  85,  31,   8,  23,  80,  41,  11,\n",
       "        69,  69, 200])"
      ]
     },
     "execution_count": 313,
     "metadata": {},
     "output_type": "execute_result"
    }
   ],
   "source": [
    "np.append(a,200)"
   ]
  },
  {
   "cell_type": "code",
   "execution_count": 314,
   "id": "5ec1d595-0d30-4228-af92-d1d24a788858",
   "metadata": {},
   "outputs": [
    {
     "data": {
      "text/plain": [
       "array([[41, 23, 73, 89],\n",
       "       [44, 48, 43, 92],\n",
       "       [99, 89,  5, 84],\n",
       "       [10, 12,  4, 38],\n",
       "       [ 7, 88, 70, 79],\n",
       "       [33, 34, 98, 25]])"
      ]
     },
     "execution_count": 314,
     "metadata": {},
     "output_type": "execute_result"
    }
   ],
   "source": [
    "b"
   ]
  },
  {
   "cell_type": "code",
   "execution_count": 315,
   "id": "588b871a-4d51-4534-8e80-7fa71f6d7768",
   "metadata": {},
   "outputs": [
    {
     "data": {
      "text/plain": [
       "array([41., 23., 73., 89., 44., 48., 43., 92., 99., 89.,  5., 84., 10.,\n",
       "       12.,  4., 38.,  7., 88., 70., 79., 33., 34., 98., 25.,  1.,  1.,\n",
       "        1.,  1.,  1.,  1.])"
      ]
     },
     "execution_count": 315,
     "metadata": {},
     "output_type": "execute_result"
    }
   ],
   "source": [
    "np.append(b,np.ones((b.shape[0])))"
   ]
  },
  {
   "cell_type": "code",
   "execution_count": 316,
   "id": "ca7bc437-1c90-46f9-ae17-418a32f6ecbf",
   "metadata": {},
   "outputs": [
    {
     "data": {
      "text/plain": [
       "array([[41., 23., 73., 89.,  1.,  1.],\n",
       "       [44., 48., 43., 92.,  1.,  1.],\n",
       "       [99., 89.,  5., 84.,  1.,  1.],\n",
       "       [10., 12.,  4., 38.,  1.,  1.],\n",
       "       [ 7., 88., 70., 79.,  1.,  1.],\n",
       "       [33., 34., 98., 25.,  1.,  1.]])"
      ]
     },
     "execution_count": 316,
     "metadata": {},
     "output_type": "execute_result"
    }
   ],
   "source": [
    "np.append(b,np.ones((b.shape[0],1+1)),axis=1)"
   ]
  },
  {
   "cell_type": "code",
   "execution_count": 317,
   "id": "ef111660-d197-418c-ad19-6e694f94ef02",
   "metadata": {},
   "outputs": [],
   "source": [
    "#concatenation"
   ]
  },
  {
   "cell_type": "code",
   "execution_count": 318,
   "id": "f6b48567-e57f-4b79-9cf4-6aa878360de3",
   "metadata": {},
   "outputs": [],
   "source": [
    "c=np.arange(6).reshape(2,3)\n",
    "d=np.arange(6,12).reshape(2,3)"
   ]
  },
  {
   "cell_type": "code",
   "execution_count": 319,
   "id": "bfb33016-ff30-4dd4-94e5-c5509faa48c8",
   "metadata": {},
   "outputs": [
    {
     "data": {
      "text/plain": [
       "array([[0, 1, 2],\n",
       "       [3, 4, 5]])"
      ]
     },
     "execution_count": 319,
     "metadata": {},
     "output_type": "execute_result"
    }
   ],
   "source": [
    "c"
   ]
  },
  {
   "cell_type": "code",
   "execution_count": 320,
   "id": "eedf9bd9-ac4c-4e9e-9047-04fbb1b604d8",
   "metadata": {},
   "outputs": [
    {
     "data": {
      "text/plain": [
       "array([[ 0,  1,  2,  6,  7,  8],\n",
       "       [ 3,  4,  5,  9, 10, 11]])"
      ]
     },
     "execution_count": 320,
     "metadata": {},
     "output_type": "execute_result"
    }
   ],
   "source": [
    "np.concatenate((c,d),axis=1)"
   ]
  },
  {
   "cell_type": "code",
   "execution_count": 321,
   "id": "d330ab59-756a-4033-bf47-41dd588fb76e",
   "metadata": {},
   "outputs": [
    {
     "data": {
      "text/plain": [
       "array([0, 1, 2, 3, 4, 5, 6, 7, 8, 9, 1])"
      ]
     },
     "execution_count": 321,
     "metadata": {},
     "output_type": "execute_result"
    }
   ],
   "source": [
    "a=np.arange(10)\n",
    "np.append(a,1)"
   ]
  },
  {
   "cell_type": "code",
   "execution_count": 322,
   "id": "164c60f8-2465-4a19-b3f7-03aab57b9c47",
   "metadata": {},
   "outputs": [
    {
     "data": {
      "text/plain": [
       "array([0, 1, 2, 3, 4, 5, 6, 7, 8, 9])"
      ]
     },
     "execution_count": 322,
     "metadata": {},
     "output_type": "execute_result"
    }
   ],
   "source": [
    "np.unique(a)"
   ]
  },
  {
   "cell_type": "code",
   "execution_count": 323,
   "id": "41515675-a64d-4904-a14d-ab265c7638f1",
   "metadata": {},
   "outputs": [],
   "source": [
    "#np.extend_dims"
   ]
  },
  {
   "cell_type": "code",
   "execution_count": 324,
   "id": "554e4609-366c-423e-8c6f-d027662d5d7a",
   "metadata": {},
   "outputs": [
    {
     "data": {
      "text/plain": [
       "array([0, 1, 2, 3, 4, 5, 6, 7, 8, 9])"
      ]
     },
     "execution_count": 324,
     "metadata": {},
     "output_type": "execute_result"
    }
   ],
   "source": [
    "a"
   ]
  },
  {
   "cell_type": "code",
   "execution_count": 325,
   "id": "3682dd31-da04-444b-9856-108d7bae02d4",
   "metadata": {},
   "outputs": [
    {
     "data": {
      "text/plain": [
       "array([[0, 1, 2, 3, 4, 5, 6, 7, 8, 9]])"
      ]
     },
     "execution_count": 325,
     "metadata": {},
     "output_type": "execute_result"
    }
   ],
   "source": [
    "np.expand_dims(a,axis=0)"
   ]
  },
  {
   "cell_type": "code",
   "execution_count": 326,
   "id": "b60f0e3a-1e48-441d-bb30-b1be4b465d95",
   "metadata": {},
   "outputs": [
    {
     "data": {
      "text/plain": [
       "array([[0],\n",
       "       [1],\n",
       "       [2],\n",
       "       [3],\n",
       "       [4],\n",
       "       [5],\n",
       "       [6],\n",
       "       [7],\n",
       "       [8],\n",
       "       [9]])"
      ]
     },
     "execution_count": 326,
     "metadata": {},
     "output_type": "execute_result"
    }
   ],
   "source": [
    "np.expand_dims(a,axis=1)"
   ]
  },
  {
   "cell_type": "code",
   "execution_count": 327,
   "id": "24c7d78c-870d-42ef-acb7-e884d76719a6",
   "metadata": {},
   "outputs": [],
   "source": [
    "# np.where"
   ]
  },
  {
   "cell_type": "code",
   "execution_count": 328,
   "id": "8d7b0336-d59e-4c50-9351-05a9626fa71c",
   "metadata": {},
   "outputs": [
    {
     "data": {
      "text/plain": [
       "array([0, 1, 2, 3, 4, 5, 6, 7, 8, 9])"
      ]
     },
     "execution_count": 328,
     "metadata": {},
     "output_type": "execute_result"
    }
   ],
   "source": [
    "a"
   ]
  },
  {
   "cell_type": "code",
   "execution_count": 329,
   "id": "cbba535f-36d0-4b34-867d-3ad275c07425",
   "metadata": {},
   "outputs": [
    {
     "data": {
      "text/plain": [
       "(array([], dtype=int64),)"
      ]
     },
     "execution_count": 329,
     "metadata": {},
     "output_type": "execute_result"
    }
   ],
   "source": [
    "np.where(a>50)"
   ]
  },
  {
   "cell_type": "code",
   "execution_count": 330,
   "id": "2dde77e7-0ef2-4d21-ba0c-0bf192bf7811",
   "metadata": {},
   "outputs": [
    {
     "data": {
      "text/plain": [
       "(array([0, 1, 2, 3, 4, 5, 6, 7, 8, 9], dtype=int64),)"
      ]
     },
     "execution_count": 330,
     "metadata": {},
     "output_type": "execute_result"
    }
   ],
   "source": [
    "np.where(a<40)"
   ]
  },
  {
   "cell_type": "code",
   "execution_count": 331,
   "id": "60fa8403-3262-4216-9554-4104cad1ff9a",
   "metadata": {},
   "outputs": [
    {
     "data": {
      "text/plain": [
       "array([0, 0, 0, 0, 0, 0, 0, 0, 0, 0])"
      ]
     },
     "execution_count": 331,
     "metadata": {},
     "output_type": "execute_result"
    }
   ],
   "source": [
    "np.where(a<50,0,a)"
   ]
  },
  {
   "cell_type": "code",
   "execution_count": 332,
   "id": "a61b1644-ab3b-4b85-bb02-6cd202900012",
   "metadata": {},
   "outputs": [
    {
     "data": {
      "text/plain": [
       "array([0, 1, 2, 3, 4, 5, 6, 7, 8, 9])"
      ]
     },
     "execution_count": 332,
     "metadata": {},
     "output_type": "execute_result"
    }
   ],
   "source": [
    "a"
   ]
  },
  {
   "cell_type": "code",
   "execution_count": 333,
   "id": "ce9d7f56-8b74-40c6-b615-3f1715739470",
   "metadata": {},
   "outputs": [
    {
     "data": {
      "text/plain": [
       "array([0, 1, 0, 3, 0, 5, 0, 7, 0, 9])"
      ]
     },
     "execution_count": 333,
     "metadata": {},
     "output_type": "execute_result"
    }
   ],
   "source": [
    "np.where(a%2==0,0,a)"
   ]
  },
  {
   "cell_type": "code",
   "execution_count": 334,
   "id": "f0134cb8-898a-4923-901d-eaf82de810b5",
   "metadata": {},
   "outputs": [],
   "source": [
    "#np.argmax"
   ]
  },
  {
   "cell_type": "code",
   "execution_count": 335,
   "id": "335bf9e8-a1b8-4569-a81a-59050a5459be",
   "metadata": {},
   "outputs": [
    {
     "data": {
      "text/plain": [
       "9"
      ]
     },
     "execution_count": 335,
     "metadata": {},
     "output_type": "execute_result"
    }
   ],
   "source": [
    "np.argmax(a)"
   ]
  },
  {
   "cell_type": "code",
   "execution_count": 336,
   "id": "a660ea47-8e80-41af-8011-82b83a766fc3",
   "metadata": {},
   "outputs": [
    {
     "data": {
      "text/plain": [
       "array([[41, 23, 73, 89],\n",
       "       [44, 48, 43, 92],\n",
       "       [99, 89,  5, 84],\n",
       "       [10, 12,  4, 38],\n",
       "       [ 7, 88, 70, 79],\n",
       "       [33, 34, 98, 25]])"
      ]
     },
     "execution_count": 336,
     "metadata": {},
     "output_type": "execute_result"
    }
   ],
   "source": [
    "b"
   ]
  },
  {
   "cell_type": "code",
   "execution_count": 337,
   "id": "7d5d67db-e1ca-44d5-9ef5-cfbe999d9177",
   "metadata": {},
   "outputs": [
    {
     "data": {
      "text/plain": [
       "array([3, 3, 0, 3, 1, 2], dtype=int64)"
      ]
     },
     "execution_count": 337,
     "metadata": {},
     "output_type": "execute_result"
    }
   ],
   "source": [
    "np.argmax(b,axis=1)"
   ]
  },
  {
   "cell_type": "code",
   "execution_count": 338,
   "id": "41359162-ded7-42ee-9509-b87872385e94",
   "metadata": {},
   "outputs": [
    {
     "data": {
      "text/plain": [
       "array([2, 2, 5, 1], dtype=int64)"
      ]
     },
     "execution_count": 338,
     "metadata": {},
     "output_type": "execute_result"
    }
   ],
   "source": [
    "np.argmax(b,axis=0)"
   ]
  },
  {
   "cell_type": "code",
   "execution_count": 339,
   "id": "f9a4b3e6-fb1f-4219-8d2a-d2a74d44c23a",
   "metadata": {},
   "outputs": [
    {
     "data": {
      "text/plain": [
       "array([4, 3, 3, 5], dtype=int64)"
      ]
     },
     "execution_count": 339,
     "metadata": {},
     "output_type": "execute_result"
    }
   ],
   "source": [
    "np.argmin(b,axis=0)"
   ]
  },
  {
   "cell_type": "code",
   "execution_count": 340,
   "id": "24bdbdad-51e8-42f2-bc8a-d9d75b49b996",
   "metadata": {},
   "outputs": [],
   "source": [
    "#ON Statistics"
   ]
  },
  {
   "cell_type": "code",
   "execution_count": 341,
   "id": "51b178ca-f72b-4351-a716-f933b0502245",
   "metadata": {},
   "outputs": [],
   "source": [
    "#np.cumsum"
   ]
  },
  {
   "cell_type": "code",
   "execution_count": 342,
   "id": "3a3acb87-e30e-4448-8a09-32a49113b8ef",
   "metadata": {},
   "outputs": [
    {
     "data": {
      "text/plain": [
       "array([0, 1, 2, 3, 4, 5, 6, 7, 8, 9])"
      ]
     },
     "execution_count": 342,
     "metadata": {},
     "output_type": "execute_result"
    }
   ],
   "source": [
    "a"
   ]
  },
  {
   "cell_type": "code",
   "execution_count": 343,
   "id": "7f470311-ee3e-41cb-ad31-ef36d8253686",
   "metadata": {},
   "outputs": [
    {
     "data": {
      "text/plain": [
       "array([ 0,  1,  3,  6, 10, 15, 21, 28, 36, 45])"
      ]
     },
     "execution_count": 343,
     "metadata": {},
     "output_type": "execute_result"
    }
   ],
   "source": [
    "np.cumsum(a)"
   ]
  },
  {
   "cell_type": "code",
   "execution_count": 344,
   "id": "679d9653-7ee6-4eef-95bb-9e366233ed4a",
   "metadata": {},
   "outputs": [
    {
     "data": {
      "text/plain": [
       "array([[ 41,  23,  73,  89],\n",
       "       [ 85,  71, 116, 181],\n",
       "       [184, 160, 121, 265],\n",
       "       [194, 172, 125, 303],\n",
       "       [201, 260, 195, 382],\n",
       "       [234, 294, 293, 407]])"
      ]
     },
     "execution_count": 344,
     "metadata": {},
     "output_type": "execute_result"
    }
   ],
   "source": [
    "np.cumsum(b,axis=0)"
   ]
  },
  {
   "cell_type": "code",
   "execution_count": 345,
   "id": "4568c806-9dd7-437b-ad9f-0eefaad8689f",
   "metadata": {},
   "outputs": [
    {
     "data": {
      "text/plain": [
       "array([[ 41,  64, 137, 226],\n",
       "       [ 44,  92, 135, 227],\n",
       "       [ 99, 188, 193, 277],\n",
       "       [ 10,  22,  26,  64],\n",
       "       [  7,  95, 165, 244],\n",
       "       [ 33,  67, 165, 190]])"
      ]
     },
     "execution_count": 345,
     "metadata": {},
     "output_type": "execute_result"
    }
   ],
   "source": [
    "np.cumsum(b,axis=1)"
   ]
  },
  {
   "cell_type": "code",
   "execution_count": 346,
   "id": "cf0f79cd-0f6e-43b3-9de8-dec4c0cc8723",
   "metadata": {},
   "outputs": [
    {
     "data": {
      "text/plain": [
       "array([0, 0, 0, 0, 0, 0, 0, 0, 0, 0])"
      ]
     },
     "execution_count": 346,
     "metadata": {},
     "output_type": "execute_result"
    }
   ],
   "source": [
    "np.cumproduct(a)"
   ]
  },
  {
   "cell_type": "code",
   "execution_count": 347,
   "id": "d087e474-dc44-40f5-be65-02ac291cdb02",
   "metadata": {},
   "outputs": [
    {
     "data": {
      "text/plain": [
       "array([0, 0, 0, 0, 0, 0, 0, 0, 0, 0])"
      ]
     },
     "execution_count": 347,
     "metadata": {},
     "output_type": "execute_result"
    }
   ],
   "source": [
    "np.cumprod(a)"
   ]
  },
  {
   "cell_type": "code",
   "execution_count": 348,
   "id": "e70023a8-04d1-4fa7-a721-9c2be88085e6",
   "metadata": {},
   "outputs": [],
   "source": [
    "#np.percentile"
   ]
  },
  {
   "cell_type": "code",
   "execution_count": 349,
   "id": "1c89f2bd-096f-4b23-ac64-5f559a5fa30a",
   "metadata": {},
   "outputs": [
    {
     "data": {
      "text/plain": [
       "9.0"
      ]
     },
     "execution_count": 349,
     "metadata": {},
     "output_type": "execute_result"
    }
   ],
   "source": [
    "np.percentile(a,100)"
   ]
  },
  {
   "cell_type": "code",
   "execution_count": 350,
   "id": "6c1db195-bd1e-4024-b1c4-cbbb960b7081",
   "metadata": {},
   "outputs": [
    {
     "data": {
      "text/plain": [
       "0.0"
      ]
     },
     "execution_count": 350,
     "metadata": {},
     "output_type": "execute_result"
    }
   ],
   "source": [
    "np.percentile(a,0)"
   ]
  },
  {
   "cell_type": "code",
   "execution_count": 351,
   "id": "d6c7cc35-ca56-4c34-93ea-e83f549134b6",
   "metadata": {},
   "outputs": [],
   "source": [
    "#np.histogram\n"
   ]
  },
  {
   "cell_type": "code",
   "execution_count": 352,
   "id": "7a6811cd-1e17-4a2a-9335-c87c0232dda3",
   "metadata": {},
   "outputs": [
    {
     "data": {
      "text/plain": [
       "array([0, 1, 2, 3, 4, 5, 6, 7, 8, 9])"
      ]
     },
     "execution_count": 352,
     "metadata": {},
     "output_type": "execute_result"
    }
   ],
   "source": [
    "a"
   ]
  },
  {
   "cell_type": "code",
   "execution_count": 353,
   "id": "0e83a4ad-29b2-4011-b8d0-b147d2e23fb3",
   "metadata": {},
   "outputs": [
    {
     "data": {
      "text/plain": [
       "(array([1, 1, 1, 1, 1, 1, 1, 1, 1, 1], dtype=int64),\n",
       " array([0. , 0.9, 1.8, 2.7, 3.6, 4.5, 5.4, 6.3, 7.2, 8.1, 9. ]))"
      ]
     },
     "execution_count": 353,
     "metadata": {},
     "output_type": "execute_result"
    }
   ],
   "source": [
    "np.histogram(a,)"
   ]
  },
  {
   "cell_type": "code",
   "execution_count": null,
   "id": "03e99ee4-f7c0-43e2-a7df-0dc3c287d4a9",
   "metadata": {},
   "outputs": [],
   "source": []
  },
  {
   "cell_type": "code",
   "execution_count": null,
   "id": "01c9294a-d414-44ab-b1f5-60ffa7427d54",
   "metadata": {},
   "outputs": [],
   "source": []
  },
  {
   "cell_type": "code",
   "execution_count": null,
   "id": "3a605160-22fe-4284-b007-760ae6180065",
   "metadata": {},
   "outputs": [],
   "source": []
  },
  {
   "cell_type": "code",
   "execution_count": null,
   "id": "0a176729-3af9-40d9-9c03-4b342f09be53",
   "metadata": {},
   "outputs": [],
   "source": []
  },
  {
   "cell_type": "code",
   "execution_count": null,
   "id": "85ad8921-a0da-42fb-b95c-3db20d2abe59",
   "metadata": {},
   "outputs": [],
   "source": []
  },
  {
   "cell_type": "code",
   "execution_count": null,
   "id": "25eb2e6b-8194-4d53-ac1e-50c02dba068a",
   "metadata": {},
   "outputs": [],
   "source": []
  },
  {
   "cell_type": "code",
   "execution_count": null,
   "id": "af7912d5-88c3-4d06-b4ad-437d5b6118ef",
   "metadata": {},
   "outputs": [],
   "source": []
  },
  {
   "cell_type": "code",
   "execution_count": null,
   "id": "ce731aaf-3a0d-495b-92bd-11ad2f2db05e",
   "metadata": {},
   "outputs": [],
   "source": []
  }
 ],
 "metadata": {
  "kernelspec": {
   "display_name": "Python 3 (ipykernel)",
   "language": "python",
   "name": "python3"
  },
  "language_info": {
   "codemirror_mode": {
    "name": "ipython",
    "version": 3
   },
   "file_extension": ".py",
   "mimetype": "text/x-python",
   "name": "python",
   "nbconvert_exporter": "python",
   "pygments_lexer": "ipython3",
   "version": "3.12.4"
  }
 },
 "nbformat": 4,
 "nbformat_minor": 5
}
